{
  "nbformat": 4,
  "nbformat_minor": 0,
  "metadata": {
    "colab": {
      "name": "absorption.ipynb",
      "provenance": [],
      "include_colab_link": true
    },
    "kernelspec": {
      "name": "python3",
      "display_name": "Python 3"
    },
    "language_info": {
      "name": "python"
    }
  },
  "cells": [
    {
      "cell_type": "markdown",
      "metadata": {
        "id": "view-in-github",
        "colab_type": "text"
      },
      "source": [
        "<a href=\"https://colab.research.google.com/github/ialara/actf/blob/main/absorption.ipynb\" target=\"_parent\"><img src=\"https://colab.research.google.com/assets/colab-badge.svg\" alt=\"Open In Colab\"/></a>"
      ]
    },
    {
      "cell_type": "markdown",
      "source": [
        "# F-16 Absorption Model\n",
        "## Ignacio Lara\n",
        "\n",
        "### Steps\n",
        "1. Initialization\n",
        "  1. Populate the squadron\n",
        "    * Size (API-1 and API-6)\n",
        "    * Distribution of INX/EXP\n",
        "    * Distribution of sortie counts/qualifications/placement in upgrades\n",
        "1. Inflow new pilots\n",
        "  * Distribution of B-Course vs. FAIP/PQP (including qualifications of nth-tour)\n",
        "  * Distribution of API-1 vs API-6\n",
        "1. Determine resources available\n",
        "   * Flying Hours remaining\n",
        "   * Sorties (capacity, driven by UTE and PAA)\n",
        "   * IPs and/or appropriate upgrade support pilots\n",
        "1. Determine sortie needs\n",
        "   * Upgrade vs. CT\n",
        "   * ASD for FHP accrual\n",
        "1. Schedule resources for sorties\n",
        "1. Attempt to fly sorties\n",
        "   * Refly rate to capture ground abort, incomplete sorties, wx cancellations, etc.\n",
        "   * Decrement FHP for sorties flown\n",
        "1. Credit sortie completion for syllabus and/or RTM \"beans\"\n",
        "1. Award upgrades / experiencing\n",
        "1. Outflow pilots\n",
        "\n",
        "<hr />\n",
        "\n",
        "### 0. Setup"
      ],
      "metadata": {
        "id": "1FOFMsy3tT-_"
      }
    },
    {
      "cell_type": "code",
      "source": [
        "True != True"
      ],
      "metadata": {
        "id": "FXjJdiWsx0uG",
        "outputId": "c1460995-884d-4f6f-bfd3-26ed597a8c6c",
        "colab": {
          "base_uri": "https://localhost:8080/"
        }
      },
      "execution_count": null,
      "outputs": [
        {
          "output_type": "execute_result",
          "data": {
            "text/plain": [
              "False"
            ]
          },
          "metadata": {},
          "execution_count": 65
        }
      ]
    },
    {
      "cell_type": "code",
      "source": [
        ""
      ],
      "metadata": {
        "id": "P6rx_dzLys2R"
      },
      "execution_count": null,
      "outputs": []
    },
    {
      "cell_type": "code",
      "execution_count": 39,
      "metadata": {
        "id": "nBKnRi26tQTu"
      },
      "outputs": [],
      "source": [
        "import numpy as np\n",
        "\n",
        "rng = np.random.default_rng()\n",
        "\n",
        "ug_names = ['MQT', 'FLUG', 'IPUG']\n",
        "ug_rides = [10,     15,     8]\n",
        "ug_quals = ['WM',   'FL',   'IP']\n",
        "\n",
        "class Pilot:\n",
        "    \"\"\"An Air Force F-16 pilot that fills squadron billets\"\"\"\n",
        "    # Syllabus lengths (number of UP sorties)\n",
        "    syllabi_rides = {ug: dur for ug, dur in zip(ug_names, ug_rides)}\n",
        "\n",
        "    # Quals awarded when completing upgrades\n",
        "    ug_awards = {ug: q for ug, q in zip(ug_names, ug_quals)}\n",
        "\n",
        "    # Everyone gets these many sorties from FTU\n",
        "    FTU_sorties = 15\n",
        "\n",
        "    # Definition of experience\n",
        "    exp_sorties = 250\n",
        "    exp_qual = 'FL'\n",
        "\n",
        "    def __init__(self, id, f16_sorties, tos, api_category, quals=[], ug=None):\n",
        "        self.id = id\n",
        "        self.f16_sorties = self.FTU_sorties + f16_sorties\n",
        "        self.tos = tos\n",
        "        self.quals = quals\n",
        "        self.is_exp = False\n",
        "        self.check_experience()\n",
        "        self.api_category = 1 if not self.is_exp else api_category\n",
        "        self.ug = None\n",
        "        if ug is not None:\n",
        "            self.enroll_upgrade(ug)\n",
        "\n",
        "    def log(self, msg, prefix='>>'):\n",
        "        print(f'{prefix} PID {self.id} {msg}')\n",
        "\n",
        "    def enroll_upgrade(self, ug):\n",
        "        assert self.ug is None, 'Pilot already enrolled in upgrade'\n",
        "        assert ug in ug_names, 'Invalid upgrade specified'\n",
        "        assert self.ug_awards[ug] not in self.quals, 'Pilot already completed this upgrade'\n",
        "        self.ug = ug\n",
        "        self.ride_num = 0\n",
        "        self.pending_qual = self.ug_awards[self.ug]\n",
        "        self.log(f'enrolled in {self.ug}')\n",
        "\n",
        "    def disenroll_upgrade(self):\n",
        "        prev_ug = self.ug\n",
        "        self.ug = None\n",
        "        self.log(f'disenrolled from: {prev_ug}', prefix='<<')\n",
        "\n",
        "    def fly_ug_sortie(self):\n",
        "        assert self.ug is not None, 'Pilot not enrolled in upgrade'\n",
        "        self.ride_num += 1\n",
        "        if self.check_ug_complete(self.ug, self.ride_num):\n",
        "          self.award_qual(self.pending_qual)\n",
        "          self.disenroll_upgrade()\n",
        "        self.fly_sortie()\n",
        "\n",
        "    def check_ug_complete(self, ug, ride):\n",
        "        return ride == self.syllabi_rides[ug]\n",
        "\n",
        "    def fly_sortie(self):\n",
        "        self.f16_sorties += 1\n",
        "        self.check_experience()\n",
        "\n",
        "    def award_qual(self, qual):\n",
        "        assert qual in ug_quals, 'Invalid qualification specified'\n",
        "        self.quals.append(qual)\n",
        "        self.log(f'awarded: {qual}', prefix='++')\n",
        "\n",
        "    def check_experience(self):\n",
        "        prev_status = self.is_exp\n",
        "        self.is_exp = (self.f16_sorties >= self.exp_sorties and \n",
        "                      self.exp_qual in self.quals)\n",
        "        if self.is_exp != prev_status:\n",
        "            self.log('EXPERIENCED', prefix='!!')\n",
        "\n",
        "    def summarize(self):\n",
        "        text = 'PID {:2d}: {} | API: {} | SOR: {:4d} | TOS: {:2d}mo. | QL: {}'.format(self.id,\n",
        "                                                            'EXP' if self.is_exp else 'INX',\n",
        "                                                            self.api_category,\n",
        "                                                            self.f16_sorties,\n",
        "                                                            self.tos,\n",
        "                                                            self.quals)\n",
        "        if self.ug is not None:\n",
        "            text += ' | UG: {} #{}'.format(self.ug, self.ride_num)\n",
        "        return text\n",
        "\n",
        "class SquadronRoster:\n",
        "    \"\"\"A collection of Air Force pilots\"\"\"\n",
        "    \n",
        "    def __init__(self, sq_name, pilots=[]):\n",
        "        self.sq_name = sq_name\n",
        "        self.pilots = pilots\n",
        "        self.pid = 0\n",
        "\n",
        "    def add_INX_pilot(self, f16_sorties=0, tos=0, quals=[], ug=None):\n",
        "        pilot = Pilot(self.pid, f16_sorties, tos, 1, quals, ug)\n",
        "        self.pilots.append(pilot)\n",
        "        self.pid += 1\n",
        "        return pilot\n",
        "\n",
        "    def add_EXP_pilot(self, f16_sorties=250, tos=20, api_category=1, quals=ug_quals[:-1], ug=None):\n",
        "        pilot = Pilot(self.pid, f16_sorties, tos, api_category, quals, ug)\n",
        "        self.pilots.append(pilot)\n",
        "        self.pid += 1\n",
        "        return pilot\n",
        "\n",
        "    def populate(self, size=10, prop_INX=0.55, prop_IP=0.3, num_API6=2):\n",
        "        num_INX = int(size*prop_INX)\n",
        "        num_EXP = size - num_INX\n",
        "        ip_billets_remaining = int(num_EXP*prop_IP)\n",
        "        num_API1 = size - num_API6\n",
        "        # Parameters\n",
        "        max_TOS_INX = 24\n",
        "        min_TOS_EXP = 24\n",
        "        max_TOS_EXP = 32\n",
        "\n",
        "        min_f16_sorties_EXP = 250\n",
        "        max_f16_sorties_EXP = 500\n",
        "\n",
        "        max_f16_sorties_INX = 250\n",
        "\n",
        "        staff_billets_remaining = num_API6\n",
        "        # Add EXP pilots\n",
        "        for _ in range(num_EXP):\n",
        "            tos = rng.integers(min_TOS_EXP, max_TOS_EXP + 1)\n",
        "            # Award sorties proportional to TOS\n",
        "            sorties = int((tos - min_TOS_EXP)/(max_TOS_EXP - min_TOS_EXP) *\n",
        "                      (max_f16_sorties_EXP - min_f16_sorties_EXP)) + min_f16_sorties_EXP\n",
        "\n",
        "            quals = ug_quals[:-1]\n",
        "\n",
        "            if staff_billets_remaining > 0:\n",
        "                api = 6\n",
        "                staff_billets_remaining -= 1\n",
        "            else:\n",
        "                api = 1\n",
        "\n",
        "            if ip_billets_remaining > 0:\n",
        "                quals.append(ug_quals[-1])\n",
        "                ip_billets_remaining -= 1\n",
        "              \n",
        "            self.add_EXP_pilot(sorties, tos, api, quals)\n",
        "\n",
        "        # Add INX pilots\n",
        "        for _ in range(num_INX):\n",
        "            tos = rng.integers(max_TOS_INX + 1)\n",
        "            sorties = int(tos/max_TOS_INX * max_f16_sorties_INX)\n",
        "\n",
        "            pilot = self.add_INX_pilot(sorties, tos, ug=ug_names[0], quals=[])\n",
        "            mqt_prog = rng.integers(ug_rides[0]) # Intentionally capping starting INX at 1 MQT ride from end\n",
        "            for s in range(mqt_prog):\n",
        "                pilot.fly_ug_sortie()\n",
        "\n",
        "    def print_sq(self):\n",
        "        print(f'{self.sq_name} SUMMMARY:')\n",
        "        for p in self.pilots:\n",
        "          print(p.summarize())\n",
        "\n",
        "class F16():\n",
        "  \"\"\"A single F-16 jet\"\"\"\n",
        "  hours_between_depot = 500\n",
        "  depot_days = 90\n",
        "  mc_rate = 0.7\n",
        "\n",
        "  def __init__(self, id, num_seats=1, ttaf=2000,\n",
        "               hours_since_last_depot=500):\n",
        "    self.id = id\n",
        "    self.num_seats = num_seats\n",
        "    self.mc_random_draw()\n",
        "    self.ttaf = ttaf\n",
        "    self.hours_since_last_depot = hours_since_last_depot\n",
        "\n",
        "  def log(self, msg, prefix='>>'):\n",
        "    print(f'{prefix} {self.id} {msg}')\n",
        "\n",
        "  def set_nmc(self):\n",
        "    self.log('is NMC', prefix='<<')\n",
        "    self.is_mc = False\n",
        "\n",
        "  def set_mc(self):\n",
        "    self.log('is MC')\n",
        "    self.is_mc = True\n",
        "\n",
        "  def mc_random_draw(self):\n",
        "    self.is_mc = rng.random() <= self.mc_rate\n",
        "\n",
        "  def fly_hours(self, hours):\n",
        "    assert self.is_mc, \"Cannot fly NMC aircraft\"\n",
        "    self.ttaf += hours\n",
        "    self.hours_since_last_depot += hours\n",
        "    self.log(f'flew {hours} hours. TTAF: {self.ttaf}. Hrs since depot: {self.hours_since_last_depot}', prefix='++')\n",
        "    if self.needs_depot():\n",
        "      self.start_depot()\n",
        "\n",
        "  def sortie(self, duration):\n",
        "    if self.is_mc:\n",
        "      self.fly_hours(duration)\n",
        "    else:\n",
        "      self.log('not flown due to NMC.', prefix='<X>')\n",
        "\n",
        "  def needs_depot(self):\n",
        "    return self.hours_since_last_depot >= self.hours_between_depot\n",
        "\n",
        "  def start_depot(self):\n",
        "    self.log('sent to depot!', prefix='!!')\n",
        "    self.set_nmc()\n",
        "    self.days_left_in_depot = self.depot_days\n",
        "\n",
        "  def sit_in_depot(self):\n",
        "    assert self.days_left_in_depot > 0, \"Aircraft already overdue from depot\"\n",
        "    self.days_left_in_depot -= 1\n",
        "\n",
        "  def complete_depot(self):\n",
        "    self.log('depot complete.', prefix='**')\n",
        "    self.set_mc()\n",
        "    self.days_left_in_depot = -1\n",
        "    self.hours_since_last_depot = 0\n",
        "\n",
        "  def print_ac(self):\n",
        "    print(f'{self.id} | MC?: {self.is_mc} | TTAF: {self.ttaf} | Hrs. since depot: {self.hours_since_last_depot}')\n",
        "\n",
        "\n",
        "class DailySchedule():\n",
        "  \"\"\"Pairing of crews and aircraft \"\"\"\n",
        "  pass\n",
        "\n",
        "\n",
        "\n",
        "\n"
      ]
    },
    {
      "cell_type": "code",
      "source": [
        "ac = F16('3AF')\n",
        "\n",
        "ac.print_ac()"
      ],
      "metadata": {
        "id": "5BYX_qeE9SYl",
        "outputId": "b09f7511-b31d-4987-a06e-65841f8b8413",
        "colab": {
          "base_uri": "https://localhost:8080/"
        }
      },
      "execution_count": 30,
      "outputs": [
        {
          "output_type": "stream",
          "name": "stdout",
          "text": [
            "3AF | MC?: True | TTAF: 2000 | Hrs. since depot: 500\n"
          ]
        }
      ]
    },
    {
      "cell_type": "code",
      "source": [
        "ac.sortie(10)"
      ],
      "metadata": {
        "id": "h6EZSJH8DXfP",
        "outputId": "f98c5550-c5b8-4ed8-f1f0-bc004d3ab877",
        "colab": {
          "base_uri": "https://localhost:8080/"
        }
      },
      "execution_count": 38,
      "outputs": [
        {
          "output_type": "stream",
          "name": "stdout",
          "text": [
            "++ 3AF flew 10 hours. TTAF: 2013.5. Hrs since depot: 10\n"
          ]
        }
      ]
    },
    {
      "cell_type": "code",
      "source": [
        "sq.populate()\n",
        "sq.print_sq()"
      ],
      "metadata": {
        "colab": {
          "base_uri": "https://localhost:8080/"
        },
        "id": "HZ21ja5ZAPvG",
        "outputId": "d2d477bc-4c5e-4908-a0bf-7977680e06da"
      },
      "execution_count": null,
      "outputs": [
        {
          "output_type": "stream",
          "name": "stdout",
          "text": [
            "!! PID 0 EXPERIENCED\n",
            "!! PID 1 EXPERIENCED\n",
            "!! PID 2 EXPERIENCED\n",
            "!! PID 3 EXPERIENCED\n",
            "!! PID 4 EXPERIENCED\n",
            ">> PID 5 enrolled in MQT\n",
            ">> PID 6 enrolled in MQT\n",
            ">> PID 7 enrolled in MQT\n",
            ">> PID 8 enrolled in MQT\n",
            ">> PID 9 enrolled in MQT\n",
            "55 FS SUMMMARY:\n",
            "PID  0: EXP | API: 6 | SOR:  358 | TOS: 27mo. | QL: ['WM', 'FL', 'IP']\n",
            "PID  1: EXP | API: 6 | SOR:  483 | TOS: 31mo. | QL: ['WM', 'FL']\n",
            "PID  2: EXP | API: 1 | SOR:  452 | TOS: 30mo. | QL: ['WM', 'FL']\n",
            "PID  3: EXP | API: 1 | SOR:  327 | TOS: 26mo. | QL: ['WM', 'FL']\n",
            "PID  4: EXP | API: 1 | SOR:  358 | TOS: 27mo. | QL: ['WM', 'FL']\n",
            "PID  5: INX | API: 1 | SOR:  152 | TOS: 13mo. | QL: [] | UG: MQT #2\n",
            "PID  6: INX | API: 1 | SOR:   31 | TOS:  1mo. | QL: [] | UG: MQT #6\n",
            "PID  7: INX | API: 1 | SOR:   18 | TOS:  0mo. | QL: [] | UG: MQT #3\n",
            "PID  8: INX | API: 1 | SOR:  216 | TOS: 19mo. | QL: [] | UG: MQT #4\n",
            "PID  9: INX | API: 1 | SOR:  193 | TOS: 17mo. | QL: [] | UG: MQT #1\n"
          ]
        }
      ]
    },
    {
      "cell_type": "code",
      "source": [
        "sq.pilots[8].fly_sortie()\n",
        "\n",
        "sq.print_sq()"
      ],
      "metadata": {
        "id": "plYSGeUQHim9",
        "outputId": "89f60fae-fb30-4b05-b468-a2bc6538ceef",
        "colab": {
          "base_uri": "https://localhost:8080/"
        }
      },
      "execution_count": null,
      "outputs": [
        {
          "output_type": "stream",
          "name": "stdout",
          "text": [
            "55 FS SUMMMARY:\n",
            "PID  0: EXP | API: 6 | SOR:  358 | TOS: 27mo. | QL: ['WM', 'FL', 'IP']\n",
            "PID  1: EXP | API: 6 | SOR:  483 | TOS: 31mo. | QL: ['WM', 'FL']\n",
            "PID  2: EXP | API: 1 | SOR:  452 | TOS: 30mo. | QL: ['WM', 'FL']\n",
            "PID  3: EXP | API: 1 | SOR:  327 | TOS: 26mo. | QL: ['WM', 'FL']\n",
            "PID  4: EXP | API: 1 | SOR:  358 | TOS: 27mo. | QL: ['WM', 'FL']\n",
            "PID  5: INX | API: 1 | SOR:  152 | TOS: 13mo. | QL: [] | UG: MQT #2\n",
            "PID  6: INX | API: 1 | SOR:   31 | TOS:  1mo. | QL: [] | UG: MQT #6\n",
            "PID  7: INX | API: 1 | SOR:   18 | TOS:  0mo. | QL: [] | UG: MQT #3\n",
            "PID  8: EXP | API: 1 | SOR:  255 | TOS: 19mo. | QL: ['WM', 'FL']\n",
            "PID  9: INX | API: 1 | SOR:  193 | TOS: 17mo. | QL: [] | UG: MQT #1\n"
          ]
        }
      ]
    }
  ]
}