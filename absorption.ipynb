{
  "nbformat": 4,
  "nbformat_minor": 0,
  "metadata": {
    "colab": {
      "name": "absorption.ipynb",
      "provenance": [],
      "include_colab_link": true
    },
    "kernelspec": {
      "name": "python3",
      "display_name": "Python 3"
    },
    "language_info": {
      "name": "python"
    }
  },
  "cells": [
    {
      "cell_type": "markdown",
      "metadata": {
        "id": "view-in-github",
        "colab_type": "text"
      },
      "source": [
        "<a href=\"https://colab.research.google.com/github/ialara/actf/blob/main/absorption.ipynb\" target=\"_parent\"><img src=\"https://colab.research.google.com/assets/colab-badge.svg\" alt=\"Open In Colab\"/></a>"
      ]
    },
    {
      "cell_type": "markdown",
      "source": [
        "# F-16 Absorption Model\n",
        "## Ignacio Lara\n",
        "\n",
        "### Steps\n",
        "1. Initialization\n",
        "  1. Populate the squadron\n",
        "    * Size (API-1 and API-6)\n",
        "    * Distribution of INX/EXP\n",
        "    * Distribution of sortie counts/qualifications/placement in upgrades\n",
        "1. Inflow new pilots\n",
        "  * Distribution of B-Course vs. FAIP/PQP (including qualifications of nth-tour)\n",
        "  * Distribution of API-1 vs API-6\n",
        "1. Determine resources available\n",
        "   * Flying Hours remaining\n",
        "   * Sorties (capacity, driven by UTE and PAA)\n",
        "   * IPs and/or appropriate upgrade support pilots\n",
        "1. Determine sortie needs\n",
        "   * Upgrade vs. CT\n",
        "   * ASD for FHP accrual\n",
        "1. Schedule resources for sorties\n",
        "1. Attempt to fly sorties\n",
        "   * Refly rate to capture ground abort, incomplete sorties, wx cancellations, etc.\n",
        "   * Decrement FHP for sorties flown\n",
        "1. Credit sortie completion for syllabus and/or RTM \"beans\"\n",
        "1. Award upgrades / experiencing\n",
        "1. Outflow pilots\n",
        "\n",
        "<hr />\n",
        "\n",
        "### 0. Setup"
      ],
      "metadata": {
        "id": "1FOFMsy3tT-_"
      }
    },
    {
      "cell_type": "code",
      "source": [
        "a = {'foo': 3, 'bar': 247}\n",
        "\n",
        "len(a)"
      ],
      "metadata": {
        "id": "ThsHid6Mx-TT",
        "outputId": "def86526-5ffc-4433-d84f-6ee61298b708",
        "colab": {
          "base_uri": "https://localhost:8080/"
        }
      },
      "execution_count": 1,
      "outputs": [
        {
          "output_type": "execute_result",
          "data": {
            "text/plain": [
              "2"
            ]
          },
          "metadata": {},
          "execution_count": 1
        }
      ]
    },
    {
      "cell_type": "code",
      "execution_count": 2,
      "metadata": {
        "id": "nBKnRi26tQTu"
      },
      "outputs": [],
      "source": [
        "import numpy as np\n",
        "rng = np.random.default_rng()\n",
        "\n",
        "ug_names = ['MQT', 'FLUG', 'IPUG']\n",
        "ug_rides = [9,     9,      9]\n",
        "### Simulator rides\n",
        "# ug_sims =  [7, 5, 6]\n",
        "###\n",
        "ug_quals = ['WG',   'FL',   'IP']\n",
        "\n",
        "fhp = 200\n",
        "wss = 100\n",
        "\n",
        "class Pilot:\n",
        "    \"\"\"An Air Force F-16 pilot that fills squadron billets\"\"\"\n",
        "    # Syllabus lengths (number of UP sorties)\n",
        "    syllabi_rides = {ug: dur for ug, dur in zip(ug_names, ug_rides)}\n",
        "\n",
        "    # Quals awarded when completing upgrades\n",
        "    ug_awards = {ug: q for ug, q in zip(ug_names, ug_quals)}\n",
        "\n",
        "    # Everyone gets these many sorties from FTU\n",
        "    ftu_sorties = 59 # Avg based on 49 WG PA release: https://bit.ly/3R8aADh\n",
        "\n",
        "    # Definition of experience\n",
        "    exp_sorties = 250\n",
        "    exp_qual = ug_quals[1] # FL\n",
        "\n",
        "    def __init__(self, id, f16_sorties, tos, api_category, quals=[], ug=None):\n",
        "        self.id = id\n",
        "        self.f16_sorties = self.ftu_sorties + f16_sorties\n",
        "        self.tos = tos\n",
        "        self.quals = quals\n",
        "        self.is_exp = False\n",
        "        self.check_experience()\n",
        "        self.api_category = 1 if not self.is_exp else api_category\n",
        "        self.ug = None\n",
        "        if ug is not None:\n",
        "            self.enroll_upgrade(ug)\n",
        "\n",
        "    def log(self, msg, prefix='>>'):\n",
        "        print(f'{prefix} PID {self.id} {msg}')\n",
        "\n",
        "    def enroll_upgrade(self, ug):\n",
        "        assert self.ug is None, 'Pilot already enrolled in upgrade'\n",
        "        assert ug in self.ug_awards, 'Invalid upgrade specified'\n",
        "        assert self.ug_awards[ug] not in self.quals, 'Pilot already completed upgrade'\n",
        "        self.ug = ug\n",
        "        self.ride_num = 0\n",
        "        self.pending_qual = self.ug_awards[self.ug]\n",
        "        self.log(f'enrolled in {self.ug}')\n",
        "\n",
        "    def disenroll_upgrade(self):\n",
        "        prev_ug = self.ug\n",
        "        self.ug = None\n",
        "        self.log(f'disenrolled from: {prev_ug}', prefix='<<')\n",
        "\n",
        "    def fly_ug_sortie(self):\n",
        "        assert self.ug is not None, 'Pilot not enrolled in upgrade'\n",
        "        self.ride_num += 1\n",
        "        if self.check_ug_complete(self.ug, self.ride_num):\n",
        "          self.award_qual(self.pending_qual)\n",
        "          self.disenroll_upgrade()\n",
        "        self.fly_sortie()\n",
        "\n",
        "    def check_ug_complete(self, ug, ride):\n",
        "        return ride == self.syllabi_rides[ug]\n",
        "\n",
        "    def fly_sortie(self):\n",
        "        self.f16_sorties += 1\n",
        "        self.check_experience()\n",
        "\n",
        "    def award_qual(self, qual):\n",
        "        assert qual in self.ug_awards.values(), 'Invalid qualification specified'\n",
        "        assert qual not in self.quals, 'Pilot already qualified'\n",
        "        self.quals.append(qual)\n",
        "        self.log(f'awarded: {qual}', prefix='++')\n",
        "        self.check_experience()\n",
        "\n",
        "    def remove_qual(self, qual):\n",
        "        assert qual in self.quals, 'Pilot does not have this qualification'\n",
        "        self.quals.remove(qual)\n",
        "        self.log(f'un-awarded: {qual}', prefix='--')\n",
        "        self.check_experience()\n",
        "\n",
        "    def check_experience(self):\n",
        "        prev_status = self.is_exp\n",
        "        self.is_exp = (self.f16_sorties >= self.exp_sorties and \n",
        "                      self.exp_qual in self.quals)\n",
        "        if self.is_exp and not prev_status:\n",
        "            self.log('EXPERIENCED', prefix='**')\n",
        "\n",
        "    def increment_tos(self, months=1):\n",
        "      assert isinstance(months, (int, float)), 'Months must be numeric'\n",
        "      self.tos += months\n",
        "\n",
        "    def return_experience(self):\n",
        "      return self.is_exp\n",
        "\n",
        "    def return_upgrade(self):\n",
        "      return self.ug\n",
        "\n",
        "    def return_api(self):\n",
        "      return self.api_category\n",
        "\n",
        "    def return_highest_qual(self):\n",
        "      if self.quals == []:\n",
        "        return ''\n",
        "  \n",
        "      return self.quals[-1]\n",
        "\n",
        "    def return_tos(self):\n",
        "      return self.tos\n",
        "\n",
        "    def summarize(self):\n",
        "        text = 'PID {:2d}: {}{} | SOR: {:4d} | TOS: {:04.1f} mo. | QL: {}'.format(self.id,\n",
        "                                                            '6-' if self.api_category == 6 else '',\n",
        "                                                            'EXP' if self.is_exp else 'INX',\n",
        "                                                            self.f16_sorties,\n",
        "                                                            self.tos,\n",
        "                                                            self.quals)\n",
        "        if self.ug is not None:\n",
        "            text += f' | UG: {self.ug} #{self.ride_num + 1}' # +1 to show next (pending) ride\n",
        "            if self.ride_num == self.syllabi_rides[self.ug] - 1:\n",
        "              text += ' (CERT)'\n",
        "        return text\n",
        "\n",
        "class SquadronRoster:\n",
        "    \"\"\"A collection of Air Force pilots in the same squadron\"\"\"\n",
        "    \n",
        "    def __init__(self, sq_name, pilots={}):\n",
        "        self.sq_name = sq_name\n",
        "        self.pilots = dict(pilots)\n",
        "        self.pid = 0\n",
        "\n",
        "    def log(self, msg, prefix='=='):\n",
        "        print(f'{prefix} {self.sq_name} {msg}')\n",
        "\n",
        "    def add_INX_pilot(self, f16_sorties=0, tos=0, quals=[], ug=None):\n",
        "        pid = self.next_pid()\n",
        "        self.pilots[pid] = Pilot(pid, f16_sorties, tos, api_category=1, quals=quals, ug=ug)\n",
        "        return self.pilots[pid]\n",
        "\n",
        "    def next_pid(self):\n",
        "        if len(self.pilots) > 0:\n",
        "          self.pid = max(self.pid, max(self.pilots)) + 1\n",
        "        return self.pid\n",
        "\n",
        "    def add_EXP_pilot(self, f16_sorties=250, tos=20, api_category=1, quals=ug_quals[:-1], ug=None):\n",
        "        pid = self.next_pid()\n",
        "        self.pilots[pid] = Pilot(pid, f16_sorties, tos, api_category, quals, ug)\n",
        "        return self.pilots[pid]\n",
        "\n",
        "    def add_pilots(self, new_pilots):\n",
        "        assert all(isinstance(p, Pilot) for p in new_pilots.values()), 'List must contain Pilot elements'\n",
        "        self.pilots = self.pilots | new_pilots\n",
        "        new_pids = new_pilots.keys()\n",
        "        self.log(f'added PIDs {new_pids}')\n",
        "        return new_pilots\n",
        "\n",
        "    def remove_pilots(self, pids):\n",
        "        assert all(pid in self.pilots for pid in pids), 'Pilot not found'\n",
        "        self.log(f'removed PIDs {pids}', prefix='..')\n",
        "        return [self.pilots.pop(pid) for pid in pids] \n",
        "\n",
        "    def populate(self, num_API1=26, prop_EXP=0.45, prop_IP=0.4, num_API6=10):\n",
        "        num_EXP = rng.binomial(num_API1, prop_EXP)\n",
        "        num_INX = num_API1 - num_EXP\n",
        "        ip_billets_remaining = rng.binomial(num_EXP, prop_IP)\n",
        "        staff_billets_remaining = num_API6\n",
        "\n",
        "        # Parameters\n",
        "        max_TOS_INX = 24\n",
        "        min_TOS_EXP = 24\n",
        "        max_TOS_EXP = 32\n",
        "\n",
        "        min_f16_sorties_EXP = Pilot.exp_sorties\n",
        "        max_f16_sorties_EXP = 500\n",
        "\n",
        "        max_f16_sorties_INX = Pilot.exp_sorties\n",
        "\n",
        "        staff_billets_remaining = num_API6\n",
        "        # Add EXP pilots\n",
        "        for _ in range(num_EXP + num_API6):\n",
        "            tos = rng.integers(min_TOS_EXP, max_TOS_EXP + 1)\n",
        "            # Award sorties proportional to TOS\n",
        "            sorties = int((tos - min_TOS_EXP)/(max_TOS_EXP - min_TOS_EXP) *\n",
        "                      (max_f16_sorties_EXP - min_f16_sorties_EXP)) + min_f16_sorties_EXP\n",
        "\n",
        "            quals = ug_quals[:-1] # Assumed that all EXP are at least FL\n",
        "\n",
        "            if staff_billets_remaining > 0:\n",
        "                api = 6 # Assign staff first\n",
        "                staff_billets_remaining -= 1\n",
        "            else:\n",
        "                api = 1\n",
        "                # Assume only API-1 arrive as IP\n",
        "                if ip_billets_remaining > 0:\n",
        "                    quals.append(ug_quals[-1])\n",
        "                    ip_billets_remaining -= 1\n",
        "              \n",
        "            self.add_EXP_pilot(sorties, tos, api, quals)\n",
        "\n",
        "        # Add INX pilots\n",
        "        for _ in range(num_INX):\n",
        "            tos = rng.integers(max_TOS_INX + 1)\n",
        "            sorties = int(tos/max_TOS_INX * max_f16_sorties_INX)\n",
        "\n",
        "            quals = []\n",
        "\n",
        "            pilot = self.add_INX_pilot(sorties, tos, quals=[])\n",
        "\n",
        "            if pilot.tos > 2:\n",
        "              pilot.award_qual(ug_quals[0])\n",
        "\n",
        "            else:\n",
        "              mqt_progress = rng.integers(pilot.syllabi_rides[ug_names[0]]) # Intentionally capping starting INX at 1 MQT ride from end\n",
        "              pilot.enroll_upgrade(ug_names[0])\n",
        "              for s in range(mqt_progress):\n",
        "                pilot.fly_ug_sortie()\n",
        "\n",
        "    def inflow_nth_tour(self, num_API1, prop_API1_IP, prop_WG, num_API6, prop_API6_IP):\n",
        "      num_IP = rng.binomial(num_API1, prop_API1_IP)\n",
        "      num_INX = rng.binomial(num_API1, prop_WG)\n",
        "      print(f'IP: {num_IP} | INX: {num_INX}')\n",
        "      num_FL = num_API1 - num_IP - num_INX\n",
        "\n",
        "      min_sorties_INX = int(0.6*Pilot.exp_sorties)\n",
        "      max_sorties_INX = int(1.1*Pilot.exp_sorties)\n",
        "\n",
        "      min_sorties_FL = Pilot.exp_sorties\n",
        "      max_sorties_FL = int(2.5*Pilot.exp_sorties)\n",
        "\n",
        "      min_sorties_IP = int(1.5*Pilot.exp_sorties)\n",
        "      max_sorties_IP = 5*Pilot.exp_sorties\n",
        "\n",
        "      new_nth_pilots = []\n",
        "\n",
        "      for _ in range(num_INX):\n",
        "        sorties = rng.integers(min_sorties_INX, max_sorties_INX)\n",
        "        pilot = self.add_INX_pilot(f16_sorties=sorties, quals=[ug_quals[0]])\n",
        "        new_nth_pilots.append(pilot)\n",
        "\n",
        "      for _ in range(num_FL):\n",
        "        sorties = rng.integers(min_sorties_FL, max_sorties_FL)\n",
        "        pilot = self.add_EXP_pilot(f16_sorties=sorties, tos=0, quals=ug_quals[:2])\n",
        "        new_nth_pilots.append(pilot)\n",
        "\n",
        "      num_API6_IP = rng.binomial(num_API6, prop_API6_IP)\n",
        "      for _ in range(num_API6):\n",
        "        sorties = rng.integers(min_sorties_FL, max_sorties_IP)\n",
        "        my_quals = ug_quals[:2]\n",
        "\n",
        "        if num_API6_IP > 0:\n",
        "          my_quals += [ug_quals[-1]]\n",
        "          num_API6_IP -= 1\n",
        "        pilot = self.add_EXP_pilot(f16_sorties=sorties, tos=0, api_category=6, quals=my_quals)\n",
        "        new_nth_pilots.append(pilot)\n",
        "\n",
        "      for _ in range(num_IP):\n",
        "        sorties = rng.integers(min_sorties_IP, max_sorties_IP)\n",
        "        pilot = self.add_EXP_pilot(f16_sorties=sorties, tos=0, quals=ug_quals)\n",
        "        new_nth_pilots.append(pilot)\n",
        "\n",
        "      return new_nth_pilots\n",
        "\n",
        "    def inflow_first_tour(self, num_API1):\n",
        "      new_pilots = []\n",
        "\n",
        "      for _ in range(num_API1):\n",
        "        ftu_sortie_delta = rng.integers(-5, 11)\n",
        "        pilot = self.add_INX_pilot(f16_sorties=ftu_sortie_delta, quals=[])\n",
        "        new_pilots.append(pilot)\n",
        "\n",
        "      return new_pilots\n",
        "\n",
        "    def outflow_pilots(self):\n",
        "      tos_cap = 32\n",
        "      pids_tos_exceeded = [id for id in self.pilots \n",
        "                           if self.pilots[id].return_tos() >= tos_cap]\n",
        "      self.remove_pilots(pids_tos_exceeded)\n",
        "\n",
        "    def get_pilots_qualified_as(self, qual):\n",
        "      return {id: pilot for id, pilot in self.pilots.items() if pilot.return_highest_qual() == qual}\n",
        "\n",
        "    def get_students_in(self, ug):\n",
        "      return {id: pilot for id, pilot in self.pilots.items() if pilot.return_upgrade() == ug}\n",
        "\n",
        "    def summarize(self):\n",
        "      roster_API1 = {k: p for k, p in self.pilots.items() if p.return_api() == 1}\n",
        "\n",
        "      num_EXP = np.sum([p.return_experience() for p in roster_API1.values()])\n",
        "      num_INX = len(roster_API1) - num_EXP\n",
        "      exp_pct = num_EXP / (num_EXP + num_INX)\n",
        "      \n",
        "      upgrades = [p.return_upgrade() for p in roster_API1.values()]\n",
        "      highest_quals = [p.return_highest_qual() for p in roster_API1.values()]\n",
        "      num_MQT = upgrades.count(ug_names[0])\n",
        "      num_FLUG = upgrades.count(ug_names[1])\n",
        "      num_IPUG = upgrades.count(ug_names[2])\n",
        "      num_WG = highest_quals.count(ug_quals[0])\n",
        "      num_FL = highest_quals.count(ug_quals[1])\n",
        "      num_IP = highest_quals.count(ug_quals[2])\n",
        "\n",
        "      print(f'{self.sq_name} SUMMARY:')\n",
        "      print(\n",
        "          f'API-1 ({len(roster_API1)}) >> '\n",
        "          f'EXP: {num_EXP} / INX: {num_INX} | EXP% (API-1): {exp_pct:.2f} | '\n",
        "          f'API-6: {len(self.pilots)-len(roster_API1)} | '\n",
        "          f'{ug_quals[0]}: {num_WG} (+{num_MQT} in {ug_names[0]}) / '\n",
        "          f'{ug_quals[1]}: {num_FL} (+{num_FLUG} in {ug_names[1]}) / '\n",
        "          f'{ug_quals[2]}: {num_IP} (+{num_IPUG} in {ug_names[2]}) ')\n",
        "\n",
        "    \n",
        "    def print_sq(self):\n",
        "        print(f'{self.sq_name} ROSTER:')\n",
        "        for p in self.pilots.values():\n",
        "          print(p.summarize())\n",
        "\n",
        "class FlySchedule:\n",
        "  ug_priorities = {'MQT': 1,\n",
        "                   'IPUG': 2,\n",
        "                   'FLUG': 3}\n",
        "\n",
        "  scheduling_philosophy = 'progression'\n",
        "\n",
        "  max_fhp = 80\n",
        "  max_wss = 68\n",
        "\n",
        "  def __init__(self, students, instructors, support, gos=3, name='default_FlySchedule'):\n",
        "    self.name = name\n",
        "    self.ups = students\n",
        "    self.ips = instructors\n",
        "    self.spt = support\n",
        "    self.gos = gos\n",
        "\n",
        "  def assign_student_priorities(self, students):\n",
        "    for id, student in students.items():\n",
        "      student['priority'] = FlySchedule.ug_priorities[student.return_upgrade()]\n",
        "\n",
        "  def make_schedule(self):\n",
        "    scheduled_lines = []\n",
        "    ips = {}\n",
        "    ups = {}\n",
        "    spt = {}\n",
        "\n",
        "    for _ in range(self.gos):\n",
        "      available_students = list(self.ups)\n",
        "      if self.ug_sortie_possible(self.ips, self.ups, self.spt):\n",
        "        ip = self.ips[rng.choice(list(self.ips))]\n",
        "        up = self.ups[rng.choice(available_students)]\n",
        "        available_students.remove(up.id) # Student can't fly twice on same day\n",
        "        num_spt = 2\n",
        "      else:\n",
        "        num_spt = 4 # CT\n",
        "      \n",
        "      if len(self.spt) >= num_spt:\n",
        "        spt_ids = rng.choice(list(self.spt), num_spt, replace=False)\n",
        "        spt = [self.spt[id] for id in spt_ids]\n",
        "      \n",
        "      scheduled_lines.append(FlightCrew(ips, ups, spt))\n",
        "      return scheduled_lines    \n",
        "\n",
        "  def ug_sortie_possible(self, ips, students, support):\n",
        "    return len(ips) > 0 and len(students) > 0 and len(support) >= 2  \n",
        "\n",
        "class FlightCrew:\n",
        "  def __init__(self, ips={}, ups={}, spt={}):\n",
        "    labels = ['IP', 'UP', 'Support']\n",
        "    self.crew = {lab: None for lab in labels}\n",
        "\n",
        "    for duty_position, pilots in zip(labels,[ips, ups, spt]):\n",
        "      print(pilots)\n",
        "      if len(pilots) > 0:\n",
        "        self.crew[duty_position] = pilots\n",
        "\n",
        "  def summarize(self):\n",
        "    return {duty: [p.id for p in pilot] for duty, pilot in self.crew.items() if pilot is not None}\n",
        "\n",
        "class SimMonth:\n",
        "  month_num = 0\n",
        "  def __init__(self, roster):\n",
        "    self.month = SimMonth.month_num\n",
        "    self.roster = roster\n",
        "\n",
        "  def advance(self, months=1):\n",
        "    SimMonth.month_num += 1\n",
        "    print(f'=====Month {SimMonth.month_num}====')\n",
        "    self.update_tos_values(self.roster.pilots, months)\n",
        "    self.do_inflows(self.roster)\n",
        "    self.do_outflows(self.roster)\n",
        "    for _ in range(20):\n",
        "      self.fly_day(self.roster)\n",
        "\n",
        "  def update_tos_values(self, pilots, months):\n",
        "    for id, pilot in pilots.items():\n",
        "      pilot.increment_tos(months)\n",
        "\n",
        "  def do_inflows(self, roster):\n",
        "    self.roster.inflow_nth_tour(num_API1=10, prop_API1_IP=.4, prop_WG=.2, \n",
        "                                num_API6=3, prop_API6_IP=.6)\n",
        "    self.roster.inflow_first_tour(8)\n",
        "\n",
        "  def do_outflows(self, roster):\n",
        "    self.roster.outflow_pilots()\n",
        "\n",
        "  def fly_day(self, roster):\n",
        "    print('---New day---')\n",
        "    ips = roster.get_pilots_qualified_as('IP')\n",
        "    ups = roster.get_students_in('MQT')\n",
        "    spt = roster.get_pilots_qualified_as('FL')\n",
        "    sched = FlySchedule(ups, ips, spt)\n",
        "    lines = sched.make_schedule()\n",
        "    for line in lines:\n",
        "      print(line.summarize())\n",
        "      self.update_instr_sorties(line.crew['IP'])\n",
        "      self.update_ug_sorties(line.crew['UP'])\n",
        "      self.update_spt_sorties(line.crew['Support'])\n",
        "\n",
        "  def update_instr_sorties(self, ip):\n",
        "    if ip is not None:\n",
        "      ip.fly_sortie()\n",
        "\n",
        "  def update_ug_sorties(self, up):\n",
        "    if up is not None:\n",
        "      up.fly_ug_sortie()\n",
        "\n",
        "  def update_spt_sorties(self, spt):\n",
        "    if spt is not None:\n",
        "      for pilot in spt:\n",
        "        pilot.fly_sortie()\n",
        "\n",
        "  \n",
        "\n",
        "\n",
        "# class F16:\n",
        "#   \"\"\"A single F-16 jet\"\"\"\n",
        "#   hours_between_depot = 500\n",
        "#   depot_days = 90\n",
        "#   mc_rate = 0.7\n",
        "\n",
        "#   def __init__(self, id, num_seats=1, ttaf=2000,\n",
        "#                hours_since_last_depot=500):\n",
        "#     self.id = id\n",
        "#     self.num_seats = num_seats\n",
        "#     self.mc_random_draw()\n",
        "#     self.ttaf = ttaf\n",
        "#     self.hours_since_last_depot = hours_since_last_depot\n",
        "\n",
        "#   def log(self, msg, prefix='>>'):\n",
        "#     print(f'{prefix} {self.id} {msg}')\n",
        "\n",
        "#   def set_nmc(self):\n",
        "#     self.log('is NMC', prefix='<<')\n",
        "#     self.is_mc = False\n",
        "\n",
        "#   def set_mc(self):\n",
        "#     self.log('is MC')\n",
        "#     self.is_mc = True\n",
        "\n",
        "#   def mc_random_draw(self):\n",
        "#     self.is_mc = rng.random() <= self.mc_rate\n",
        "\n",
        "#   def fly_hours(self, hours):\n",
        "#     assert self.is_mc, \"Cannot fly NMC aircraft\"\n",
        "#     self.ttaf += hours\n",
        "#     self.hours_since_last_depot += hours\n",
        "#     self.log(f'flew {hours} hours. TTAF: {self.ttaf}. Hrs since depot: {self.hours_since_last_depot}', prefix='++')\n",
        "#     if self.needs_depot():\n",
        "#       self.start_depot()\n",
        "\n",
        "#   def sortie(self, duration):\n",
        "#     if self.is_mc:\n",
        "#       self.fly_hours(duration)\n",
        "#     else:\n",
        "#       self.log('not flown due to NMC.', prefix='<X>')\n",
        "\n",
        "#   def needs_depot(self):\n",
        "#     return self.hours_since_last_depot >= self.hours_between_depot\n",
        "\n",
        "#   def start_depot(self):\n",
        "#     self.log('sent to depot!', prefix='!!')\n",
        "#     self.set_nmc()\n",
        "#     self.days_left_in_depot = self.depot_days\n",
        "\n",
        "#   def sit_in_depot(self):\n",
        "#     assert self.days_left_in_depot > 0, \"Aircraft already overdue from depot\"\n",
        "#     self.days_left_in_depot -= 1\n",
        "\n",
        "#   def complete_depot(self):\n",
        "#     self.log('depot complete.', prefix='**')\n",
        "#     self.set_mc()\n",
        "#     self.days_left_in_depot = -1\n",
        "#     self.hours_since_last_depot = 0\n",
        "\n",
        "#   def print_ac(self):\n",
        "#     print(f'{self.id} | MC?: {self.is_mc} | TTAF: {self.ttaf} | Hrs. since depot: {self.hours_since_last_depot}')\n",
        "\n",
        "# class SquadronHangar:\n",
        "#   \"\"\"A collection of F-16s assigned to a squadron\"\"\"\n",
        "#   def __init__(self, jets=[]):\n",
        "#     pass\n",
        "\n",
        "#   def populate(self):\n",
        "#     pass\n",
        "\n",
        "#   def summarize(self):\n",
        "#     pass\n",
        "\n",
        "#   def make_fly_order(self):\n",
        "#     pass\n",
        "\n",
        "\n",
        "# class DailySchedule:\n",
        "#   \"\"\"Pairing of crews and aircraft \"\"\"\n",
        "#   pass\n",
        "\n",
        "\n",
        "\n",
        "\n"
      ]
    },
    {
      "cell_type": "markdown",
      "source": [
        "## Pilot class example\n",
        "\n",
        "Contains methods and properties associated with individual pilots. For example:\n",
        "\n",
        "_Methods_\n",
        "- Fly a sortie\n",
        "- Enroll in/disenroll from upgrade\n",
        "- Become experienced\n",
        "\n",
        "_Properties_\n",
        "- \\# sorties\n",
        "- Time on Station\n",
        "- API category\n",
        "- Inexperienced/Experienced status\n",
        "- Qualifications\n",
        "- Upgrade progress\n",
        "\n",
        "Class methods also contain safeguards against improper usage. In this example, we first create an `example_pilot`, with `pid = 0` (pilot ID), `f16_sorties = 24`, `tos = 4` months, and an `API=1`, with no qualifications. Then, we:\n",
        "1. Fly a single sortie for the pilot, updating total sortie count only.\n",
        "1. Attempt to fly an upgrade sortie, even though the pilot is not enrolled in an upgrade (will raise an `AssertionError`). "
      ],
      "metadata": {
        "id": "6s-cnEf-R7vc"
      }
    },
    {
      "cell_type": "code",
      "source": [
        "example_pilot = Pilot(id=0, f16_sorties=24, tos=4, api_category=1, quals=[])\n",
        "print(example_pilot.summarize())\n",
        "\n",
        "example_pilot.fly_sortie()\n",
        "print('---After flying sortie---')\n",
        "print(example_pilot.summarize())\n",
        "print('---Attempt to fly upgrade sortie with no upgrade---')\n",
        "example_pilot.fly_ug_sortie()"
      ],
      "metadata": {
        "id": "gJTF_tqMOWmt",
        "outputId": "37d94bae-001b-4478-f2b5-327bd18a2e07",
        "colab": {
          "base_uri": "https://localhost:8080/",
          "height": 409
        }
      },
      "execution_count": 4,
      "outputs": [
        {
          "output_type": "stream",
          "name": "stdout",
          "text": [
            "PID  0: INX | SOR:   83 | TOS: 04.0 mo. | QL: []\n",
            "---After flying sortie---\n",
            "PID  0: INX | SOR:   84 | TOS: 04.0 mo. | QL: []\n",
            "---Attempt to fly upgrade sortie with no upgrade---\n"
          ]
        },
        {
          "output_type": "error",
          "ename": "AssertionError",
          "evalue": "ignored",
          "traceback": [
            "\u001b[0;31m---------------------------------------------------------------------------\u001b[0m",
            "\u001b[0;31mAssertionError\u001b[0m                            Traceback (most recent call last)",
            "\u001b[0;32m<ipython-input-4-f2e412abc19a>\u001b[0m in \u001b[0;36m<module>\u001b[0;34m\u001b[0m\n\u001b[1;32m      6\u001b[0m \u001b[0mprint\u001b[0m\u001b[0;34m(\u001b[0m\u001b[0mexample_pilot\u001b[0m\u001b[0;34m.\u001b[0m\u001b[0msummarize\u001b[0m\u001b[0;34m(\u001b[0m\u001b[0;34m)\u001b[0m\u001b[0;34m)\u001b[0m\u001b[0;34m\u001b[0m\u001b[0;34m\u001b[0m\u001b[0m\n\u001b[1;32m      7\u001b[0m \u001b[0mprint\u001b[0m\u001b[0;34m(\u001b[0m\u001b[0;34m'---Attempt to fly upgrade sortie with no upgrade---'\u001b[0m\u001b[0;34m)\u001b[0m\u001b[0;34m\u001b[0m\u001b[0;34m\u001b[0m\u001b[0m\n\u001b[0;32m----> 8\u001b[0;31m \u001b[0mexample_pilot\u001b[0m\u001b[0;34m.\u001b[0m\u001b[0mfly_ug_sortie\u001b[0m\u001b[0;34m(\u001b[0m\u001b[0;34m)\u001b[0m\u001b[0;34m\u001b[0m\u001b[0;34m\u001b[0m\u001b[0m\n\u001b[0m",
            "\u001b[0;32m<ipython-input-2-b740d56ed222>\u001b[0m in \u001b[0;36mfly_ug_sortie\u001b[0;34m(self)\u001b[0m\n\u001b[1;32m     54\u001b[0m \u001b[0;34m\u001b[0m\u001b[0m\n\u001b[1;32m     55\u001b[0m     \u001b[0;32mdef\u001b[0m \u001b[0mfly_ug_sortie\u001b[0m\u001b[0;34m(\u001b[0m\u001b[0mself\u001b[0m\u001b[0;34m)\u001b[0m\u001b[0;34m:\u001b[0m\u001b[0;34m\u001b[0m\u001b[0;34m\u001b[0m\u001b[0m\n\u001b[0;32m---> 56\u001b[0;31m         \u001b[0;32massert\u001b[0m \u001b[0mself\u001b[0m\u001b[0;34m.\u001b[0m\u001b[0mug\u001b[0m \u001b[0;32mis\u001b[0m \u001b[0;32mnot\u001b[0m \u001b[0;32mNone\u001b[0m\u001b[0;34m,\u001b[0m \u001b[0;34m'Pilot not enrolled in upgrade'\u001b[0m\u001b[0;34m\u001b[0m\u001b[0;34m\u001b[0m\u001b[0m\n\u001b[0m\u001b[1;32m     57\u001b[0m         \u001b[0mself\u001b[0m\u001b[0;34m.\u001b[0m\u001b[0mride_num\u001b[0m \u001b[0;34m+=\u001b[0m \u001b[0;36m1\u001b[0m\u001b[0;34m\u001b[0m\u001b[0;34m\u001b[0m\u001b[0m\n\u001b[1;32m     58\u001b[0m         \u001b[0;32mif\u001b[0m \u001b[0mself\u001b[0m\u001b[0;34m.\u001b[0m\u001b[0mcheck_ug_complete\u001b[0m\u001b[0;34m(\u001b[0m\u001b[0mself\u001b[0m\u001b[0;34m.\u001b[0m\u001b[0mug\u001b[0m\u001b[0;34m,\u001b[0m \u001b[0mself\u001b[0m\u001b[0;34m.\u001b[0m\u001b[0mride_num\u001b[0m\u001b[0;34m)\u001b[0m\u001b[0;34m:\u001b[0m\u001b[0;34m\u001b[0m\u001b[0;34m\u001b[0m\u001b[0m\n",
            "\u001b[0;31mAssertionError\u001b[0m: Pilot not enrolled in upgrade"
          ]
        }
      ]
    },
    {
      "cell_type": "markdown",
      "source": [
        "We fix the `AssertionError` by enrolling the pilot in MQT. Now, it makes sense to fly an upgrade sortie, which updates totals like before, as well as progressing the pilot through an upgrade syllabus and checking for completion.\n",
        "1. The pilot's progress through MQT is indicated by `UG: MQT #0` (only when enrolled in an upgrade). When the pilot completes MQT, the pilot is awarded the Wingman qualification, shown in `QL = ['WG']`, and disenrolled from MQT.\n",
        "1. When the pilot meets 250 sorties, but without completing FLUG, the pilot is still recognized as inexperienced (`INX`).\n",
        "1. After the pilot completes FLUG, and meets the sortie minimum, the pilot is awarded the FL qualification, disenrolled from FLUG, and updated to reflect experienced status (`EXP`).\n",
        "\n",
        "In practice, these methods and properties will be called by higher-level functions in the simulation. But this example demonstrates some of the functionality present in the `Pilot` class."
      ],
      "metadata": {
        "id": "DjITGMWNTDK_"
      }
    },
    {
      "cell_type": "code",
      "source": [
        "example_pilot.enroll_upgrade('MQT')\n",
        "print(example_pilot.summarize())\n",
        "\n",
        "example_pilot.fly_ug_sortie()\n",
        "print('---After flying MQT sortie---')\n",
        "print(example_pilot.summarize())"
      ],
      "metadata": {
        "id": "v8QGYGtGPBZh",
        "outputId": "40f1af73-60b4-450c-c08f-17bc2c2f4589",
        "colab": {
          "base_uri": "https://localhost:8080/"
        }
      },
      "execution_count": 5,
      "outputs": [
        {
          "output_type": "stream",
          "name": "stdout",
          "text": [
            ">> PID 0 enrolled in MQT\n",
            "PID  0: INX | SOR:   84 | TOS: 04.0 mo. | QL: [] | UG: MQT #1\n",
            "---After flying MQT sortie---\n",
            "PID  0: INX | SOR:   85 | TOS: 04.0 mo. | QL: [] | UG: MQT #2\n"
          ]
        }
      ]
    },
    {
      "cell_type": "code",
      "source": [
        "print('---Fly remaining MQT sorties---')\n",
        "for _ in range(example_pilot.syllabi_rides[example_pilot.ug] - example_pilot.ride_num):\n",
        "  example_pilot.fly_ug_sortie()\n",
        "print(example_pilot.summarize())\n",
        "print()\n",
        "\n",
        "example_pilot.f16_sorties = 250\n",
        "print('---Meet EXP sortie criteria, but not FL---')\n",
        "print(example_pilot.summarize())\n",
        "print()\n",
        "\n",
        "example_pilot.enroll_upgrade('FLUG')\n",
        "\n",
        "for _ in range(example_pilot.syllabi_rides[example_pilot.ug] - 1 - example_pilot.ride_num):\n",
        "  example_pilot.fly_ug_sortie()\n",
        "\n",
        "print('---One ride from completing FLUG---')\n",
        "print(example_pilot.summarize())\n",
        "print()\n",
        "\n",
        "example_pilot.fly_ug_sortie()\n",
        "print('---After completing FLUG, now meets criteria for EXP---')\n",
        "print(example_pilot.summarize())\n"
      ],
      "metadata": {
        "id": "a1DAEmJ5PQ61",
        "outputId": "6f9760bd-1619-4596-eac0-f8bf19df4c10",
        "colab": {
          "base_uri": "https://localhost:8080/"
        }
      },
      "execution_count": 6,
      "outputs": [
        {
          "output_type": "stream",
          "name": "stdout",
          "text": [
            "---Fly remaining MQT sorties---\n",
            "++ PID 0 awarded: WG\n",
            "<< PID 0 disenrolled from: MQT\n",
            "PID  0: INX | SOR:   93 | TOS: 04.0 mo. | QL: ['WG']\n",
            "\n",
            "---Meet EXP sortie criteria, but not FL---\n",
            "PID  0: INX | SOR:  250 | TOS: 04.0 mo. | QL: ['WG']\n",
            "\n",
            ">> PID 0 enrolled in FLUG\n",
            "---One ride from completing FLUG---\n",
            "PID  0: INX | SOR:  258 | TOS: 04.0 mo. | QL: ['WG'] | UG: FLUG #9 (CERT)\n",
            "\n",
            "++ PID 0 awarded: FL\n",
            "** PID 0 EXPERIENCED\n",
            "<< PID 0 disenrolled from: FLUG\n",
            "---After completing FLUG, now meets criteria for EXP---\n",
            "PID  0: EXP | SOR:  259 | TOS: 04.0 mo. | QL: ['WG', 'FL']\n"
          ]
        }
      ]
    },
    {
      "cell_type": "code",
      "source": [
        "example_pilot.increment_tos()\n",
        "print(example_pilot.summarize())\n",
        "\n",
        "example_pilot.increment_tos(1.5)\n",
        "print(example_pilot.summarize())\n",
        "\n",
        "example_pilot.increment_tos(-2.5)\n",
        "print(example_pilot.summarize())"
      ],
      "metadata": {
        "colab": {
          "base_uri": "https://localhost:8080/"
        },
        "id": "GtJBosYjYDID",
        "outputId": "db3724cf-7c80-48f8-e841-0d497e20d5b3"
      },
      "execution_count": 7,
      "outputs": [
        {
          "output_type": "stream",
          "name": "stdout",
          "text": [
            "PID  0: EXP | SOR:  259 | TOS: 05.0 mo. | QL: ['WG', 'FL']\n",
            "PID  0: EXP | SOR:  259 | TOS: 06.5 mo. | QL: ['WG', 'FL']\n",
            "PID  0: EXP | SOR:  259 | TOS: 04.0 mo. | QL: ['WG', 'FL']\n"
          ]
        }
      ]
    },
    {
      "cell_type": "code",
      "source": [
        "example_pilot.remove_qual('FL')\n",
        "print(example_pilot.summarize())\n",
        "\n",
        "example_pilot.award_qual('FL')\n",
        "print(example_pilot.summarize())"
      ],
      "metadata": {
        "colab": {
          "base_uri": "https://localhost:8080/"
        },
        "id": "sJHUrhdtZi22",
        "outputId": "e7467f99-63f8-4881-a2ea-b6ff762303e2"
      },
      "execution_count": 8,
      "outputs": [
        {
          "output_type": "stream",
          "name": "stdout",
          "text": [
            "-- PID 0 un-awarded: FL\n",
            "PID  0: INX | SOR:  259 | TOS: 04.0 mo. | QL: ['WG']\n",
            "++ PID 0 awarded: FL\n",
            "** PID 0 EXPERIENCED\n",
            "PID  0: EXP | SOR:  259 | TOS: 04.0 mo. | QL: ['WG', 'FL']\n"
          ]
        }
      ]
    },
    {
      "cell_type": "markdown",
      "source": [
        "## SquadronRoster example\n",
        "\n",
        "Contains the Pilots (API-1 and API-6) present in a single F-16 squadron. Has some methods and properties that make sense at the squadron level. For example:\n",
        "\n",
        "_Methods_:\n",
        "- Add/remove individual Pilots\n",
        "- Populate an initial squadron with desired size, EXP%, and qualifications\n",
        "\n",
        "_Properties_:\n",
        "- Squadron name\n",
        "- Squadron summary\n",
        "- Summary statistics (EXP%, upgrade sizes, etc.)\n",
        "\n",
        "In this example, we create a notional squadron.\n",
        "\n",
        "The defaults for `SquadronRoster.populate` include:\n",
        "- `num_API1=26` API-1 pilots\n",
        "- `prop_EXP=0.45` percent of API-1 pilots experienced\n",
        "- `prop_IP=0.4` percent of experienced API-1 pilots qualified as instructors\n",
        "- `num_API6=10` API-6 staff pilots"
      ],
      "metadata": {
        "id": "e9p4_jA_U33P"
      }
    },
    {
      "cell_type": "code",
      "source": [
        "sq = SquadronRoster('0th FS', pilots=[])\n",
        "sq.populate()\n",
        "sq.print_sq()\n",
        "print()\n",
        "sq.summarize()"
      ],
      "metadata": {
        "colab": {
          "base_uri": "https://localhost:8080/"
        },
        "id": "HZ21ja5ZAPvG",
        "outputId": "11e990b6-55d9-4b54-ebd3-d8166fa6312d"
      },
      "execution_count": 9,
      "outputs": [
        {
          "output_type": "stream",
          "name": "stdout",
          "text": [
            "** PID 0 EXPERIENCED\n",
            "** PID 1 EXPERIENCED\n",
            "** PID 2 EXPERIENCED\n",
            "** PID 3 EXPERIENCED\n",
            "** PID 4 EXPERIENCED\n",
            "** PID 5 EXPERIENCED\n",
            "** PID 6 EXPERIENCED\n",
            "** PID 7 EXPERIENCED\n",
            "** PID 8 EXPERIENCED\n",
            "** PID 9 EXPERIENCED\n",
            "** PID 10 EXPERIENCED\n",
            "** PID 11 EXPERIENCED\n",
            "** PID 12 EXPERIENCED\n",
            "** PID 13 EXPERIENCED\n",
            "** PID 14 EXPERIENCED\n",
            "** PID 15 EXPERIENCED\n",
            "** PID 16 EXPERIENCED\n",
            "** PID 17 EXPERIENCED\n",
            "** PID 18 EXPERIENCED\n",
            "** PID 19 EXPERIENCED\n",
            "** PID 20 EXPERIENCED\n",
            "** PID 21 EXPERIENCED\n",
            "** PID 22 EXPERIENCED\n",
            "** PID 23 EXPERIENCED\n",
            "** PID 24 EXPERIENCED\n",
            "** PID 25 EXPERIENCED\n",
            "++ PID 26 awarded: WG\n",
            "++ PID 27 awarded: WG\n",
            "++ PID 28 awarded: WG\n",
            ">> PID 29 enrolled in MQT\n",
            "++ PID 30 awarded: WG\n",
            "++ PID 31 awarded: WG\n",
            "++ PID 32 awarded: WG\n",
            "++ PID 33 awarded: WG\n",
            "++ PID 34 awarded: WG\n",
            "++ PID 35 awarded: WG\n",
            "0th FS ROSTER:\n",
            "PID  0: 6-EXP | SOR:  371 | TOS: 26.0 mo. | QL: ['WG', 'FL']\n",
            "PID  1: 6-EXP | SOR:  496 | TOS: 30.0 mo. | QL: ['WG', 'FL']\n",
            "PID  2: 6-EXP | SOR:  527 | TOS: 31.0 mo. | QL: ['WG', 'FL']\n",
            "PID  3: 6-EXP | SOR:  496 | TOS: 30.0 mo. | QL: ['WG', 'FL']\n",
            "PID  4: 6-EXP | SOR:  340 | TOS: 25.0 mo. | QL: ['WG', 'FL']\n",
            "PID  5: 6-EXP | SOR:  527 | TOS: 31.0 mo. | QL: ['WG', 'FL']\n",
            "PID  6: 6-EXP | SOR:  465 | TOS: 29.0 mo. | QL: ['WG', 'FL']\n",
            "PID  7: 6-EXP | SOR:  371 | TOS: 26.0 mo. | QL: ['WG', 'FL']\n",
            "PID  8: 6-EXP | SOR:  402 | TOS: 27.0 mo. | QL: ['WG', 'FL']\n",
            "PID  9: 6-EXP | SOR:  559 | TOS: 32.0 mo. | QL: ['WG', 'FL']\n",
            "PID 10: EXP | SOR:  402 | TOS: 27.0 mo. | QL: ['WG', 'FL', 'IP']\n",
            "PID 11: EXP | SOR:  496 | TOS: 30.0 mo. | QL: ['WG', 'FL', 'IP']\n",
            "PID 12: EXP | SOR:  527 | TOS: 31.0 mo. | QL: ['WG', 'FL', 'IP']\n",
            "PID 13: EXP | SOR:  559 | TOS: 32.0 mo. | QL: ['WG', 'FL', 'IP']\n",
            "PID 14: EXP | SOR:  465 | TOS: 29.0 mo. | QL: ['WG', 'FL', 'IP']\n",
            "PID 15: EXP | SOR:  465 | TOS: 29.0 mo. | QL: ['WG', 'FL', 'IP']\n",
            "PID 16: EXP | SOR:  496 | TOS: 30.0 mo. | QL: ['WG', 'FL', 'IP']\n",
            "PID 17: EXP | SOR:  402 | TOS: 27.0 mo. | QL: ['WG', 'FL']\n",
            "PID 18: EXP | SOR:  465 | TOS: 29.0 mo. | QL: ['WG', 'FL']\n",
            "PID 19: EXP | SOR:  434 | TOS: 28.0 mo. | QL: ['WG', 'FL']\n",
            "PID 20: EXP | SOR:  371 | TOS: 26.0 mo. | QL: ['WG', 'FL']\n",
            "PID 21: EXP | SOR:  527 | TOS: 31.0 mo. | QL: ['WG', 'FL']\n",
            "PID 22: EXP | SOR:  340 | TOS: 25.0 mo. | QL: ['WG', 'FL']\n",
            "PID 23: EXP | SOR:  402 | TOS: 27.0 mo. | QL: ['WG', 'FL']\n",
            "PID 24: EXP | SOR:  496 | TOS: 30.0 mo. | QL: ['WG', 'FL']\n",
            "PID 25: EXP | SOR:  559 | TOS: 32.0 mo. | QL: ['WG', 'FL']\n",
            "PID 26: INX | SOR:  194 | TOS: 13.0 mo. | QL: ['WG']\n",
            "PID 27: INX | SOR:  309 | TOS: 24.0 mo. | QL: ['WG']\n",
            "PID 28: INX | SOR:  215 | TOS: 15.0 mo. | QL: ['WG']\n",
            "PID 29: INX | SOR:   82 | TOS: 02.0 mo. | QL: [] | UG: MQT #4\n",
            "PID 30: INX | SOR:  298 | TOS: 23.0 mo. | QL: ['WG']\n",
            "PID 31: INX | SOR:  277 | TOS: 21.0 mo. | QL: ['WG']\n",
            "PID 32: INX | SOR:   90 | TOS: 03.0 mo. | QL: ['WG']\n",
            "PID 33: INX | SOR:  256 | TOS: 19.0 mo. | QL: ['WG']\n",
            "PID 34: INX | SOR:  256 | TOS: 19.0 mo. | QL: ['WG']\n",
            "PID 35: INX | SOR:  288 | TOS: 22.0 mo. | QL: ['WG']\n",
            "\n",
            "0th FS SUMMARY:\n",
            "API-1 (26) >> EXP: 16 / INX: 10 | EXP% (API-1): 0.62 | API-6: 10 | WG: 9 (+1 in MQT) / FL: 9 (+0 in FLUG) / IP: 7 (+0 in IPUG) \n"
          ]
        }
      ]
    },
    {
      "cell_type": "markdown",
      "source": [
        "## SimMonth example"
      ],
      "metadata": {
        "id": "-synGsEru7rl"
      }
    },
    {
      "cell_type": "code",
      "source": [
        "sq.summarize()"
      ],
      "metadata": {
        "id": "Sj5cSjlfvCqF",
        "outputId": "6def3fe1-dad0-482b-8e39-097504cab7ce",
        "colab": {
          "base_uri": "https://localhost:8080/"
        }
      },
      "execution_count": 10,
      "outputs": [
        {
          "output_type": "stream",
          "name": "stdout",
          "text": [
            "0th FS SUMMARY:\n",
            "API-1 (26) >> EXP: 16 / INX: 10 | EXP% (API-1): 0.62 | API-6: 10 | WG: 9 (+1 in MQT) / FL: 9 (+0 in FLUG) / IP: 7 (+0 in IPUG) \n"
          ]
        }
      ]
    },
    {
      "cell_type": "code",
      "source": [
        "my_month = SimMonth(sq)\n",
        "\n",
        "my_month.advance()"
      ],
      "metadata": {
        "id": "lKc_1OJUPgPP",
        "outputId": "d7bdc3dc-64d3-4b15-86f3-5398b04ce99d",
        "colab": {
          "base_uri": "https://localhost:8080/"
        }
      },
      "execution_count": 11,
      "outputs": [
        {
          "output_type": "stream",
          "name": "stdout",
          "text": [
            "=====Month 1====\n",
            "IP: 6 | INX: 0\n",
            "** PID 36 EXPERIENCED\n",
            "** PID 37 EXPERIENCED\n",
            "** PID 38 EXPERIENCED\n",
            "** PID 39 EXPERIENCED\n",
            "** PID 40 EXPERIENCED\n",
            "** PID 41 EXPERIENCED\n",
            "** PID 42 EXPERIENCED\n",
            "** PID 43 EXPERIENCED\n",
            "** PID 44 EXPERIENCED\n",
            "** PID 45 EXPERIENCED\n",
            "** PID 46 EXPERIENCED\n",
            "** PID 47 EXPERIENCED\n",
            "** PID 48 EXPERIENCED\n",
            ".. 0th FS removed PIDs [2, 5, 9, 12, 13, 21, 25]\n",
            "---New day---\n",
            "{}\n",
            "{}\n",
            "[<__main__.Pilot object at 0x7f285d237f50>, <__main__.Pilot object at 0x7f285d241110>]\n",
            "{'Support': [20, 7]}\n",
            "---New day---\n",
            "{}\n",
            "{}\n",
            "[<__main__.Pilot object at 0x7f285d241110>, <__main__.Pilot object at 0x7f285d256d10>]\n",
            "{'Support': [7, 6]}\n",
            "---New day---\n",
            "{}\n",
            "{}\n",
            "[<__main__.Pilot object at 0x7f285d2373d0>, <__main__.Pilot object at 0x7f2861494d50>]\n",
            "{'Support': [8, 37]}\n",
            "---New day---\n",
            "{}\n",
            "{}\n",
            "[<__main__.Pilot object at 0x7f2861494c50>, <__main__.Pilot object at 0x7f285d2567d0>]\n",
            "{'Support': [36, 4]}\n",
            "---New day---\n",
            "{}\n",
            "{}\n",
            "[<__main__.Pilot object at 0x7f285d22c350>, <__main__.Pilot object at 0x7f285d22ccd0>]\n",
            "{'Support': [17, 19]}\n",
            "---New day---\n",
            "{}\n",
            "{}\n",
            "[<__main__.Pilot object at 0x7f285d22ce50>, <__main__.Pilot object at 0x7f285d237f50>]\n",
            "{'Support': [18, 20]}\n",
            "---New day---\n",
            "{}\n",
            "{}\n",
            "[<__main__.Pilot object at 0x7f2861d88090>, <__main__.Pilot object at 0x7f285d22c350>]\n",
            "{'Support': [39, 17]}\n",
            "---New day---\n",
            "{}\n",
            "{}\n",
            "[<__main__.Pilot object at 0x7f285d241110>, <__main__.Pilot object at 0x7f285d237f50>]\n",
            "{'Support': [7, 20]}\n",
            "---New day---\n",
            "{}\n",
            "{}\n",
            "[<__main__.Pilot object at 0x7f285d241110>, <__main__.Pilot object at 0x7f285d237950>]\n",
            "{'Support': [7, 24]}\n",
            "---New day---\n",
            "{}\n",
            "{}\n",
            "[<__main__.Pilot object at 0x7f285d256890>, <__main__.Pilot object at 0x7f285d22ccd0>]\n",
            "{'Support': [3, 19]}\n",
            "---New day---\n",
            "{}\n",
            "{}\n",
            "[<__main__.Pilot object at 0x7f285d256050>, <__main__.Pilot object at 0x7f285d237950>]\n",
            "{'Support': [1, 24]}\n",
            "---New day---\n",
            "{}\n",
            "{}\n",
            "[<__main__.Pilot object at 0x7f285d256790>, <__main__.Pilot object at 0x7f285d2379d0>]\n",
            "{'Support': [0, 22]}\n",
            "---New day---\n",
            "{}\n",
            "{}\n",
            "[<__main__.Pilot object at 0x7f2861494c50>, <__main__.Pilot object at 0x7f285d23b950>]\n",
            "{'Support': [36, 42]}\n",
            "---New day---\n",
            "{}\n",
            "{}\n",
            "[<__main__.Pilot object at 0x7f2861494d50>, <__main__.Pilot object at 0x7f285d22ccd0>]\n",
            "{'Support': [37, 19]}\n",
            "---New day---\n",
            "{}\n",
            "{}\n",
            "[<__main__.Pilot object at 0x7f285d2373d0>, <__main__.Pilot object at 0x7f285d256d10>]\n",
            "{'Support': [8, 6]}\n",
            "---New day---\n",
            "{}\n",
            "{}\n",
            "[<__main__.Pilot object at 0x7f285d22c350>, <__main__.Pilot object at 0x7f285d241110>]\n",
            "{'Support': [17, 7]}\n",
            "---New day---\n",
            "{}\n",
            "{}\n",
            "[<__main__.Pilot object at 0x7f285d22ce50>, <__main__.Pilot object at 0x7f2861494c50>]\n",
            "{'Support': [18, 36]}\n",
            "---New day---\n",
            "{}\n",
            "{}\n",
            "[<__main__.Pilot object at 0x7f285d2379d0>, <__main__.Pilot object at 0x7f285d22c350>]\n",
            "{'Support': [22, 17]}\n",
            "---New day---\n",
            "{}\n",
            "{}\n",
            "[<__main__.Pilot object at 0x7f285d256890>, <__main__.Pilot object at 0x7f285d237b50>]\n",
            "{'Support': [3, 23]}\n",
            "---New day---\n",
            "{}\n",
            "{}\n",
            "[<__main__.Pilot object at 0x7f2861494c50>, <__main__.Pilot object at 0x7f285d2379d0>]\n",
            "{'Support': [36, 22]}\n"
          ]
        }
      ]
    },
    {
      "cell_type": "code",
      "source": [
        "type(sq)"
      ],
      "metadata": {
        "id": "iMWwRQaII6lv"
      },
      "execution_count": null,
      "outputs": []
    },
    {
      "cell_type": "code",
      "source": [
        "sq.summarize()"
      ],
      "metadata": {
        "id": "plYSGeUQHim9"
      },
      "execution_count": null,
      "outputs": []
    },
    {
      "cell_type": "code",
      "source": [
        "ips = sq.get_pilots_qualified_as('IP')\n",
        "ups = sq.get_students_in('MQT')\n",
        "spt = sq.get_pilots_qualified_as('FL')"
      ],
      "metadata": {
        "id": "MLedLUZhxGLV"
      },
      "execution_count": null,
      "outputs": []
    },
    {
      "cell_type": "code",
      "source": [
        "sched = FlySchedule(ips, ups, spt)\n",
        "crews = sched.make_schedule()\n",
        "\n",
        "[crew.summarize() for crew in crews]"
      ],
      "metadata": {
        "id": "Xwf6xBf7xw1m"
      },
      "execution_count": null,
      "outputs": []
    },
    {
      "cell_type": "markdown",
      "source": [
        "d## 1. Inflow Pilots"
      ],
      "metadata": {
        "id": "OaTomKEzdCCV"
      }
    },
    {
      "cell_type": "code",
      "source": [
        "new_pilots = sq.inflow_nth_tour(num_API1=10, prop_API1_IP=.4, prop_WG=.2, \n",
        "                                num_API6=5, prop_API6_IP=.6)\n",
        "\n",
        "sq.summarize()\n"
      ],
      "metadata": {
        "id": "MF_GHJzXdFPc"
      },
      "execution_count": null,
      "outputs": []
    },
    {
      "cell_type": "code",
      "source": [
        "[p.summarize() for p in new_pilots]"
      ],
      "metadata": {
        "id": "hOdlhKnRk_CB"
      },
      "execution_count": null,
      "outputs": []
    },
    {
      "cell_type": "code",
      "source": [
        "new_pilots = sq.inflow_first_tour(8)\n",
        "sq.summarize()"
      ],
      "metadata": {
        "id": "VsEueVbXvpuT"
      },
      "execution_count": null,
      "outputs": []
    },
    {
      "cell_type": "code",
      "source": [
        "[p.summarize() for p in new_pilots]"
      ],
      "metadata": {
        "id": "vwz6C1Hevy7g"
      },
      "execution_count": null,
      "outputs": []
    },
    {
      "cell_type": "code",
      "source": [
        "sq.print_sq()"
      ],
      "metadata": {
        "id": "hkrE7wtJ7U2N"
      },
      "execution_count": null,
      "outputs": []
    },
    {
      "cell_type": "code",
      "source": [
        "sq.summarize()"
      ],
      "metadata": {
        "id": "a2fc8pBU7jdj"
      },
      "execution_count": null,
      "outputs": []
    },
    {
      "cell_type": "markdown",
      "source": [
        "## 2. Outflow pilots\n",
        "\n",
        "`outflow_pilots` will remove any pilots with >= 32 months on station:"
      ],
      "metadata": {
        "id": "STONYFoScRje"
      }
    },
    {
      "cell_type": "code",
      "source": [
        "sq.print_sq()\n",
        "print()\n",
        "sq.outflow_pilots()\n",
        "\n",
        "sq.print_sq()"
      ],
      "metadata": {
        "id": "PjbzT9UMcaTq"
      },
      "execution_count": null,
      "outputs": []
    },
    {
      "cell_type": "code",
      "source": [],
      "metadata": {
        "id": "mXtF4mBwcdfx"
      },
      "execution_count": null,
      "outputs": []
    }
  ]
}