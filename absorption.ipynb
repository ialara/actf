{
  "nbformat": 4,
  "nbformat_minor": 0,
  "metadata": {
    "colab": {
      "name": "absorption.ipynb",
      "provenance": [],
      "include_colab_link": true
    },
    "kernelspec": {
      "name": "python3",
      "display_name": "Python 3"
    },
    "language_info": {
      "name": "python"
    }
  },
  "cells": [
    {
      "cell_type": "markdown",
      "metadata": {
        "id": "view-in-github",
        "colab_type": "text"
      },
      "source": [
        "<a href=\"https://colab.research.google.com/github/ialara/actf/blob/main/absorption.ipynb\" target=\"_parent\"><img src=\"https://colab.research.google.com/assets/colab-badge.svg\" alt=\"Open In Colab\"/></a>"
      ]
    },
    {
      "cell_type": "markdown",
      "source": [
        "# F-16 Absorption Model\n",
        "## Ignacio Lara\n",
        "\n",
        "### Steps\n",
        "1. Initialization\n",
        "  1. Populate the squadron\n",
        "    * Size (API-1 and API-6)\n",
        "    * Distribution of INX/EXP\n",
        "    * Distribution of sortie counts/qualifications/placement in upgrades\n",
        "1. Inflow new pilots\n",
        "  * Distribution of B-Course vs. FAIP/PQP (including qualifications of nth-tour)\n",
        "  * Distribution of API-1 vs API-6\n",
        "1. Determine resources available\n",
        "   * Flying Hours remaining\n",
        "   * Sorties (capacity, driven by UTE and PAA)\n",
        "   * IPs and/or appropriate upgrade support pilots\n",
        "1. Determine sortie needs\n",
        "   * Upgrade vs. CT\n",
        "   * ASD for FHP accrual\n",
        "1. Schedule resources for sorties\n",
        "1. Attempt to fly sorties\n",
        "   * Refly rate to capture ground abort, incomplete sorties, wx cancellations, etc.\n",
        "   * Decrement FHP for sorties flown\n",
        "1. Credit sortie completion for syllabus and/or RTM \"beans\"\n",
        "1. Award upgrades / experiencing\n",
        "1. Outflow pilots\n",
        "\n",
        "<hr />\n",
        "\n",
        "### 0. Setup"
      ],
      "metadata": {
        "id": "1FOFMsy3tT-_"
      }
    },
    {
      "cell_type": "code",
      "execution_count": 36,
      "metadata": {
        "id": "nBKnRi26tQTu"
      },
      "outputs": [],
      "source": [
        "import numpy as np\n",
        "\n",
        "rng = np.random.default_rng()\n",
        "\n",
        "ug_names = ['MQT', 'FLUG', 'IPUG']\n",
        "ug_rides = [9,     9,      9]\n",
        "### Simulator rides\n",
        "# ug_sims =  [7, 5, 6]\n",
        "###\n",
        "ug_quals = ['WG',   'FL',   'IP']\n",
        "\n",
        "class Pilot:\n",
        "    \"\"\"An Air Force F-16 pilot that fills squadron billets\"\"\"\n",
        "    # Syllabus lengths (number of UP sorties)\n",
        "    syllabi_rides = {ug: dur for ug, dur in zip(ug_names, ug_rides)}\n",
        "\n",
        "    # Quals awarded when completing upgrades\n",
        "    ug_awards = {ug: q for ug, q in zip(ug_names, ug_quals)}\n",
        "\n",
        "    # Everyone gets these many sorties from FTU\n",
        "    ftu_sorties = 59 # Avg based on 49 WG PA release: https://bit.ly/3R8aADh\n",
        "\n",
        "    # Definition of experience\n",
        "    exp_sorties = 250\n",
        "    exp_qual = 'FL'\n",
        "\n",
        "    def __init__(self, id, f16_sorties, tos, api_category, quals=[], ug=None):\n",
        "        self.id = id\n",
        "        self.f16_sorties = self.ftu_sorties + f16_sorties\n",
        "        self.tos = tos\n",
        "        self.quals = quals\n",
        "        self.is_exp = False\n",
        "        self.check_experience()\n",
        "        self.api_category = 1 if not self.is_exp else api_category\n",
        "        self.ug = None\n",
        "        if ug is not None:\n",
        "            self.enroll_upgrade(ug)\n",
        "\n",
        "    def log(self, msg, prefix='>>'):\n",
        "        print(f'{prefix} PID {self.id} {msg}')\n",
        "\n",
        "    def enroll_upgrade(self, ug):\n",
        "        assert self.ug is None, 'Pilot already enrolled in upgrade'\n",
        "        assert ug in self.ug_awards, 'Invalid upgrade specified'\n",
        "        assert self.ug_awards[ug] not in self.quals, 'Pilot already completed upgrade'\n",
        "        self.ug = ug\n",
        "        self.ride_num = 0\n",
        "        self.pending_qual = self.ug_awards[self.ug]\n",
        "        self.log(f'enrolled in {self.ug}')\n",
        "\n",
        "    def disenroll_upgrade(self):\n",
        "        prev_ug = self.ug\n",
        "        self.ug = None\n",
        "        self.log(f'disenrolled from: {prev_ug}', prefix='<<')\n",
        "\n",
        "    def fly_ug_sortie(self):\n",
        "        assert self.ug is not None, 'Pilot not enrolled in upgrade'\n",
        "        self.ride_num += 1\n",
        "        if self.check_ug_complete(self.ug, self.ride_num):\n",
        "          self.award_qual(self.pending_qual)\n",
        "          self.disenroll_upgrade()\n",
        "        self.fly_sortie()\n",
        "\n",
        "    def check_ug_complete(self, ug, ride):\n",
        "        return ride == self.syllabi_rides[ug]\n",
        "\n",
        "    def fly_sortie(self):\n",
        "        self.f16_sorties += 1\n",
        "        self.check_experience()\n",
        "\n",
        "    def award_qual(self, qual):\n",
        "        assert qual in self.ug_awards.values(), 'Invalid qualification specified'\n",
        "        assert qual not in self.quals, 'Pilot already qualified'\n",
        "        self.quals.append(qual)\n",
        "        self.log(f'awarded: {qual}', prefix='++')\n",
        "        self.check_experience()\n",
        "\n",
        "    def remove_qual(self, qual):\n",
        "        assert qual in self.quals, 'Pilot does not have this qualification'\n",
        "        self.quals.remove(qual)\n",
        "        self.log(f'un-awarded: {qual}', prefix='--')\n",
        "        self.check_experience()\n",
        "\n",
        "    def check_experience(self):\n",
        "        prev_status = self.is_exp\n",
        "        self.is_exp = (self.f16_sorties >= self.exp_sorties and \n",
        "                      self.exp_qual in self.quals)\n",
        "        if self.is_exp and not prev_status:\n",
        "            self.log('EXPERIENCED', prefix='**')\n",
        "\n",
        "    def increment_tos(self, months=1):\n",
        "      assert isinstance(months, (int, float)), 'Months must be numeric'\n",
        "      self.tos += months\n",
        "\n",
        "    def return_experience(self):\n",
        "      return self.is_exp\n",
        "\n",
        "    def return_upgrade(self):\n",
        "      return self.ug\n",
        "\n",
        "    def return_api(self):\n",
        "      return self.api_category\n",
        "\n",
        "    def return_highest_qual(self):\n",
        "      if self.quals == []:\n",
        "        return ''\n",
        "  \n",
        "      return self.quals[-1]\n",
        "\n",
        "    def summarize(self):\n",
        "        text = 'PID {:2d}: {}{} | SOR: {:4d} | TOS: {:04.1f} mo. | QL: {}'.format(self.id,\n",
        "                                                            '6-' if self.api_category == 6 else '',\n",
        "                                                            'EXP' if self.is_exp else 'INX',\n",
        "                                                            self.f16_sorties,\n",
        "                                                            self.tos,\n",
        "                                                            self.quals)\n",
        "        if self.ug is not None:\n",
        "            text += f' | UG: {self.ug} #{self.ride_num + 1}' # ride_num + 1 to show next (pending) ride\n",
        "            if self.ride_num == self.syllabi_rides[self.ug] - 1:\n",
        "              text += ' (CERT)'\n",
        "        return text\n",
        "\n",
        "class SquadronRoster:\n",
        "    \"\"\"A collection of Air Force pilots in the same squadron\"\"\"\n",
        "    \n",
        "    def __init__(self, sq_name, pilots=[]):\n",
        "        self.sq_name = sq_name\n",
        "        self.pilots = pilots\n",
        "        self.pid = 0\n",
        "\n",
        "    def add_INX_pilot(self, f16_sorties=0, tos=0, quals=[], ug=None):\n",
        "        pilot = Pilot(self.pid, f16_sorties, tos, api_category=1, quals=quals, ug=ug)\n",
        "        self.pilots.append(pilot)\n",
        "        self.pid += 1\n",
        "        return pilot\n",
        "\n",
        "    def add_EXP_pilot(self, f16_sorties=250, tos=20, api_category=1, quals=ug_quals[:-1], ug=None):\n",
        "        pilot = Pilot(self.pid, f16_sorties, tos, api_category, quals, ug)\n",
        "        self.pilots.append(pilot)\n",
        "        self.pid += 1\n",
        "        return pilot\n",
        "\n",
        "    def populate(self, num_API1=26, prop_INX=0.55, prop_IP=0.2, num_API6=10):\n",
        "        num_INX = int(num_API1*prop_INX)\n",
        "        num_EXP = num_API1 - num_INX\n",
        "        ip_billets_remaining = min(int(num_API1*prop_IP), num_EXP)\n",
        "        staff_billets_remaining = num_API6\n",
        "\n",
        "        # Parameters\n",
        "        max_TOS_INX = 24\n",
        "        min_TOS_EXP = 24\n",
        "        max_TOS_EXP = 32\n",
        "\n",
        "        min_f16_sorties_EXP = Pilot.exp_sorties\n",
        "        max_f16_sorties_EXP = 500\n",
        "\n",
        "        max_f16_sorties_INX = Pilot.exp_sorties\n",
        "\n",
        "        staff_billets_remaining = num_API6\n",
        "        # Add EXP pilots\n",
        "        for _ in range(num_EXP + num_API6):\n",
        "            tos = rng.integers(min_TOS_EXP, max_TOS_EXP + 1)\n",
        "            # Award sorties proportional to TOS\n",
        "            sorties = int((tos - min_TOS_EXP)/(max_TOS_EXP - min_TOS_EXP) *\n",
        "                      (max_f16_sorties_EXP - min_f16_sorties_EXP)) + min_f16_sorties_EXP\n",
        "\n",
        "            quals = ug_quals[:-1] # Assumed that all EXP are at least FL\n",
        "\n",
        "            if staff_billets_remaining > 0:\n",
        "                api = 6 # Assign staff first\n",
        "                staff_billets_remaining -= 1\n",
        "            else:\n",
        "                api = 1\n",
        "                # Assume only API-1 arrive as IP\n",
        "                if ip_billets_remaining > 0:\n",
        "                    quals.append(ug_quals[-1])\n",
        "                    ip_billets_remaining -= 1\n",
        "              \n",
        "            self.add_EXP_pilot(sorties, tos, api, quals)\n",
        "\n",
        "        # Add INX pilots\n",
        "        for _ in range(num_INX):\n",
        "            tos = rng.integers(max_TOS_INX + 1)\n",
        "            sorties = int(tos/max_TOS_INX * max_f16_sorties_INX)\n",
        "\n",
        "            quals = []\n",
        "\n",
        "            pilot = self.add_INX_pilot(sorties, tos, quals=[])\n",
        "\n",
        "            if pilot.tos > 2:\n",
        "              pilot.award_qual(ug_quals[0])\n",
        "\n",
        "            else:\n",
        "              mqt_progress = rng.integers(pilot.syllabi_rides['MQT']) # Intentionally capping starting INX at 1 MQT ride from end\n",
        "              pilot.enroll_upgrade('MQT')\n",
        "              for s in range(mqt_progress):\n",
        "                pilot.fly_ug_sortie()\n",
        "\n",
        "    def inflow_nth_tour(self, num_API1, prop_API1_IP, prop_WG, num_API6, prop_API6_IP):\n",
        "      num_IP = int(num_API1*prop_API1_IP)\n",
        "      num_INX = int(num_API1*prop_WG)\n",
        "      num_FL = num_API1 - num_IP - num_INX\n",
        "\n",
        "      min_sorties_INX = int(0.6*Pilot.exp_sorties)\n",
        "      max_sorties_INX = int(1.1*Pilot.exp_sorties)\n",
        "\n",
        "      min_sorties_FL = Pilot.exp_sorties\n",
        "      max_sorties_FL = int(2.5*Pilot.exp_sorties)\n",
        "\n",
        "      min_sorties_IP = int(1.5*Pilot.exp_sorties)\n",
        "      max_sorties_IP = 5*Pilot.exp_sorties\n",
        "\n",
        "      new_nth_pilots = []\n",
        "\n",
        "      for _ in range(num_INX):\n",
        "        sorties = rng.integers(min_sorties_INX, max_sorties_INX)\n",
        "        pilot = self.add_INX_pilot(f16_sorties=sorties, quals=[ug_quals[0]])\n",
        "        new_nth_pilots.append(pilot)\n",
        "\n",
        "      for _ in range(num_FL):\n",
        "        sorties = rng.integers(min_sorties_FL, max_sorties_FL)\n",
        "        pilot = self.add_EXP_pilot(f16_sorties=sorties, tos=0, quals=ug_quals[:2])\n",
        "        new_nth_pilots.append(pilot)\n",
        "\n",
        "      for _ in range(num_API6):\n",
        "        sorties = rng.integers(min_sorties_FL, max_sorties_IP)\n",
        "        is_IP = rng.random() < prop_API6_IP\n",
        "        my_quals = ug_quals[:2]\n",
        "\n",
        "        if is_IP:\n",
        "          my_quals += [ug_quals[-1]]\n",
        "        pilot = self.add_EXP_pilot(f16_sorties=sorties, tos=0, api_category=6, quals=my_quals)\n",
        "        new_nth_pilots.append(pilot)\n",
        "\n",
        "      for _ in range(num_IP):\n",
        "        sorties = rng.integers(min_sorties_IP, max_sorties_IP)\n",
        "        pilot = self.add_EXP_pilot(f16_sorties=sorties, tos=0, quals=ug_quals)\n",
        "        new_nth_pilots.append(pilot)\n",
        "\n",
        "      return new_nth_pilots\n",
        "\n",
        "    def inflow_first_tour(self, num_API1):\n",
        "      new_pilots = []\n",
        "\n",
        "      for _ in range(num_API1):\n",
        "        ftu_sortie_delta = rng.integers(-5, 11)\n",
        "        pilot = self.add_INX_pilot(f16_sorties=ftu_sortie_delta, quals=[])\n",
        "        new_pilots.append(pilot)\n",
        "\n",
        "      return new_pilots\n",
        "\n",
        "      \n",
        "    def summarize(self):\n",
        "      pilot_roster = {p.id: {'xp': p.return_experience(),\n",
        "                              'ug': p.return_upgrade(),\n",
        "                              'api': p.return_api(),\n",
        "                              'ql': p.return_highest_qual()} for p in self.pilots}\n",
        "      # experience = [p.return_experience() for p in self.pilots]\n",
        "      # upgrades = [p.return_upgrade() for p in self.pilots]\n",
        "      # apis = [p.return_api() for p in self.pilots]\n",
        "      # highest_quals = [p.return_highest_qual() for p in self.pilots]\n",
        "\n",
        "      roster_API1 = {k: v for k, v in pilot_roster.items() if v['api'] == 1}\n",
        "\n",
        "      num_EXP = np.sum([v['xp'] for v in roster_API1.values()])\n",
        "      num_INX = len(roster_API1) - num_EXP\n",
        "      exp_pct = num_EXP / (num_EXP + num_INX)\n",
        "      \n",
        "      upgrades = [v['ug'] for v in roster_API1.values()]\n",
        "      highest_quals = [v['ql'] for v in roster_API1.values()]\n",
        "      num_MQT = upgrades.count(ug_names[0])\n",
        "      num_FLUG = upgrades.count(ug_names[1])\n",
        "      num_IPUG = upgrades.count(ug_names[2])\n",
        "      num_WG = highest_quals.count(ug_quals[0])\n",
        "      num_FL = highest_quals.count(ug_quals[1])\n",
        "      num_IP = highest_quals.count(ug_quals[2])\n",
        "\n",
        "      print(f'{self.sq_name} SUMMARY:')\n",
        "      print(\n",
        "          f'API-1 ({len(roster_API1)}) >> '\n",
        "          f'EXP: {num_EXP} / INX: {num_INX} | EXP% (API-1): {exp_pct:.2f} | '\n",
        "          f'API-6: {len(pilot_roster)-len(roster_API1)} | '\n",
        "          f'{ug_quals[0]}: {num_WG} (+{num_MQT} in {ug_names[0]}) / '\n",
        "          f'{ug_quals[1]}: {num_FL} (+{num_FLUG} in {ug_names[1]}) / '\n",
        "          f'{ug_quals[2]}: {num_IP} (+{num_IPUG} in {ug_names[2]}) ')\n",
        "\n",
        "    \n",
        "    def print_sq(self):\n",
        "        print(f'{self.sq_name} ROSTER:')\n",
        "        for p in self.pilots:\n",
        "          print(p.summarize())\n",
        "\n",
        "class F16:\n",
        "  \"\"\"A single F-16 jet\"\"\"\n",
        "  hours_between_depot = 500\n",
        "  depot_days = 90\n",
        "  mc_rate = 0.7\n",
        "\n",
        "  def __init__(self, id, num_seats=1, ttaf=2000,\n",
        "               hours_since_last_depot=500):\n",
        "    self.id = id\n",
        "    self.num_seats = num_seats\n",
        "    self.mc_random_draw()\n",
        "    self.ttaf = ttaf\n",
        "    self.hours_since_last_depot = hours_since_last_depot\n",
        "\n",
        "  def log(self, msg, prefix='>>'):\n",
        "    print(f'{prefix} {self.id} {msg}')\n",
        "\n",
        "  def set_nmc(self):\n",
        "    self.log('is NMC', prefix='<<')\n",
        "    self.is_mc = False\n",
        "\n",
        "  def set_mc(self):\n",
        "    self.log('is MC')\n",
        "    self.is_mc = True\n",
        "\n",
        "  def mc_random_draw(self):\n",
        "    self.is_mc = rng.random() <= self.mc_rate\n",
        "\n",
        "  def fly_hours(self, hours):\n",
        "    assert self.is_mc, \"Cannot fly NMC aircraft\"\n",
        "    self.ttaf += hours\n",
        "    self.hours_since_last_depot += hours\n",
        "    self.log(f'flew {hours} hours. TTAF: {self.ttaf}. Hrs since depot: {self.hours_since_last_depot}', prefix='++')\n",
        "    if self.needs_depot():\n",
        "      self.start_depot()\n",
        "\n",
        "  def sortie(self, duration):\n",
        "    if self.is_mc:\n",
        "      self.fly_hours(duration)\n",
        "    else:\n",
        "      self.log('not flown due to NMC.', prefix='<X>')\n",
        "\n",
        "  def needs_depot(self):\n",
        "    return self.hours_since_last_depot >= self.hours_between_depot\n",
        "\n",
        "  def start_depot(self):\n",
        "    self.log('sent to depot!', prefix='!!')\n",
        "    self.set_nmc()\n",
        "    self.days_left_in_depot = self.depot_days\n",
        "\n",
        "  def sit_in_depot(self):\n",
        "    assert self.days_left_in_depot > 0, \"Aircraft already overdue from depot\"\n",
        "    self.days_left_in_depot -= 1\n",
        "\n",
        "  def complete_depot(self):\n",
        "    self.log('depot complete.', prefix='**')\n",
        "    self.set_mc()\n",
        "    self.days_left_in_depot = -1\n",
        "    self.hours_since_last_depot = 0\n",
        "\n",
        "  def print_ac(self):\n",
        "    print(f'{self.id} | MC?: {self.is_mc} | TTAF: {self.ttaf} | Hrs. since depot: {self.hours_since_last_depot}')\n",
        "\n",
        "class SquadronHangar:\n",
        "  \"\"\"A collection of F-16s assigned to a squadron\"\"\"\n",
        "  def __init__(self, jets=[]):\n",
        "    pass\n",
        "\n",
        "  def populate(self):\n",
        "    pass\n",
        "\n",
        "  def summarize(self):\n",
        "    pass\n",
        "\n",
        "  def make_fly_order(self):\n",
        "    pass\n",
        "\n",
        "\n",
        "class DailySchedule:\n",
        "  \"\"\"Pairing of crews and aircraft \"\"\"\n",
        "  pass\n",
        "\n",
        "\n",
        "\n",
        "\n"
      ]
    },
    {
      "cell_type": "markdown",
      "source": [
        "## Pilot class example\n",
        "\n",
        "Contains methods and properties associated with individual pilots. For example:\n",
        "\n",
        "_Methods_\n",
        "- Fly a sortie\n",
        "- Enroll in/disenroll from upgrade\n",
        "- Become experienced\n",
        "\n",
        "_Properties_\n",
        "- \\# sorties\n",
        "- Time on Station\n",
        "- API category\n",
        "- Inexperienced/Experienced status\n",
        "- Qualifications\n",
        "- Upgrade progress\n",
        "\n",
        "Class methods also contain safeguards against improper usage. In this example, we first create an `example_pilot`, with `pid = 0` (pilot ID), `f16_sorties = 24`, `tos = 4` months, and an `API=1`, with no qualifications. Then, we:\n",
        "1. Fly a single sortie for the pilot, updating total sortie count only.\n",
        "1. Attempt to fly an upgrade sortie, even though the pilot is not enrolled in an upgrade (will raise an `AssertionError`). "
      ],
      "metadata": {
        "id": "6s-cnEf-R7vc"
      }
    },
    {
      "cell_type": "code",
      "source": [
        "example_pilot = Pilot(0, 24, 4, 1, [])\n",
        "print(example_pilot.summarize())\n",
        "\n",
        "example_pilot.fly_sortie()\n",
        "print('---After flying sortie---')\n",
        "print(example_pilot.summarize())\n",
        "print('---Attempt to fly upgrade sortie with no upgrade---')\n",
        "example_pilot.fly_ug_sortie()"
      ],
      "metadata": {
        "id": "gJTF_tqMOWmt",
        "outputId": "d3092df7-1392-479d-9022-755a65f4816e",
        "colab": {
          "base_uri": "https://localhost:8080/",
          "height": 409
        }
      },
      "execution_count": 2,
      "outputs": [
        {
          "output_type": "stream",
          "name": "stdout",
          "text": [
            "PID  0: INX | API: 1 | SOR:   39 | TOS: 04.0 mo. | QL: []\n",
            "---After flying sortie---\n",
            "PID  0: INX | API: 1 | SOR:   40 | TOS: 04.0 mo. | QL: []\n",
            "---Attempt to fly upgrade sortie with no upgrade---\n"
          ]
        },
        {
          "output_type": "error",
          "ename": "AssertionError",
          "evalue": "ignored",
          "traceback": [
            "\u001b[0;31m---------------------------------------------------------------------------\u001b[0m",
            "\u001b[0;31mAssertionError\u001b[0m                            Traceback (most recent call last)",
            "\u001b[0;32m<ipython-input-2-e5ea38942648>\u001b[0m in \u001b[0;36m<module>\u001b[0;34m\u001b[0m\n\u001b[1;32m      6\u001b[0m \u001b[0mprint\u001b[0m\u001b[0;34m(\u001b[0m\u001b[0mexample_pilot\u001b[0m\u001b[0;34m.\u001b[0m\u001b[0msummarize\u001b[0m\u001b[0;34m(\u001b[0m\u001b[0;34m)\u001b[0m\u001b[0;34m)\u001b[0m\u001b[0;34m\u001b[0m\u001b[0;34m\u001b[0m\u001b[0m\n\u001b[1;32m      7\u001b[0m \u001b[0mprint\u001b[0m\u001b[0;34m(\u001b[0m\u001b[0;34m'---Attempt to fly upgrade sortie with no upgrade---'\u001b[0m\u001b[0;34m)\u001b[0m\u001b[0;34m\u001b[0m\u001b[0;34m\u001b[0m\u001b[0m\n\u001b[0;32m----> 8\u001b[0;31m \u001b[0mexample_pilot\u001b[0m\u001b[0;34m.\u001b[0m\u001b[0mfly_ug_sortie\u001b[0m\u001b[0;34m(\u001b[0m\u001b[0;34m)\u001b[0m\u001b[0;34m\u001b[0m\u001b[0;34m\u001b[0m\u001b[0m\n\u001b[0m",
            "\u001b[0;32m<ipython-input-1-d3703ccf31e8>\u001b[0m in \u001b[0;36mfly_ug_sortie\u001b[0;34m(self)\u001b[0m\n\u001b[1;32m     55\u001b[0m \u001b[0;34m\u001b[0m\u001b[0m\n\u001b[1;32m     56\u001b[0m     \u001b[0;32mdef\u001b[0m \u001b[0mfly_ug_sortie\u001b[0m\u001b[0;34m(\u001b[0m\u001b[0mself\u001b[0m\u001b[0;34m)\u001b[0m\u001b[0;34m:\u001b[0m\u001b[0;34m\u001b[0m\u001b[0;34m\u001b[0m\u001b[0m\n\u001b[0;32m---> 57\u001b[0;31m         \u001b[0;32massert\u001b[0m \u001b[0mself\u001b[0m\u001b[0;34m.\u001b[0m\u001b[0mug\u001b[0m \u001b[0;32mis\u001b[0m \u001b[0;32mnot\u001b[0m \u001b[0;32mNone\u001b[0m\u001b[0;34m,\u001b[0m \u001b[0;34m'Pilot not enrolled in upgrade'\u001b[0m\u001b[0;34m\u001b[0m\u001b[0;34m\u001b[0m\u001b[0m\n\u001b[0m\u001b[1;32m     58\u001b[0m         \u001b[0mself\u001b[0m\u001b[0;34m.\u001b[0m\u001b[0mride_num\u001b[0m \u001b[0;34m+=\u001b[0m \u001b[0;36m1\u001b[0m\u001b[0;34m\u001b[0m\u001b[0;34m\u001b[0m\u001b[0m\n\u001b[1;32m     59\u001b[0m         \u001b[0;32mif\u001b[0m \u001b[0mself\u001b[0m\u001b[0;34m.\u001b[0m\u001b[0mcheck_ug_complete\u001b[0m\u001b[0;34m(\u001b[0m\u001b[0mself\u001b[0m\u001b[0;34m.\u001b[0m\u001b[0mug\u001b[0m\u001b[0;34m,\u001b[0m \u001b[0mself\u001b[0m\u001b[0;34m.\u001b[0m\u001b[0mride_num\u001b[0m\u001b[0;34m)\u001b[0m\u001b[0;34m:\u001b[0m\u001b[0;34m\u001b[0m\u001b[0;34m\u001b[0m\u001b[0m\n",
            "\u001b[0;31mAssertionError\u001b[0m: Pilot not enrolled in upgrade"
          ]
        }
      ]
    },
    {
      "cell_type": "markdown",
      "source": [
        "We fix the `AssertionError` by enrolling the pilot in MQT. Now, it makes sense to fly an upgrade sortie, which updates totals like before, as well as progressing the pilot through an upgrade syllabus and checking for completion.\n",
        "1. The pilot's progress through MQT is indicated by `UG: MQT #0` (only when enrolled in an upgrade). When the pilot completes MQT, the pilot is awarded the Wingman qualification, shown in `QL = ['WG']`, and disenrolled from MQT.\n",
        "1. When the pilot meets 250 sorties, but without completing FLUG, the pilot is still recognized as inexperienced (`INX`).\n",
        "1. After the pilot completes FLUG, and meets the sortie minimum, the pilot is awarded the FL qualification, disenrolled from FLUG, and updated to reflect experienced status (`EXP`).\n",
        "\n",
        "In practice, these methods and properties will be called by higher-level functions in the simulation. But this example demonstrates some of the functionality present in the `Pilot` class."
      ],
      "metadata": {
        "id": "DjITGMWNTDK_"
      }
    },
    {
      "cell_type": "code",
      "source": [
        "example_pilot.enroll_upgrade('MQT')\n",
        "print(example_pilot.summarize())\n",
        "\n",
        "example_pilot.fly_ug_sortie()\n",
        "print('---After flying MQT sortie---')\n",
        "print(example_pilot.summarize())"
      ],
      "metadata": {
        "id": "v8QGYGtGPBZh",
        "outputId": "351f1964-780a-45ad-dace-9ece834a15a9",
        "colab": {
          "base_uri": "https://localhost:8080/"
        }
      },
      "execution_count": 3,
      "outputs": [
        {
          "output_type": "stream",
          "name": "stdout",
          "text": [
            ">> PID 0 enrolled in MQT\n",
            "PID  0: INX | API: 1 | SOR:   40 | TOS: 04.0 mo. | QL: [] | UG: MQT #1\n",
            "---After flying MQT sortie---\n",
            "PID  0: INX | API: 1 | SOR:   41 | TOS: 04.0 mo. | QL: [] | UG: MQT #2\n"
          ]
        }
      ]
    },
    {
      "cell_type": "code",
      "source": [
        "print('---Fly remaining MQT sorties---')\n",
        "for _ in range(example_pilot.syllabi_rides[example_pilot.ug] - example_pilot.ride_num):\n",
        "  example_pilot.fly_ug_sortie()\n",
        "print(example_pilot.summarize())\n",
        "print()\n",
        "\n",
        "example_pilot.f16_sorties = 250\n",
        "print('---Meet EXP sortie criteria, but not FL---')\n",
        "print(example_pilot.summarize())\n",
        "print()\n",
        "\n",
        "example_pilot.enroll_upgrade('FLUG')\n",
        "\n",
        "for _ in range(example_pilot.syllabi_rides[example_pilot.ug] - 1 - example_pilot.ride_num):\n",
        "  example_pilot.fly_ug_sortie()\n",
        "\n",
        "print('---One ride from completing FLUG---')\n",
        "print(example_pilot.summarize())\n",
        "print()\n",
        "\n",
        "example_pilot.fly_ug_sortie()\n",
        "print('---After completing FLUG, now meets criteria for EXP---')\n",
        "print(example_pilot.summarize())\n"
      ],
      "metadata": {
        "id": "a1DAEmJ5PQ61",
        "outputId": "422f0235-17f4-4700-e0c1-26fa2365a9bc",
        "colab": {
          "base_uri": "https://localhost:8080/"
        }
      },
      "execution_count": 4,
      "outputs": [
        {
          "output_type": "stream",
          "name": "stdout",
          "text": [
            "---Fly remaining MQT sorties---\n",
            "++ PID 0 awarded: WG\n",
            "<< PID 0 disenrolled from: MQT\n",
            "PID  0: INX | API: 1 | SOR:   49 | TOS: 04.0 mo. | QL: ['WG']\n",
            "\n",
            "---Meet EXP sortie criteria, but not FL---\n",
            "PID  0: INX | API: 1 | SOR:  250 | TOS: 04.0 mo. | QL: ['WG']\n",
            "\n",
            ">> PID 0 enrolled in FLUG\n",
            "---One ride from completing FLUG---\n",
            "PID  0: INX | API: 1 | SOR:  258 | TOS: 04.0 mo. | QL: ['WG'] | UG: FLUG #9 (CERT)\n",
            "\n",
            "++ PID 0 awarded: FL\n",
            "** PID 0 EXPERIENCED\n",
            "<< PID 0 disenrolled from: FLUG\n",
            "---After completing FLUG, now meets criteria for EXP---\n",
            "PID  0: EXP | API: 1 | SOR:  259 | TOS: 04.0 mo. | QL: ['WG', 'FL']\n"
          ]
        }
      ]
    },
    {
      "cell_type": "code",
      "source": [
        "example_pilot.increment_tos('three')"
      ],
      "metadata": {
        "colab": {
          "base_uri": "https://localhost:8080/",
          "height": 299
        },
        "id": "oZ6d6ECeX8xN",
        "outputId": "02d2a913-d3df-42cd-8344-cb903c5470cf"
      },
      "execution_count": 5,
      "outputs": [
        {
          "output_type": "error",
          "ename": "AssertionError",
          "evalue": "ignored",
          "traceback": [
            "\u001b[0;31m---------------------------------------------------------------------------\u001b[0m",
            "\u001b[0;31mAssertionError\u001b[0m                            Traceback (most recent call last)",
            "\u001b[0;32m<ipython-input-5-574d15f59867>\u001b[0m in \u001b[0;36m<module>\u001b[0;34m\u001b[0m\n\u001b[0;32m----> 1\u001b[0;31m \u001b[0mexample_pilot\u001b[0m\u001b[0;34m.\u001b[0m\u001b[0mincrement_tos\u001b[0m\u001b[0;34m(\u001b[0m\u001b[0;34m'three'\u001b[0m\u001b[0;34m)\u001b[0m\u001b[0;34m\u001b[0m\u001b[0;34m\u001b[0m\u001b[0m\n\u001b[0m",
            "\u001b[0;32m<ipython-input-1-d3703ccf31e8>\u001b[0m in \u001b[0;36mincrement_tos\u001b[0;34m(self, months)\u001b[0m\n\u001b[1;32m     90\u001b[0m \u001b[0;34m\u001b[0m\u001b[0m\n\u001b[1;32m     91\u001b[0m     \u001b[0;32mdef\u001b[0m \u001b[0mincrement_tos\u001b[0m\u001b[0;34m(\u001b[0m\u001b[0mself\u001b[0m\u001b[0;34m,\u001b[0m \u001b[0mmonths\u001b[0m\u001b[0;34m=\u001b[0m\u001b[0;36m1\u001b[0m\u001b[0;34m)\u001b[0m\u001b[0;34m:\u001b[0m\u001b[0;34m\u001b[0m\u001b[0;34m\u001b[0m\u001b[0m\n\u001b[0;32m---> 92\u001b[0;31m       \u001b[0;32massert\u001b[0m \u001b[0misinstance\u001b[0m\u001b[0;34m(\u001b[0m\u001b[0mmonths\u001b[0m\u001b[0;34m,\u001b[0m \u001b[0;34m(\u001b[0m\u001b[0mint\u001b[0m\u001b[0;34m,\u001b[0m \u001b[0mfloat\u001b[0m\u001b[0;34m)\u001b[0m\u001b[0;34m)\u001b[0m\u001b[0;34m,\u001b[0m \u001b[0;34m'Months must be numeric'\u001b[0m\u001b[0;34m\u001b[0m\u001b[0;34m\u001b[0m\u001b[0m\n\u001b[0m\u001b[1;32m     93\u001b[0m       \u001b[0mself\u001b[0m\u001b[0;34m.\u001b[0m\u001b[0mtos\u001b[0m \u001b[0;34m+=\u001b[0m \u001b[0mmonths\u001b[0m\u001b[0;34m\u001b[0m\u001b[0;34m\u001b[0m\u001b[0m\n\u001b[1;32m     94\u001b[0m \u001b[0;34m\u001b[0m\u001b[0m\n",
            "\u001b[0;31mAssertionError\u001b[0m: Months must be numeric"
          ]
        }
      ]
    },
    {
      "cell_type": "code",
      "source": [
        "example_pilot.increment_tos()\n",
        "print(example_pilot.summarize())\n",
        "\n",
        "example_pilot.increment_tos(1.5)\n",
        "print(example_pilot.summarize())\n",
        "\n",
        "example_pilot.increment_tos(-2.5)\n",
        "print(example_pilot.summarize())"
      ],
      "metadata": {
        "colab": {
          "base_uri": "https://localhost:8080/"
        },
        "id": "GtJBosYjYDID",
        "outputId": "f0f5fbc1-9d59-4a81-d9b3-abc9b298bf8d"
      },
      "execution_count": 6,
      "outputs": [
        {
          "output_type": "stream",
          "name": "stdout",
          "text": [
            "PID  0: EXP | API: 1 | SOR:  259 | TOS: 05.0 mo. | QL: ['WG', 'FL']\n",
            "PID  0: EXP | API: 1 | SOR:  259 | TOS: 06.5 mo. | QL: ['WG', 'FL']\n",
            "PID  0: EXP | API: 1 | SOR:  259 | TOS: 04.0 mo. | QL: ['WG', 'FL']\n"
          ]
        }
      ]
    },
    {
      "cell_type": "code",
      "source": [
        "example_pilot.remove_qual('FL')\n",
        "print(example_pilot.summarize())\n",
        "\n",
        "example_pilot.award_qual('FL')\n",
        "print(example_pilot.summarize())"
      ],
      "metadata": {
        "colab": {
          "base_uri": "https://localhost:8080/"
        },
        "id": "sJHUrhdtZi22",
        "outputId": "dba3c00f-f1c8-41b4-ba69-de2df93f6f55"
      },
      "execution_count": 7,
      "outputs": [
        {
          "output_type": "stream",
          "name": "stdout",
          "text": [
            "-- PID 0 un-awarded: FL\n",
            "PID  0: INX | API: 1 | SOR:  259 | TOS: 04.0 mo. | QL: ['WG']\n",
            "++ PID 0 awarded: FL\n",
            "** PID 0 EXPERIENCED\n",
            "PID  0: EXP | API: 1 | SOR:  259 | TOS: 04.0 mo. | QL: ['WG', 'FL']\n"
          ]
        }
      ]
    },
    {
      "cell_type": "markdown",
      "source": [
        "## SquadronRoster example\n",
        "\n",
        "Contains the Pilots (API-1 and API-6) present in a single F-16 squadron. Has some methods and properties that make sense at the squadron level. For example:\n",
        "\n",
        "_Methods_:\n",
        "- Add/remove individual Pilots\n",
        "- Populate an initial squadron with desired size, EXP%, and qualifications\n",
        "\n",
        "_Properties_:\n",
        "- Squadron name\n",
        "- Squadron summary\n",
        "- Summary statistics (EXP%, upgrade sizes, etc.)\n",
        "\n",
        "In this example, we create a notional squadron.\n",
        "\n",
        "The defaults for `SquadronRoster.populate` include:\n",
        "- `size=10` pilots\n",
        "- `prop_INX=0.55` percent inexperienced pilots\n",
        "- `prop_IP=0.3` percent _of experienced API-1 pilots_ qualified as instructors\n",
        "- `num_API6=2` billets for API-6 staff"
      ],
      "metadata": {
        "id": "e9p4_jA_U33P"
      }
    },
    {
      "cell_type": "code",
      "source": [
        "sq = SquadronRoster('0th FS', pilots=[])\n",
        "sq.populate()\n",
        "sq.print_sq()"
      ],
      "metadata": {
        "colab": {
          "base_uri": "https://localhost:8080/"
        },
        "id": "HZ21ja5ZAPvG",
        "outputId": "573536de-25b5-43f9-b988-611354078c4f"
      },
      "execution_count": 37,
      "outputs": [
        {
          "output_type": "stream",
          "name": "stdout",
          "text": [
            "** PID 0 EXPERIENCED\n",
            "** PID 1 EXPERIENCED\n",
            "** PID 2 EXPERIENCED\n",
            "** PID 3 EXPERIENCED\n",
            "** PID 4 EXPERIENCED\n",
            "** PID 5 EXPERIENCED\n",
            "** PID 6 EXPERIENCED\n",
            "** PID 7 EXPERIENCED\n",
            "** PID 8 EXPERIENCED\n",
            "** PID 9 EXPERIENCED\n",
            "** PID 10 EXPERIENCED\n",
            "** PID 11 EXPERIENCED\n",
            "** PID 12 EXPERIENCED\n",
            "** PID 13 EXPERIENCED\n",
            "** PID 14 EXPERIENCED\n",
            "** PID 15 EXPERIENCED\n",
            "** PID 16 EXPERIENCED\n",
            "** PID 17 EXPERIENCED\n",
            "** PID 18 EXPERIENCED\n",
            "** PID 19 EXPERIENCED\n",
            "** PID 20 EXPERIENCED\n",
            "** PID 21 EXPERIENCED\n",
            "++ PID 22 awarded: WG\n",
            ">> PID 23 enrolled in MQT\n",
            "++ PID 24 awarded: WG\n",
            "++ PID 25 awarded: WG\n",
            "++ PID 26 awarded: WG\n",
            "++ PID 27 awarded: WG\n",
            "++ PID 28 awarded: WG\n",
            "++ PID 29 awarded: WG\n",
            "++ PID 30 awarded: WG\n",
            "++ PID 31 awarded: WG\n",
            "++ PID 32 awarded: WG\n",
            "++ PID 33 awarded: WG\n",
            "++ PID 34 awarded: WG\n",
            "++ PID 35 awarded: WG\n",
            "0th FS ROSTER:\n",
            "PID  0: 6-EXP | SOR:  340 | TOS: 25.0 mo. | QL: ['WG', 'FL']\n",
            "PID  1: 6-EXP | SOR:  559 | TOS: 32.0 mo. | QL: ['WG', 'FL']\n",
            "PID  2: 6-EXP | SOR:  496 | TOS: 30.0 mo. | QL: ['WG', 'FL']\n",
            "PID  3: 6-EXP | SOR:  371 | TOS: 26.0 mo. | QL: ['WG', 'FL']\n",
            "PID  4: 6-EXP | SOR:  371 | TOS: 26.0 mo. | QL: ['WG', 'FL']\n",
            "PID  5: 6-EXP | SOR:  434 | TOS: 28.0 mo. | QL: ['WG', 'FL']\n",
            "PID  6: 6-EXP | SOR:  434 | TOS: 28.0 mo. | QL: ['WG', 'FL']\n",
            "PID  7: 6-EXP | SOR:  402 | TOS: 27.0 mo. | QL: ['WG', 'FL']\n",
            "PID  8: 6-EXP | SOR:  527 | TOS: 31.0 mo. | QL: ['WG', 'FL']\n",
            "PID  9: 6-EXP | SOR:  309 | TOS: 24.0 mo. | QL: ['WG', 'FL']\n",
            "PID 10: EXP | SOR:  371 | TOS: 26.0 mo. | QL: ['WG', 'FL', 'IP']\n",
            "PID 11: EXP | SOR:  465 | TOS: 29.0 mo. | QL: ['WG', 'FL', 'IP']\n",
            "PID 12: EXP | SOR:  402 | TOS: 27.0 mo. | QL: ['WG', 'FL', 'IP']\n",
            "PID 13: EXP | SOR:  402 | TOS: 27.0 mo. | QL: ['WG', 'FL', 'IP']\n",
            "PID 14: EXP | SOR:  340 | TOS: 25.0 mo. | QL: ['WG', 'FL', 'IP']\n",
            "PID 15: EXP | SOR:  496 | TOS: 30.0 mo. | QL: ['WG', 'FL']\n",
            "PID 16: EXP | SOR:  402 | TOS: 27.0 mo. | QL: ['WG', 'FL']\n",
            "PID 17: EXP | SOR:  496 | TOS: 30.0 mo. | QL: ['WG', 'FL']\n",
            "PID 18: EXP | SOR:  465 | TOS: 29.0 mo. | QL: ['WG', 'FL']\n",
            "PID 19: EXP | SOR:  465 | TOS: 29.0 mo. | QL: ['WG', 'FL']\n",
            "PID 20: EXP | SOR:  434 | TOS: 28.0 mo. | QL: ['WG', 'FL']\n",
            "PID 21: EXP | SOR:  402 | TOS: 27.0 mo. | QL: ['WG', 'FL']\n",
            "PID 22: INX | SOR:  194 | TOS: 13.0 mo. | QL: ['WG']\n",
            "PID 23: INX | SOR:   72 | TOS: 01.0 mo. | QL: [] | UG: MQT #4\n",
            "PID 24: INX | SOR:  277 | TOS: 21.0 mo. | QL: ['WG']\n",
            "PID 25: INX | SOR:  225 | TOS: 16.0 mo. | QL: ['WG']\n",
            "PID 26: INX | SOR:  298 | TOS: 23.0 mo. | QL: ['WG']\n",
            "PID 27: INX | SOR:  111 | TOS: 05.0 mo. | QL: ['WG']\n",
            "PID 28: INX | SOR:  194 | TOS: 13.0 mo. | QL: ['WG']\n",
            "PID 29: INX | SOR:  309 | TOS: 24.0 mo. | QL: ['WG']\n",
            "PID 30: INX | SOR:  152 | TOS: 09.0 mo. | QL: ['WG']\n",
            "PID 31: INX | SOR:  215 | TOS: 15.0 mo. | QL: ['WG']\n",
            "PID 32: INX | SOR:  204 | TOS: 14.0 mo. | QL: ['WG']\n",
            "PID 33: INX | SOR:  267 | TOS: 20.0 mo. | QL: ['WG']\n",
            "PID 34: INX | SOR:  267 | TOS: 20.0 mo. | QL: ['WG']\n",
            "PID 35: INX | SOR:  215 | TOS: 15.0 mo. | QL: ['WG']\n"
          ]
        }
      ]
    },
    {
      "cell_type": "code",
      "source": [
        "sq.summarize()"
      ],
      "metadata": {
        "id": "plYSGeUQHim9",
        "outputId": "ceb0025a-8a0f-4136-e930-921acd069421",
        "colab": {
          "base_uri": "https://localhost:8080/"
        }
      },
      "execution_count": 38,
      "outputs": [
        {
          "output_type": "stream",
          "name": "stdout",
          "text": [
            "0th FS SUMMARY:\n",
            "API-1 (26) >> EXP: 12 / INX: 14 | EXP% (API-1): 0.46 | API-6: 10 | WG: 13 (+1 in MQT) / FL: 7 (+0 in FLUG) / IP: 5 (+0 in IPUG) \n"
          ]
        }
      ]
    },
    {
      "cell_type": "markdown",
      "source": [
        "## 1. Inflow Pilots"
      ],
      "metadata": {
        "id": "OaTomKEzdCCV"
      }
    },
    {
      "cell_type": "code",
      "source": [
        "new_pilots = sq.inflow_nth_tour(num_API1=10, prop_API1_IP=.4, prop_WG=.2, \n",
        "                                num_API6=5, prop_API6_IP=.6)\n",
        "\n",
        "sq.summarize()\n"
      ],
      "metadata": {
        "colab": {
          "base_uri": "https://localhost:8080/"
        },
        "id": "MF_GHJzXdFPc",
        "outputId": "9ed8e06e-1615-46fe-d44d-de6f78329baf"
      },
      "execution_count": 39,
      "outputs": [
        {
          "output_type": "stream",
          "name": "stdout",
          "text": [
            "** PID 38 EXPERIENCED\n",
            "** PID 39 EXPERIENCED\n",
            "** PID 40 EXPERIENCED\n",
            "** PID 41 EXPERIENCED\n",
            "** PID 42 EXPERIENCED\n",
            "** PID 43 EXPERIENCED\n",
            "** PID 44 EXPERIENCED\n",
            "** PID 45 EXPERIENCED\n",
            "** PID 46 EXPERIENCED\n",
            "** PID 47 EXPERIENCED\n",
            "** PID 48 EXPERIENCED\n",
            "** PID 49 EXPERIENCED\n",
            "** PID 50 EXPERIENCED\n",
            "0th FS SUMMARY:\n",
            "API-1 (36) >> EXP: 20 / INX: 16 | EXP% (API-1): 0.56 | API-6: 15 | WG: 15 (+1 in MQT) / FL: 11 (+0 in FLUG) / IP: 9 (+0 in IPUG) \n"
          ]
        }
      ]
    },
    {
      "cell_type": "code",
      "source": [
        "[p.summarize() for p in new_pilots]"
      ],
      "metadata": {
        "colab": {
          "base_uri": "https://localhost:8080/"
        },
        "id": "hOdlhKnRk_CB",
        "outputId": "e51796c2-b84b-4bdc-a699-ffb8d0742093"
      },
      "execution_count": 40,
      "outputs": [
        {
          "output_type": "execute_result",
          "data": {
            "text/plain": [
              "[\"PID 36: INX | SOR:  252 | TOS: 00.0 mo. | QL: ['WG']\",\n",
              " \"PID 37: INX | SOR:  211 | TOS: 00.0 mo. | QL: ['WG']\",\n",
              " \"PID 38: EXP | SOR:  473 | TOS: 00.0 mo. | QL: ['WG', 'FL']\",\n",
              " \"PID 39: EXP | SOR:  538 | TOS: 00.0 mo. | QL: ['WG', 'FL']\",\n",
              " \"PID 40: EXP | SOR:  342 | TOS: 00.0 mo. | QL: ['WG', 'FL']\",\n",
              " \"PID 41: EXP | SOR:  339 | TOS: 00.0 mo. | QL: ['WG', 'FL']\",\n",
              " \"PID 42: 6-EXP | SOR:  996 | TOS: 00.0 mo. | QL: ['WG', 'FL', 'IP']\",\n",
              " \"PID 43: 6-EXP | SOR: 1095 | TOS: 00.0 mo. | QL: ['WG', 'FL']\",\n",
              " \"PID 44: 6-EXP | SOR:  979 | TOS: 00.0 mo. | QL: ['WG', 'FL', 'IP']\",\n",
              " \"PID 45: 6-EXP | SOR: 1022 | TOS: 00.0 mo. | QL: ['WG', 'FL', 'IP']\",\n",
              " \"PID 46: 6-EXP | SOR:  940 | TOS: 00.0 mo. | QL: ['WG', 'FL']\",\n",
              " \"PID 47: EXP | SOR: 1215 | TOS: 00.0 mo. | QL: ['WG', 'FL', 'IP']\",\n",
              " \"PID 48: EXP | SOR: 1288 | TOS: 00.0 mo. | QL: ['WG', 'FL', 'IP']\",\n",
              " \"PID 49: EXP | SOR:  791 | TOS: 00.0 mo. | QL: ['WG', 'FL', 'IP']\",\n",
              " \"PID 50: EXP | SOR:  849 | TOS: 00.0 mo. | QL: ['WG', 'FL', 'IP']\"]"
            ]
          },
          "metadata": {},
          "execution_count": 40
        }
      ]
    },
    {
      "cell_type": "code",
      "source": [
        "new_pilots = sq.inflow_first_tour(8)\n",
        "sq.summarize()"
      ],
      "metadata": {
        "id": "VsEueVbXvpuT",
        "outputId": "4ca917c6-13d5-4297-c549-f0fce8e30a81",
        "colab": {
          "base_uri": "https://localhost:8080/"
        }
      },
      "execution_count": 41,
      "outputs": [
        {
          "output_type": "stream",
          "name": "stdout",
          "text": [
            "0th FS SUMMARY:\n",
            "API-1 (44) >> EXP: 20 / INX: 24 | EXP% (API-1): 0.45 | API-6: 15 | WG: 15 (+1 in MQT) / FL: 11 (+0 in FLUG) / IP: 9 (+0 in IPUG) \n"
          ]
        }
      ]
    },
    {
      "cell_type": "code",
      "source": [
        "[p.summarize() for p in new_pilots]"
      ],
      "metadata": {
        "id": "vwz6C1Hevy7g",
        "outputId": "d38b24ff-fc3e-40eb-829a-68e5612b38de",
        "colab": {
          "base_uri": "https://localhost:8080/"
        }
      },
      "execution_count": 42,
      "outputs": [
        {
          "output_type": "execute_result",
          "data": {
            "text/plain": [
              "['PID 51: INX | SOR:   62 | TOS: 00.0 mo. | QL: []',\n",
              " 'PID 52: INX | SOR:   55 | TOS: 00.0 mo. | QL: []',\n",
              " 'PID 53: INX | SOR:   67 | TOS: 00.0 mo. | QL: []',\n",
              " 'PID 54: INX | SOR:   60 | TOS: 00.0 mo. | QL: []',\n",
              " 'PID 55: INX | SOR:   65 | TOS: 00.0 mo. | QL: []',\n",
              " 'PID 56: INX | SOR:   55 | TOS: 00.0 mo. | QL: []',\n",
              " 'PID 57: INX | SOR:   59 | TOS: 00.0 mo. | QL: []',\n",
              " 'PID 58: INX | SOR:   61 | TOS: 00.0 mo. | QL: []']"
            ]
          },
          "metadata": {},
          "execution_count": 42
        }
      ]
    },
    {
      "cell_type": "code",
      "source": [
        ""
      ],
      "metadata": {
        "id": "hPqAdAq3v0_2"
      },
      "execution_count": null,
      "outputs": []
    }
  ]
}