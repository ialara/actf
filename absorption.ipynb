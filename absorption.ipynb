{
  "nbformat": 4,
  "nbformat_minor": 0,
  "metadata": {
    "colab": {
      "name": "absorption.ipynb",
      "provenance": []
    },
    "kernelspec": {
      "name": "python3",
      "display_name": "Python 3"
    },
    "language_info": {
      "name": "python"
    }
  },
  "cells": [
    {
      "cell_type": "markdown",
      "source": [
        "# F-16 Absorption Model\n",
        "## Ignacio Lara\n",
        "\n",
        "### Steps\n",
        "1. Initialization\n",
        "  1. Populate the squadron\n",
        "    * Size (API-1 and API-6)\n",
        "    * Distribution of INX/EXP\n",
        "    * Distribution of sortie counts/qualifications/placement in upgrades\n",
        "1. Inflow new pilots\n",
        "  * Distribution of B-Course vs. FAIP/PQP (including qualifications of nth-tour)\n",
        "  * Distribution of API-1 vs API-6\n",
        "1. Determine resources available\n",
        "   * Flying Hours remaining\n",
        "   * Sorties (capacity, driven by UTE and PAA)\n",
        "   * IPs and/or appropriate upgrade support pilots\n",
        "1. Determine sortie needs\n",
        "   * Upgrade vs. CT\n",
        "   * ASD for FHP accrual\n",
        "1. Schedule resources for sorties\n",
        "1. Attempt to fly sorties\n",
        "   * Refly rate to capture ground abort, incomplete sorties, wx cancellations, etc.\n",
        "   * Decrement FHP for sorties flown\n",
        "1. Credit sortie completion for syllabus and/or RTM \"beans\"\n",
        "1. Award upgrades / experiencing\n",
        "1. Outflow pilots\n",
        "\n",
        "<hr />\n",
        "\n",
        "### 0. Setup"
      ],
      "metadata": {
        "id": "1FOFMsy3tT-_"
      }
    },
    {
      "cell_type": "code",
      "execution_count": 319,
      "metadata": {
        "id": "nBKnRi26tQTu"
      },
      "outputs": [],
      "source": [
        "import numpy as np\n",
        "\n",
        "rng = np.random.default_rng()\n",
        "\n",
        "ug_names = ['MQT', 'FLUG', 'IPUG']\n",
        "ug_rides = [10,     15,     8]\n",
        "ug_quals = ['WM',   'FL',   'IP']\n",
        "\n",
        "class Pilot:\n",
        "    \"\"\"An Air Force pilot that fills squadron billets with qualifications\"\"\"\n",
        "    # Syllabus lengths (number of UP sorties)\n",
        "    syllabi_rides = {ug: dur for ug, dur in zip(ug_names, ug_rides)}\n",
        "\n",
        "    # Quals awarded when completing upgrades\n",
        "    ug_awards = {ug: q for ug, q in zip(ug_names, ug_quals)}\n",
        "\n",
        "    # Everyone gets these many sorties from FTU\n",
        "    FTU_sorties = 15\n",
        "\n",
        "    # Definition of experience\n",
        "    exp_sorties = 250\n",
        "    exp_qual = 'FL'\n",
        "\n",
        "    def __init__(self, f16_sorties, tos, api_category, quals=[], ug=None):\n",
        "        self.f16_sorties = self.FTU_sorties + f16_sorties\n",
        "        self.tos = tos\n",
        "        self.quals = quals\n",
        "        self.check_experience()\n",
        "        self.api_category = 1 if not self.is_exp else api_category\n",
        "        self.ug = None\n",
        "        if ug is not None:\n",
        "            self.enroll_upgrade(ug)\n",
        "\n",
        "    def enroll_upgrade(self, ug):\n",
        "        assert self.ug is None, 'Pilot already enrolled in upgrade'\n",
        "        assert ug in ug_names, 'Invalid upgrade specified'\n",
        "        self.ug = ug\n",
        "        self.ride_num = 0\n",
        "\n",
        "    def fly_ug_sortie(self):\n",
        "        assert self.ug is not None, 'Pilot not enrolled in any upgrade'\n",
        "        self.ride_num += 1\n",
        "        self.f16_sorties += 1\n",
        "        if self.ride_num == self.syllabi_rides[self.ug]:\n",
        "            self.award_qual(self.ug_awards[self.ug])\n",
        "\n",
        "    def fly_spt_sortie(self):\n",
        "        self.f16_sorties += 1\n",
        "\n",
        "    def award_qual(self, qual):\n",
        "        assert qual in ug_quals, 'Invalid qualification specified'\n",
        "        self.quals.append(qual)\n",
        "        self.ug = None\n",
        "\n",
        "    def check_experience(self):\n",
        "        self.is_exp = (self.f16_sorties >= self.exp_sorties and \n",
        "                      self.exp_qual in self.quals)\n",
        "\n",
        "    def summarize(self):\n",
        "        text = '{}-{} -- S: {} -- T: {}mo. -- Q: {}'.format('EXP' if self.is_exp else '(I)',\n",
        "                                                            self.api_category,\n",
        "                                                            self.f16_sorties,\n",
        "                                                            self.tos,\n",
        "                                                            self.quals)\n",
        "        if self.ug is not None:\n",
        "            text += ' -- U: {} #{}'.format(self.ug, self.ride_num)\n",
        "        return text\n",
        "\n",
        "\n",
        "# Helper functions\n",
        "def add_INX_pilot(f16_sorties=0, tos=0, quals=[], ug=None):\n",
        "    return Pilot(f16_sorties, tos, 1, quals, ug)\n",
        "\n",
        "def add_EXP_pilot(f16_sorties=250, tos=20, api_category=1, quals=ug_quals[:-1], ug=None):\n",
        "    return Pilot(f16_sorties, tos, api_category, quals, ug)\n",
        "\n",
        "# Squadron initialization\n",
        "def populate_sq(size=10, prop_INX=0.55, prop_IP=0.3, num_API6=2):\n",
        "    pilots = []\n",
        "\n",
        "    num_INX = int(size*prop_INX)\n",
        "    num_EXP = size - num_INX\n",
        "    num_IP = int(num_EXP*prop_IP)\n",
        "    num_API1 = size - num_API6\n",
        "    # Parameters\n",
        "    max_TOS_INX = 24\n",
        "    min_TOS_EXP = 24\n",
        "    max_TOS_EXP = 32\n",
        "\n",
        "    min_f16_sorties_EXP = 250\n",
        "    max_f16_sorties_EXP = 500\n",
        "\n",
        "    max_f16_sorties_INX = 250\n",
        "\n",
        "    staff = num_API6\n",
        "    # Add EXP pilots\n",
        "    for _ in range(num_EXP):\n",
        "        tos = rng.integers(min_TOS_EXP, max_TOS_EXP + 1)\n",
        "        # Award sorties proportional to TOS\n",
        "        sorties = int((tos - min_TOS_EXP)/(max_TOS_EXP - min_TOS_EXP) *\n",
        "                  (max_f16_sorties_EXP - min_f16_sorties_EXP)) + min_f16_sorties_EXP\n",
        "\n",
        "        quals = ug_quals[:-1]\n",
        "\n",
        "        if staff > 0:\n",
        "            api = 6\n",
        "            staff -= 1\n",
        "        else:\n",
        "            api = 1\n",
        "\n",
        "        if num_IP > 0:\n",
        "            quals.append(ug_quals[-1])\n",
        "            num_IP -= 1\n",
        "          \n",
        "        pilot = add_EXP_pilot(sorties, tos, api, quals)\n",
        "        pilots.append(pilot)\n",
        "\n",
        "    # Add INX pilots\n",
        "    for _ in range(num_INX):\n",
        "        tos = rng.integers(max_TOS_INX + 1)\n",
        "        sorties = int(tos/max_TOS_INX * max_f16_sorties_INX)\n",
        "\n",
        "        pilot = add_INX_pilot(sorties, tos, ug=ug_names[0])\n",
        "        mqt_prog = rng.integers(ug_rides[0]) # Intentionally capping starting INX at 1 MQT ride from end\n",
        "        for s in range(mqt_prog):\n",
        "            pilot.fly_ug_sortie()\n",
        "\n",
        "        pilots.append(pilot)\n",
        "\n",
        "    return pilots\n",
        "\n",
        "def print_sq(pilot_list):\n",
        "    return ['Pilot {}: '.format(i) + p.summarize() for i, p in enumerate(sq)]\n",
        "\n",
        "\n",
        "\n",
        "\n",
        "\n",
        "\n",
        "\n",
        "\n"
      ]
    },
    {
      "cell_type": "code",
      "source": [
        "sq = populate_sq(10)\n",
        "sq"
      ],
      "metadata": {
        "id": "5BYX_qeE9SYl",
        "colab": {
          "base_uri": "https://localhost:8080/"
        },
        "outputId": "315cc5b3-a6f9-4f63-ec55-ec6bf0aae767"
      },
      "execution_count": 320,
      "outputs": [
        {
          "output_type": "execute_result",
          "data": {
            "text/plain": [
              "[<__main__.Pilot at 0x7fccbc288710>,\n",
              " <__main__.Pilot at 0x7fccbc288290>,\n",
              " <__main__.Pilot at 0x7fccbc288d50>,\n",
              " <__main__.Pilot at 0x7fccbc288590>,\n",
              " <__main__.Pilot at 0x7fccbc288f90>,\n",
              " <__main__.Pilot at 0x7fccbc288c50>,\n",
              " <__main__.Pilot at 0x7fccbc3c1750>,\n",
              " <__main__.Pilot at 0x7fccbc288850>,\n",
              " <__main__.Pilot at 0x7fccbc288bd0>,\n",
              " <__main__.Pilot at 0x7fccbc288610>]"
            ]
          },
          "metadata": {},
          "execution_count": 320
        }
      ]
    },
    {
      "cell_type": "code",
      "source": [
        "print_sq(sq)"
      ],
      "metadata": {
        "colab": {
          "base_uri": "https://localhost:8080/"
        },
        "id": "HZ21ja5ZAPvG",
        "outputId": "6804e06d-7955-455e-800c-1ce6886d6132"
      },
      "execution_count": 321,
      "outputs": [
        {
          "output_type": "execute_result",
          "data": {
            "text/plain": [
              "[\"Pilot 0: EXP-6 -- S: 296 -- T: 25mo. -- Q: ['WM', 'FL', 'IP']\",\n",
              " \"Pilot 1: EXP-6 -- S: 421 -- T: 29mo. -- Q: ['WM', 'FL']\",\n",
              " \"Pilot 2: EXP-1 -- S: 515 -- T: 32mo. -- Q: ['WM', 'FL']\",\n",
              " \"Pilot 3: EXP-1 -- S: 265 -- T: 24mo. -- Q: ['WM', 'FL']\",\n",
              " \"Pilot 4: EXP-1 -- S: 515 -- T: 32mo. -- Q: ['WM', 'FL']\",\n",
              " 'Pilot 5: (I)-1 -- S: 180 -- T: 15mo. -- Q: [] -- U: MQT #9',\n",
              " 'Pilot 6: (I)-1 -- S: 109 -- T: 9mo. -- Q: [] -- U: MQT #1',\n",
              " 'Pilot 7: (I)-1 -- S: 184 -- T: 16mo. -- Q: [] -- U: MQT #3',\n",
              " 'Pilot 8: (I)-1 -- S: 134 -- T: 11mo. -- Q: [] -- U: MQT #5',\n",
              " 'Pilot 9: (I)-1 -- S: 162 -- T: 14mo. -- Q: [] -- U: MQT #2']"
            ]
          },
          "metadata": {},
          "execution_count": 321
        }
      ]
    },
    {
      "cell_type": "code",
      "source": [
        "sq[5].fly_ug_sortie()"
      ],
      "metadata": {
        "id": "plYSGeUQHim9"
      },
      "execution_count": 322,
      "outputs": []
    },
    {
      "cell_type": "code",
      "source": [
        "print_sq(sq)"
      ],
      "metadata": {
        "id": "_ASL3RVuM7zI",
        "colab": {
          "base_uri": "https://localhost:8080/"
        },
        "outputId": "59084acd-47c2-4634-f903-5c2a00f8c8de"
      },
      "execution_count": 323,
      "outputs": [
        {
          "output_type": "execute_result",
          "data": {
            "text/plain": [
              "[\"Pilot 0: EXP-6 -- S: 296 -- T: 25mo. -- Q: ['WM', 'FL', 'IP']\",\n",
              " \"Pilot 1: EXP-6 -- S: 421 -- T: 29mo. -- Q: ['WM', 'FL']\",\n",
              " \"Pilot 2: EXP-1 -- S: 515 -- T: 32mo. -- Q: ['WM', 'FL']\",\n",
              " \"Pilot 3: EXP-1 -- S: 265 -- T: 24mo. -- Q: ['WM', 'FL']\",\n",
              " \"Pilot 4: EXP-1 -- S: 515 -- T: 32mo. -- Q: ['WM', 'FL']\",\n",
              " \"Pilot 5: (I)-1 -- S: 181 -- T: 15mo. -- Q: ['WM']\",\n",
              " \"Pilot 6: (I)-1 -- S: 109 -- T: 9mo. -- Q: ['WM'] -- U: MQT #1\",\n",
              " \"Pilot 7: (I)-1 -- S: 184 -- T: 16mo. -- Q: ['WM'] -- U: MQT #3\",\n",
              " \"Pilot 8: (I)-1 -- S: 134 -- T: 11mo. -- Q: ['WM'] -- U: MQT #5\",\n",
              " \"Pilot 9: (I)-1 -- S: 162 -- T: 14mo. -- Q: ['WM'] -- U: MQT #2\"]"
            ]
          },
          "metadata": {},
          "execution_count": 323
        }
      ]
    },
    {
      "cell_type": "code",
      "source": [
        "sq[4].enroll_upgrade('IPUG')\n",
        "for s in range(6):\n",
        "  sq[4].fly_ug_sortie()\n",
        "\n",
        "print_sq(sq)"
      ],
      "metadata": {
        "colab": {
          "base_uri": "https://localhost:8080/"
        },
        "id": "WxdKcx_6SJ8T",
        "outputId": "24300eef-9149-45f6-ef51-718bd031317d"
      },
      "execution_count": 285,
      "outputs": [
        {
          "output_type": "execute_result",
          "data": {
            "text/plain": [
              "[\"Pilot 0: EXP-6 -- S: 390 -- T: 28mo. -- Q: ['WM', 'FL', 'IP']\",\n",
              " \"Pilot 1: EXP-6 -- S: 327 -- T: 26mo. -- Q: ['WM', 'FL']\",\n",
              " \"Pilot 2: EXP-1 -- S: 358 -- T: 27mo. -- Q: ['WM', 'FL']\",\n",
              " \"Pilot 3: EXP-1 -- S: 358 -- T: 27mo. -- Q: ['WM', 'FL']\",\n",
              " \"Pilot 4: EXP-1 -- S: 458 -- T: 30mo. -- Q: ['WM', 'FL'] -- U: IPUG #6\",\n",
              " \"Pilot 5: (I)-1 -- S: 101 -- T: 8mo. -- Q: ['WM'] -- U: MQT #3\",\n",
              " \"Pilot 6: (I)-1 -- S: 244 -- T: 22mo. -- Q: ['WM'] -- U: MQT #0\",\n",
              " \"Pilot 7: (I)-1 -- S: 94 -- T: 7mo. -- Q: ['WM'] -- U: MQT #7\",\n",
              " \"Pilot 8: (I)-1 -- S: 178 -- T: 15mo. -- Q: ['WM'] -- U: MQT #7\",\n",
              " \"Pilot 9: (I)-1 -- S: 275 -- T: 24mo. -- Q: ['WM']\"]"
            ]
          },
          "metadata": {},
          "execution_count": 285
        }
      ]
    },
    {
      "cell_type": "code",
      "source": [
        "sq[7].fly_ug_sortie()"
      ],
      "metadata": {
        "id": "CfbFatrDUN6n"
      },
      "execution_count": 296,
      "outputs": []
    },
    {
      "cell_type": "code",
      "source": [
        "print_sq(sq)"
      ],
      "metadata": {
        "colab": {
          "base_uri": "https://localhost:8080/"
        },
        "id": "mWqaPlBkUQPn",
        "outputId": "7257fdbc-3a98-4b85-d712-015bf4c4e51b"
      },
      "execution_count": 297,
      "outputs": [
        {
          "output_type": "execute_result",
          "data": {
            "text/plain": [
              "[\"Pilot 0: EXP-6 -- S: 390 -- T: 28mo. -- Q: ['WM', 'FL', 'IP']\",\n",
              " \"Pilot 1: EXP-6 -- S: 327 -- T: 26mo. -- Q: ['WM', 'FL']\",\n",
              " \"Pilot 2: EXP-1 -- S: 358 -- T: 27mo. -- Q: ['WM', 'FL']\",\n",
              " \"Pilot 3: EXP-1 -- S: 358 -- T: 27mo. -- Q: ['WM', 'FL']\",\n",
              " \"Pilot 4: EXP-1 -- S: 460 -- T: 30mo. -- Q: ['WM', 'FL', 'IP']\",\n",
              " \"Pilot 5: (I)-1 -- S: 101 -- T: 8mo. -- Q: ['WM', 'WM'] -- U: MQT #3\",\n",
              " \"Pilot 6: (I)-1 -- S: 244 -- T: 22mo. -- Q: ['WM', 'WM'] -- U: MQT #0\",\n",
              " \"Pilot 7: (I)-1 -- S: 97 -- T: 7mo. -- Q: ['WM', 'WM']\",\n",
              " \"Pilot 8: (I)-1 -- S: 178 -- T: 15mo. -- Q: ['WM', 'WM'] -- U: MQT #7\",\n",
              " \"Pilot 9: (I)-1 -- S: 275 -- T: 24mo. -- Q: ['WM', 'WM']\"]"
            ]
          },
          "metadata": {},
          "execution_count": 297
        }
      ]
    },
    {
      "cell_type": "code",
      "source": [
        ""
      ],
      "metadata": {
        "id": "0PFvo7INUTLA"
      },
      "execution_count": null,
      "outputs": []
    }
  ]
}