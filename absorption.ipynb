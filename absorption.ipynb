{
  "nbformat": 4,
  "nbformat_minor": 0,
  "metadata": {
    "colab": {
      "name": "absorption.ipynb",
      "provenance": [],
      "include_colab_link": true
    },
    "kernelspec": {
      "name": "python3",
      "display_name": "Python 3"
    },
    "language_info": {
      "name": "python"
    }
  },
  "cells": [
    {
      "cell_type": "markdown",
      "metadata": {
        "id": "view-in-github",
        "colab_type": "text"
      },
      "source": [
        "<a href=\"https://colab.research.google.com/github/ialara/actf/blob/main/absorption.ipynb\" target=\"_parent\"><img src=\"https://colab.research.google.com/assets/colab-badge.svg\" alt=\"Open In Colab\"/></a>"
      ]
    },
    {
      "cell_type": "markdown",
      "source": [
        "# F-16 Absorption Model\n",
        "## Ignacio Lara\n",
        "\n",
        "### Steps\n",
        "1. Initialization\n",
        "  1. Populate the squadron\n",
        "    * Size (API-1 and API-6)\n",
        "    * Distribution of INX/EXP\n",
        "    * Distribution of sortie counts/qualifications/placement in upgrades\n",
        "1. Inflow new pilots\n",
        "  * Distribution of B-Course vs. FAIP/PQP (including qualifications of nth-tour)\n",
        "  * Distribution of API-1 vs API-6\n",
        "1. Determine resources available\n",
        "   * Flying Hours remaining\n",
        "   * Sorties (capacity, driven by UTE and PAA)\n",
        "   * IPs and/or appropriate upgrade support pilots\n",
        "1. Determine sortie needs\n",
        "   * Upgrade vs. CT\n",
        "   * ASD for FHP accrual\n",
        "1. Schedule resources for sorties\n",
        "1. Attempt to fly sorties\n",
        "   * Refly rate to capture ground abort, incomplete sorties, wx cancellations, etc.\n",
        "   * Decrement FHP for sorties flown\n",
        "1. Credit sortie completion for syllabus and/or RTM \"beans\"\n",
        "1. Award upgrades / experiencing\n",
        "1. Outflow pilots\n",
        "\n",
        "<hr />\n",
        "\n",
        "### 0. Setup"
      ],
      "metadata": {
        "id": "1FOFMsy3tT-_"
      }
    },
    {
      "cell_type": "code",
      "source": [
        "a = ['foo', 'foo', 'bar', None]\n",
        "\n",
        "np.sum('foo' in a)"
      ],
      "metadata": {
        "id": "QKIfzRpyY-RS",
        "outputId": "323e3dbc-159e-4d9e-baf4-338b213ab61f",
        "colab": {
          "base_uri": "https://localhost:8080/"
        }
      },
      "execution_count": 53,
      "outputs": [
        {
          "output_type": "execute_result",
          "data": {
            "text/plain": [
              "1"
            ]
          },
          "metadata": {},
          "execution_count": 53
        }
      ]
    },
    {
      "cell_type": "code",
      "execution_count": 62,
      "metadata": {
        "id": "nBKnRi26tQTu"
      },
      "outputs": [],
      "source": [
        "import numpy as np\n",
        "\n",
        "rng = np.random.default_rng()\n",
        "\n",
        "ug_names = ['MQT', 'FLUG', 'IPUG']\n",
        "ug_rides = [10,     15,     8]\n",
        "ug_quals = ['WM',   'FL',   'IP']\n",
        "\n",
        "class Pilot:\n",
        "    \"\"\"An Air Force F-16 pilot that fills squadron billets\"\"\"\n",
        "    # Syllabus lengths (number of UP sorties)\n",
        "    syllabi_rides = {ug: dur for ug, dur in zip(ug_names, ug_rides)}\n",
        "\n",
        "    # Quals awarded when completing upgrades\n",
        "    ug_awards = {ug: q for ug, q in zip(ug_names, ug_quals)}\n",
        "\n",
        "    # Everyone gets these many sorties from FTU\n",
        "    ftu_sorties = 15\n",
        "\n",
        "    # Definition of experience\n",
        "    exp_sorties = 250\n",
        "    exp_qual = 'FL'\n",
        "\n",
        "    def __init__(self, id, f16_sorties, tos, api_category, quals=[], ug=None):\n",
        "        self.id = id\n",
        "        self.f16_sorties = self.ftu_sorties + f16_sorties\n",
        "        self.tos = tos\n",
        "        self.quals = quals\n",
        "        self.is_exp = False\n",
        "        self.check_experience()\n",
        "        self.api_category = 1 if not self.is_exp else api_category\n",
        "        self.ug = None\n",
        "        if ug is not None:\n",
        "            self.enroll_upgrade(ug)\n",
        "\n",
        "    def log(self, msg, prefix='>>'):\n",
        "        print(f'{prefix} PID {self.id} {msg}')\n",
        "\n",
        "    def enroll_upgrade(self, ug):\n",
        "        assert self.ug is None, 'Pilot already enrolled in upgrade'\n",
        "        assert ug in ug_names, 'Invalid upgrade specified'\n",
        "        assert self.ug_awards[ug] not in self.quals, 'Pilot already completed upgrade'\n",
        "        self.ug = ug\n",
        "        self.ride_num = 0\n",
        "        self.pending_qual = self.ug_awards[self.ug]\n",
        "        self.log(f'enrolled in {self.ug}')\n",
        "\n",
        "    def disenroll_upgrade(self):\n",
        "        prev_ug = self.ug\n",
        "        self.ug = None\n",
        "        self.log(f'disenrolled from: {prev_ug}', prefix='<<')\n",
        "\n",
        "    def fly_ug_sortie(self):\n",
        "        assert self.ug is not None, 'Pilot not enrolled in upgrade'\n",
        "        self.ride_num += 1\n",
        "        if self.check_ug_complete(self.ug, self.ride_num):\n",
        "          self.award_qual(self.pending_qual)\n",
        "          self.disenroll_upgrade()\n",
        "        self.fly_sortie()\n",
        "\n",
        "    def check_ug_complete(self, ug, ride):\n",
        "        return ride == self.syllabi_rides[ug]\n",
        "\n",
        "    def fly_sortie(self):\n",
        "        self.f16_sorties += 1\n",
        "        self.check_experience()\n",
        "\n",
        "    def award_qual(self, qual):\n",
        "        assert qual in ug_quals, 'Invalid qualification specified'\n",
        "        assert qual not in self.quals, 'Pilot already qualified'\n",
        "        self.quals.append(qual)\n",
        "        self.log(f'awarded: {qual}', prefix='++')\n",
        "\n",
        "    def check_experience(self):\n",
        "        prev_status = self.is_exp\n",
        "        self.is_exp = (self.f16_sorties >= self.exp_sorties and \n",
        "                      self.exp_qual in self.quals)\n",
        "        if self.is_exp != prev_status:\n",
        "            self.log('EXPERIENCED', prefix='!!')\n",
        "\n",
        "    def return_experience(self):\n",
        "      return self.is_exp\n",
        "\n",
        "    def return_upgrade(self):\n",
        "      return self.ug\n",
        "\n",
        "    def return_api(self):\n",
        "      return self.api_category\n",
        "\n",
        "    def return_highest_qual(self):\n",
        "      if self.quals == []:\n",
        "        return ''\n",
        "  \n",
        "      return self.quals[-1]\n",
        "\n",
        "    def summarize(self):\n",
        "        text = 'PID {:2d}: {} | API: {} | SOR: {:4d} | TOS: {:2d}mo. | QL: {}'.format(self.id,\n",
        "                                                            'EXP' if self.is_exp else 'INX',\n",
        "                                                            self.api_category,\n",
        "                                                            self.f16_sorties,\n",
        "                                                            self.tos,\n",
        "                                                            self.quals)\n",
        "        if self.ug is not None:\n",
        "            text += ' | UG: {} #{}'.format(self.ug, self.ride_num)\n",
        "        return text\n",
        "\n",
        "class SquadronRoster:\n",
        "    \"\"\"A collection of Air Force pilots in the same squadron\"\"\"\n",
        "    \n",
        "    def __init__(self, sq_name, pilots=[]):\n",
        "        self.sq_name = sq_name\n",
        "        self.pilots = pilots\n",
        "        self.pid = 0\n",
        "\n",
        "    def add_INX_pilot(self, f16_sorties=0, tos=0, quals=[], ug=None):\n",
        "        pilot = Pilot(self.pid, f16_sorties, tos, 1, quals, ug)\n",
        "        self.pilots.append(pilot)\n",
        "        self.pid += 1\n",
        "        return pilot\n",
        "\n",
        "    def add_EXP_pilot(self, f16_sorties=250, tos=20, api_category=1, quals=ug_quals[:-1], ug=None):\n",
        "        pilot = Pilot(self.pid, f16_sorties, tos, api_category, quals, ug)\n",
        "        self.pilots.append(pilot)\n",
        "        self.pid += 1\n",
        "        return pilot\n",
        "\n",
        "    def populate(self, size=10, prop_INX=0.55, prop_IP=0.3, num_API6=2):\n",
        "        num_INX = int(size*prop_INX)\n",
        "        num_EXP = size - num_INX\n",
        "        ip_billets_remaining = int(num_EXP*prop_IP)\n",
        "        num_API1 = size - num_API6\n",
        "        # Parameters\n",
        "        max_TOS_INX = 24\n",
        "        min_TOS_EXP = 24\n",
        "        max_TOS_EXP = 32\n",
        "\n",
        "        min_f16_sorties_EXP = 250\n",
        "        max_f16_sorties_EXP = 500\n",
        "\n",
        "        max_f16_sorties_INX = 250\n",
        "\n",
        "        staff_billets_remaining = num_API6\n",
        "        # Add EXP pilots\n",
        "        for _ in range(num_EXP):\n",
        "            tos = rng.integers(min_TOS_EXP, max_TOS_EXP + 1)\n",
        "            # Award sorties proportional to TOS\n",
        "            sorties = int((tos - min_TOS_EXP)/(max_TOS_EXP - min_TOS_EXP) *\n",
        "                      (max_f16_sorties_EXP - min_f16_sorties_EXP)) + min_f16_sorties_EXP\n",
        "\n",
        "            quals = ug_quals[:-1] # Assumed that all EXP are at least FL\n",
        "\n",
        "            if staff_billets_remaining > 0:\n",
        "                api = 6 # Assign staff first\n",
        "                staff_billets_remaining -= 1\n",
        "            else:\n",
        "                api = 1\n",
        "                # Assume only API-1 arrive as IP\n",
        "                if ip_billets_remaining > 0:\n",
        "                    quals.append(ug_quals[-1])\n",
        "                    ip_billets_remaining -= 1\n",
        "              \n",
        "            self.add_EXP_pilot(sorties, tos, api, quals)\n",
        "\n",
        "        # Add INX pilots\n",
        "        for _ in range(num_INX):\n",
        "            tos = rng.integers(max_TOS_INX + 1)\n",
        "            sorties = int(tos/max_TOS_INX * max_f16_sorties_INX)\n",
        "\n",
        "            pilot = self.add_INX_pilot(sorties, tos, ug=ug_names[0], quals=[])\n",
        "            mqt_progress = rng.integers(ug_rides[0]) # Intentionally capping starting INX at 1 MQT ride from end\n",
        "            for s in range(mqt_progress):\n",
        "                pilot.fly_ug_sortie()\n",
        "\n",
        "    def summarize(self):\n",
        "      experience = [p.return_experience() for p in self.pilots]\n",
        "      upgrades = [p.return_upgrade() for p in self.pilots]\n",
        "      #apis = [p.return_api() for p in self.pilots]\n",
        "      highest_quals = [p.return_highest_qual() for p in self.pilots]\n",
        "\n",
        "      num_EXP = np.sum(experience)\n",
        "      num_INX = len(experience) - num_EXP\n",
        "      exp_pct = num_EXP / (num_EXP + num_INX)\n",
        "      \n",
        "      num_MQT = upgrades.count('MQT')\n",
        "      num_FLUG = upgrades.count('FLUG')\n",
        "      num_IPUG = upgrades.count('IPUG')\n",
        "      num_WM = highest_quals.count('WM')\n",
        "      num_FL = highest_quals.count('FL')\n",
        "      num_IP = highest_quals.count('IP')\n",
        "\n",
        "      print(f'{self.sq_name} SUMMARY:')\n",
        "      print(\n",
        "          f'EXP: {num_EXP} | INX: {num_INX} | EXP%: {exp_pct:.2f} | '\n",
        "          f'WM: {num_WM} (+{num_MQT} in MQT) | '\n",
        "          f'FL: {num_FL} (+{num_FLUG} in FLUG) | '\n",
        "          f'IP: {num_IP} (+{num_IPUG} in IPUG)')\n",
        "\n",
        "    \n",
        "    def print_sq(self):\n",
        "        print(f'{self.sq_name} ROSTER:')\n",
        "        for p in self.pilots:\n",
        "          print(p.summarize())\n",
        "\n",
        "class F16():\n",
        "  \"\"\"A single F-16 jet\"\"\"\n",
        "  hours_between_depot = 500\n",
        "  depot_days = 90\n",
        "  mc_rate = 0.7\n",
        "\n",
        "  def __init__(self, id, num_seats=1, ttaf=2000,\n",
        "               hours_since_last_depot=500):\n",
        "    self.id = id\n",
        "    self.num_seats = num_seats\n",
        "    self.mc_random_draw()\n",
        "    self.ttaf = ttaf\n",
        "    self.hours_since_last_depot = hours_since_last_depot\n",
        "\n",
        "  def log(self, msg, prefix='>>'):\n",
        "    print(f'{prefix} {self.id} {msg}')\n",
        "\n",
        "  def set_nmc(self):\n",
        "    self.log('is NMC', prefix='<<')\n",
        "    self.is_mc = False\n",
        "\n",
        "  def set_mc(self):\n",
        "    self.log('is MC')\n",
        "    self.is_mc = True\n",
        "\n",
        "  def mc_random_draw(self):\n",
        "    self.is_mc = rng.random() <= self.mc_rate\n",
        "\n",
        "  def fly_hours(self, hours):\n",
        "    assert self.is_mc, \"Cannot fly NMC aircraft\"\n",
        "    self.ttaf += hours\n",
        "    self.hours_since_last_depot += hours\n",
        "    self.log(f'flew {hours} hours. TTAF: {self.ttaf}. Hrs since depot: {self.hours_since_last_depot}', prefix='++')\n",
        "    if self.needs_depot():\n",
        "      self.start_depot()\n",
        "\n",
        "  def sortie(self, duration):\n",
        "    if self.is_mc:\n",
        "      self.fly_hours(duration)\n",
        "    else:\n",
        "      self.log('not flown due to NMC.', prefix='<X>')\n",
        "\n",
        "  def needs_depot(self):\n",
        "    return self.hours_since_last_depot >= self.hours_between_depot\n",
        "\n",
        "  def start_depot(self):\n",
        "    self.log('sent to depot!', prefix='!!')\n",
        "    self.set_nmc()\n",
        "    self.days_left_in_depot = self.depot_days\n",
        "\n",
        "  def sit_in_depot(self):\n",
        "    assert self.days_left_in_depot > 0, \"Aircraft already overdue from depot\"\n",
        "    self.days_left_in_depot -= 1\n",
        "\n",
        "  def complete_depot(self):\n",
        "    self.log('depot complete.', prefix='**')\n",
        "    self.set_mc()\n",
        "    self.days_left_in_depot = -1\n",
        "    self.hours_since_last_depot = 0\n",
        "\n",
        "  def print_ac(self):\n",
        "    print(f'{self.id} | MC?: {self.is_mc} | TTAF: {self.ttaf} | Hrs. since depot: {self.hours_since_last_depot}')\n",
        "\n",
        "\n",
        "class DailySchedule():\n",
        "  \"\"\"Pairing of crews and aircraft \"\"\"\n",
        "  pass\n",
        "\n",
        "\n",
        "\n",
        "\n"
      ]
    },
    {
      "cell_type": "markdown",
      "source": [
        "## Pilot class example\n",
        "\n",
        "Contains methods and properties associated with individual pilots. For example:\n",
        "\n",
        "_Methods_\n",
        "- Fly a sortie\n",
        "- Enroll in/disenroll from upgrade\n",
        "- Become experienced\n",
        "\n",
        "_Properties_\n",
        "- \\# sorties\n",
        "- Time on Station\n",
        "- API category\n",
        "- Inexperienced/Experienced status\n",
        "- Qualifications\n",
        "- Upgrade progress\n",
        "\n",
        "Class methods also contain safeguards against improper usage. In this example, we first create an `example_pilot`, with `pid = 0` (pilot ID), `f16_sorties = 24`, `tos = 4` months, and an `API=1`, with no qualifications. Then, we:\n",
        "1. Fly a single sortie for the pilot, updating total sortie count only.\n",
        "1. Attempt to fly an upgrade sortie, even though the pilot is not enrolled in an upgrade (will raise an `AssertionError`). "
      ],
      "metadata": {
        "id": "6s-cnEf-R7vc"
      }
    },
    {
      "cell_type": "code",
      "source": [
        "example_pilot = Pilot(0, 24, 4, 1, [])\n",
        "print(example_pilot.summarize())\n",
        "\n",
        "example_pilot.fly_sortie()\n",
        "print('---After flying sortie---')\n",
        "print(example_pilot.summarize())\n",
        "print('---Attempt to fly upgrade sortie with no upgrade---')\n",
        "example_pilot.fly_ug_sortie()"
      ],
      "metadata": {
        "id": "gJTF_tqMOWmt",
        "outputId": "a4b6b439-e91b-4267-97be-af293b122d39",
        "colab": {
          "base_uri": "https://localhost:8080/",
          "height": 409
        }
      },
      "execution_count": 44,
      "outputs": [
        {
          "output_type": "stream",
          "name": "stdout",
          "text": [
            "PID  0: INX | API: 1 | SOR:   39 | TOS:  4mo. | QL: []\n",
            "---After flying sortie---\n",
            "PID  0: INX | API: 1 | SOR:   40 | TOS:  4mo. | QL: []\n",
            "---Attempt to fly upgrade sortie with no upgrade---\n"
          ]
        },
        {
          "output_type": "error",
          "ename": "AssertionError",
          "evalue": "ignored",
          "traceback": [
            "\u001b[0;31m---------------------------------------------------------------------------\u001b[0m",
            "\u001b[0;31mAssertionError\u001b[0m                            Traceback (most recent call last)",
            "\u001b[0;32m<ipython-input-44-e5ea38942648>\u001b[0m in \u001b[0;36m<module>\u001b[0;34m()\u001b[0m\n\u001b[1;32m      6\u001b[0m \u001b[0mprint\u001b[0m\u001b[0;34m(\u001b[0m\u001b[0mexample_pilot\u001b[0m\u001b[0;34m.\u001b[0m\u001b[0msummarize\u001b[0m\u001b[0;34m(\u001b[0m\u001b[0;34m)\u001b[0m\u001b[0;34m)\u001b[0m\u001b[0;34m\u001b[0m\u001b[0;34m\u001b[0m\u001b[0m\n\u001b[1;32m      7\u001b[0m \u001b[0mprint\u001b[0m\u001b[0;34m(\u001b[0m\u001b[0;34m'---Attempt to fly upgrade sortie with no upgrade---'\u001b[0m\u001b[0;34m)\u001b[0m\u001b[0;34m\u001b[0m\u001b[0;34m\u001b[0m\u001b[0m\n\u001b[0;32m----> 8\u001b[0;31m \u001b[0mexample_pilot\u001b[0m\u001b[0;34m.\u001b[0m\u001b[0mfly_ug_sortie\u001b[0m\u001b[0;34m(\u001b[0m\u001b[0;34m)\u001b[0m\u001b[0;34m\u001b[0m\u001b[0;34m\u001b[0m\u001b[0m\n\u001b[0m",
            "\u001b[0;32m<ipython-input-1-6ec1bdb7148b>\u001b[0m in \u001b[0;36mfly_ug_sortie\u001b[0;34m(self)\u001b[0m\n\u001b[1;32m     52\u001b[0m \u001b[0;34m\u001b[0m\u001b[0m\n\u001b[1;32m     53\u001b[0m     \u001b[0;32mdef\u001b[0m \u001b[0mfly_ug_sortie\u001b[0m\u001b[0;34m(\u001b[0m\u001b[0mself\u001b[0m\u001b[0;34m)\u001b[0m\u001b[0;34m:\u001b[0m\u001b[0;34m\u001b[0m\u001b[0;34m\u001b[0m\u001b[0m\n\u001b[0;32m---> 54\u001b[0;31m         \u001b[0;32massert\u001b[0m \u001b[0mself\u001b[0m\u001b[0;34m.\u001b[0m\u001b[0mug\u001b[0m \u001b[0;32mis\u001b[0m \u001b[0;32mnot\u001b[0m \u001b[0;32mNone\u001b[0m\u001b[0;34m,\u001b[0m \u001b[0;34m'Pilot not enrolled in upgrade'\u001b[0m\u001b[0;34m\u001b[0m\u001b[0;34m\u001b[0m\u001b[0m\n\u001b[0m\u001b[1;32m     55\u001b[0m         \u001b[0mself\u001b[0m\u001b[0;34m.\u001b[0m\u001b[0mride_num\u001b[0m \u001b[0;34m+=\u001b[0m \u001b[0;36m1\u001b[0m\u001b[0;34m\u001b[0m\u001b[0;34m\u001b[0m\u001b[0m\n\u001b[1;32m     56\u001b[0m         \u001b[0;32mif\u001b[0m \u001b[0mself\u001b[0m\u001b[0;34m.\u001b[0m\u001b[0mcheck_ug_complete\u001b[0m\u001b[0;34m(\u001b[0m\u001b[0mself\u001b[0m\u001b[0;34m.\u001b[0m\u001b[0mug\u001b[0m\u001b[0;34m,\u001b[0m \u001b[0mself\u001b[0m\u001b[0;34m.\u001b[0m\u001b[0mride_num\u001b[0m\u001b[0;34m)\u001b[0m\u001b[0;34m:\u001b[0m\u001b[0;34m\u001b[0m\u001b[0;34m\u001b[0m\u001b[0m\n",
            "\u001b[0;31mAssertionError\u001b[0m: Pilot not enrolled in upgrade"
          ]
        }
      ]
    },
    {
      "cell_type": "markdown",
      "source": [
        "We fix the `AssertionError` by enrolling the pilot in MQT. Now, it makes sense to fly an upgrade sortie, which updates totals like before, as well as progressing the pilot through an upgrade syllabus and checking for completion.\n",
        "1. The pilot's progress through MQT is indicated by `UG: MQT #0` (only when enrolled in an upgrade). When the pilot completes MQT, the pilot is awarded the Wingman qualification, shown in `QL = ['WM']`, and disenrolled from MQT.\n",
        "1. When the pilot meets 250 sorties, but without completing FLUG, the pilot is still recognized as inexperienced (`INX`).\n",
        "1. After the pilot completes FLUG, and meets the sortie minimum, the pilot is awarded the FL qualification, disenrolled from FLUG, and updated to reflect experienced status (`EXP`).\n",
        "\n",
        "In practice, these methods and properties will be called by higher-level functions in the simulation. But this example demonstrates some of the functionality present in the `Pilot` class."
      ],
      "metadata": {
        "id": "DjITGMWNTDK_"
      }
    },
    {
      "cell_type": "code",
      "source": [
        "example_pilot.enroll_upgrade('MQT')\n",
        "print(example_pilot.summarize())\n",
        "\n",
        "example_pilot.fly_ug_sortie()\n",
        "print('---After flying MQT sortie---')\n",
        "print(example_pilot.summarize())"
      ],
      "metadata": {
        "id": "v8QGYGtGPBZh",
        "outputId": "6e385f4a-fc35-4646-bb0d-07d4fbedcb3f",
        "colab": {
          "base_uri": "https://localhost:8080/"
        }
      },
      "execution_count": 45,
      "outputs": [
        {
          "output_type": "stream",
          "name": "stdout",
          "text": [
            ">> PID 0 enrolled in MQT\n",
            "PID  0: INX | API: 1 | SOR:   40 | TOS:  4mo. | QL: [] | UG: MQT #0\n",
            "---After flying MQT sortie---\n",
            "PID  0: INX | API: 1 | SOR:   41 | TOS:  4mo. | QL: [] | UG: MQT #1\n"
          ]
        }
      ]
    },
    {
      "cell_type": "code",
      "source": [
        "print('---Fly remaining MQT sorties---')\n",
        "for _ in range(10 - example_pilot.ride_num):\n",
        "  example_pilot.fly_ug_sortie()\n",
        "print(example_pilot.summarize())\n",
        "\n",
        "example_pilot.f16_sorties = 250\n",
        "print('---Meet EXP sortie criteria, but not FL---')\n",
        "print(example_pilot.summarize())\n",
        "\n",
        "example_pilot.enroll_upgrade('FLUG')\n",
        "\n",
        "for _ in range(14 - example_pilot.ride_num):\n",
        "  example_pilot.fly_ug_sortie()\n",
        "\n",
        "print('---One ride from completing FLUG---')\n",
        "print(example_pilot.summarize())\n",
        "\n",
        "example_pilot.fly_ug_sortie()\n",
        "print('---After completing FLUG, now meets criteria for EXP---')\n",
        "print(example_pilot.summarize())\n"
      ],
      "metadata": {
        "id": "a1DAEmJ5PQ61",
        "outputId": "ba99da2c-75c4-446a-cf86-3180bed629c2",
        "colab": {
          "base_uri": "https://localhost:8080/"
        }
      },
      "execution_count": 46,
      "outputs": [
        {
          "output_type": "stream",
          "name": "stdout",
          "text": [
            "---Fly remaining MQT sorties---\n",
            "++ PID 0 awarded: WM\n",
            "<< PID 0 disenrolled from: MQT\n",
            "PID  0: INX | API: 1 | SOR:   50 | TOS:  4mo. | QL: ['WM']\n",
            "---Meet EXP sortie criteria, but not FL---\n",
            "PID  0: INX | API: 1 | SOR:  250 | TOS:  4mo. | QL: ['WM']\n",
            ">> PID 0 enrolled in FLUG\n",
            "---One ride from completing FLUG---\n",
            "PID  0: INX | API: 1 | SOR:  264 | TOS:  4mo. | QL: ['WM'] | UG: FLUG #14\n",
            "++ PID 0 awarded: FL\n",
            "<< PID 0 disenrolled from: FLUG\n",
            "!! PID 0 EXPERIENCED\n",
            "---After completing FLUG, now meets criteria for EXP---\n",
            "PID  0: EXP | API: 1 | SOR:  265 | TOS:  4mo. | QL: ['WM', 'FL']\n"
          ]
        }
      ]
    },
    {
      "cell_type": "markdown",
      "source": [
        "## SquadronRoster example\n",
        "\n",
        "Contains the Pilots (API-1 and API-6) present in a single F-16 squadron. Has some methods and properties that make sense at the squadron level. For example:\n",
        "\n",
        "_Methods_:\n",
        "- Add/remove individual Pilots\n",
        "- Populate an initial squadron with desired size, EXP%, and qualifications\n",
        "\n",
        "_Properties_:\n",
        "- Squadron name\n",
        "- Squadron summary\n",
        "- Summary statistics (EXP%, upgrade sizes, etc.)\n",
        "\n",
        "In this example, we create a notional squadron.\n",
        "\n",
        "The defaults for `SquadronRoster.populate` include:\n",
        "- `size=10` pilots\n",
        "- `prop_INX=0.55` percent inexperienced pilots\n",
        "- `prop_IP=0.3` percent _of experienced API-1 pilots_ qualified as instructors\n",
        "- `num_API6=2` billets for API-6 staff"
      ],
      "metadata": {
        "id": "e9p4_jA_U33P"
      }
    },
    {
      "cell_type": "code",
      "source": [
        "sq = SquadronRoster('-1st FS')\n",
        "sq.populate()\n",
        "sq.print_sq()"
      ],
      "metadata": {
        "colab": {
          "base_uri": "https://localhost:8080/"
        },
        "id": "HZ21ja5ZAPvG",
        "outputId": "09cddfbb-f2ec-4923-8c71-6496fc420452"
      },
      "execution_count": 63,
      "outputs": [
        {
          "output_type": "stream",
          "name": "stdout",
          "text": [
            "!! PID 0 EXPERIENCED\n",
            "!! PID 1 EXPERIENCED\n",
            "!! PID 2 EXPERIENCED\n",
            "!! PID 3 EXPERIENCED\n",
            "!! PID 4 EXPERIENCED\n",
            ">> PID 5 enrolled in MQT\n",
            ">> PID 6 enrolled in MQT\n",
            ">> PID 7 enrolled in MQT\n",
            ">> PID 8 enrolled in MQT\n",
            ">> PID 9 enrolled in MQT\n",
            "-1st FS ROSTER:\n",
            "PID  0: EXP | API: 6 | SOR:  358 | TOS: 27mo. | QL: ['WM', 'FL']\n",
            "PID  1: EXP | API: 6 | SOR:  483 | TOS: 31mo. | QL: ['WM', 'FL']\n",
            "PID  2: EXP | API: 1 | SOR:  515 | TOS: 32mo. | QL: ['WM', 'FL', 'IP']\n",
            "PID  3: EXP | API: 1 | SOR:  265 | TOS: 24mo. | QL: ['WM', 'FL']\n",
            "PID  4: EXP | API: 1 | SOR:  327 | TOS: 26mo. | QL: ['WM', 'FL']\n",
            "PID  5: INX | API: 1 | SOR:   53 | TOS:  3mo. | QL: [] | UG: MQT #7\n",
            "PID  6: INX | API: 1 | SOR:  251 | TOS: 22mo. | QL: [] | UG: MQT #7\n",
            "PID  7: INX | API: 1 | SOR:  119 | TOS: 10mo. | QL: [] | UG: MQT #0\n",
            "PID  8: INX | API: 1 | SOR:   15 | TOS:  0mo. | QL: [] | UG: MQT #0\n",
            "PID  9: INX | API: 1 | SOR:  101 | TOS:  8mo. | QL: [] | UG: MQT #3\n"
          ]
        }
      ]
    },
    {
      "cell_type": "code",
      "source": [
        "sq.summarize()"
      ],
      "metadata": {
        "id": "plYSGeUQHim9",
        "outputId": "f474c7e3-e5ae-4271-8d0a-628e4c5d4224",
        "colab": {
          "base_uri": "https://localhost:8080/"
        }
      },
      "execution_count": 64,
      "outputs": [
        {
          "output_type": "stream",
          "name": "stdout",
          "text": [
            "-1st FS SUMMARY:\n",
            "EXP: 5 | INX: 5 | EXP%: 0.50 | WM: 0 (+5 in MQT) | FL: 4 (+0 in FLUG) | IP: 1 (+0 in IPUG)\n"
          ]
        }
      ]
    },
    {
      "cell_type": "code",
      "source": [
        ""
      ],
      "metadata": {
        "id": "IvYqPqciaTUA"
      },
      "execution_count": null,
      "outputs": []
    }
  ]
}