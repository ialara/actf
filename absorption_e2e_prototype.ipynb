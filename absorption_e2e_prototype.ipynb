{
  "nbformat": 4,
  "nbformat_minor": 0,
  "metadata": {
    "colab": {
      "provenance": [],
      "authorship_tag": "ABX9TyMuFJZ2WlcYGVsdzGjYfdW0",
      "include_colab_link": true
    },
    "kernelspec": {
      "name": "python3",
      "display_name": "Python 3"
    },
    "language_info": {
      "name": "python"
    }
  },
  "cells": [
    {
      "cell_type": "markdown",
      "metadata": {
        "id": "view-in-github",
        "colab_type": "text"
      },
      "source": [
        "<a href=\"https://colab.research.google.com/github/ialara/actf/blob/e2e-prototype/absorption_e2e_prototype.ipynb\" target=\"_parent\"><img src=\"https://colab.research.google.com/assets/colab-badge.svg\" alt=\"Open In Colab\"/></a>"
      ]
    },
    {
      "cell_type": "code",
      "execution_count": 3,
      "metadata": {
        "id": "l2YuFUwb2Brp"
      },
      "outputs": [],
      "source": [
        "import numpy as np\n",
        "from collections import Counter\n",
        "rng = np.random.default_rng()"
      ]
    },
    {
      "cell_type": "code",
      "source": [
        "class Pilot:\n",
        "    ftu_sorties = 59\n",
        "    def __init__(self, i, f16_sorties=59, tos=0, experienced=False):\n",
        "        self.id = i\n",
        "        self.f16_sorties = f16_sorties\n",
        "        self.tos = tos\n",
        "        self.experienced = experienced\n",
        "        self.arrived_month = 0\n",
        "        self.in_ug = False\n",
        "        self.ug = None\n",
        "        self.ride_num = None\n",
        "        self.quals = []\n",
        "        self.tte = 0\n",
        "\n",
        "    def set_arrived_month(self, month):\n",
        "        self.arrived_month = month\n",
        "\n",
        "    def increment_tos(self, months=1):\n",
        "        self.tos += months\n",
        "\n",
        "    def increment_f16_sorties(self, sortie_increment=1):\n",
        "        self.f16_sorties += sortie_increment\n",
        "        if self.in_ug:\n",
        "          self.ride_num += sortie_increment\n",
        "\n",
        "    def enroll_in_ug(self, ug):\n",
        "        self.in_ug = True\n",
        "        self.ug = ug\n",
        "        self.ride_num = 0\n",
        "      \n",
        "    def disenroll_from_ug(self):\n",
        "        self.in_ug = False\n",
        "        self.ug = None\n",
        "        self.ride_num = None\n",
        "\n",
        "    def award_qual(self, qual):\n",
        "        if qual not in self.quals:\n",
        "            self.quals.append(qual)\n",
        "\n",
        "    def print_(self):\n",
        "        msg = [f'ID: {self.id:2d} | EXP: {\"Y\" if self.experienced else \"N\"} | ',\n",
        "               f'TOS: {self.tos:2d} | STY: {self.f16_sorties:3d} | ARR: {self.arrived_month:2d} | ',\n",
        "               f'TTE: {self.tte if self.experienced else \"- \":2} | QUAL: {self.quals}']\n",
        "        if self.ug is not None:\n",
        "            msg.append(f' | UG: {self.ug} #{self.ride_num}')\n",
        "\n",
        "        print(*msg)\n",
        "\n",
        "class Squadron:\n",
        "    def __init__(self, name='default_Squadron'):\n",
        "        self.name = name\n",
        "        self.pilots = []\n",
        "        self.pid = 0\n",
        "\n",
        "    def assign_pilot(self, pilot, arrived_month=0):\n",
        "        self.pilots.append(pilot)\n",
        "        pilot.set_arrived_month(arrived_month)\n",
        "\n",
        "    def set_monthly_sorties_available(self, capacity=240):\n",
        "        self.monthly_sorties_available = capacity\n",
        "\n",
        "    def _next_pid(self):\n",
        "        self.pid += 1\n",
        "        return self.pid\n",
        "\n",
        "    def populate_initial(self, num_pilots=35, prop_EXP=0.5, prop_IP=0.4):\n",
        "        num_EXP = rng.binomial(num_pilots, prop_EXP)\n",
        "        num_IP = rng.binomial(num_EXP, prop_IP)\n",
        "        num_INX = num_pilots - num_EXP\n",
        "\n",
        "        # Parameters\n",
        "        min_TOS_INX = 0\n",
        "        max_TOS_INX = 24\n",
        "        min_TOS_EXP = 16\n",
        "        max_TOS_EXP = 32\n",
        "\n",
        "        min_sorties_INX = Pilot.ftu_sorties\n",
        "        max_sorties_INX = Syllabus.exp_sortie_rqmt\n",
        "        min_sorties_EXP = Syllabus.exp_sortie_rqmt\n",
        "        max_sorties_EXP = 2*Syllabus.exp_sortie_rqmt\n",
        "\n",
        "        # Assign INX pilots\n",
        "        for _ in range(num_INX):\n",
        "            my_tos = rng.integers(min_TOS_INX, max_TOS_INX)\n",
        "            my_sorties = rng.integers(min_sorties_INX, max_sorties_INX)\n",
        "            my_sorties = min(my_sorties, min_sorties_INX + (my_tos+1)*5)\n",
        "            inx_pilot = Pilot(self._next_pid(), f16_sorties=my_sorties, tos=my_tos)\n",
        "            \n",
        "            if inx_pilot.tos > 2: # Assume initial population completes MQT in specified timeline\n",
        "                inx_pilot.increment_f16_sorties(9) # Duration of MQT\n",
        "                inx_pilot.award_qual('WG')\n",
        "            else:\n",
        "                my_ug_prog = rng.integers(9) # MQT and FLUG have same duration\n",
        "                if inx_pilot.f16_sorties < 75:\n",
        "                    inx_pilot.enroll_in_ug('MQT')\n",
        "                    inx_pilot.increment_f16_sorties(my_ug_prog)\n",
        "                elif inx_pilot.f16_sorties < 200:\n",
        "                    inx_pilot.award_qual('WG')\n",
        "                    if rng.random() < 0.7:\n",
        "                        inx_pilot.enroll_in_ug('FLUG')\n",
        "                        inx_pilot.increment_f16_sorties(my_ug_prog)\n",
        "                else:\n",
        "                    inx_pilot.award_qual('WG')\n",
        "                    if rng.random() < 0.7:\n",
        "                        inx_pilot.award_qual('FL')\n",
        "            self.assign_pilot(inx_pilot)\n",
        "          \n",
        "        # Assign EXP pilots\n",
        "        ips_remaining = num_IP\n",
        "        for _ in range(num_EXP):\n",
        "            my_tos = rng.integers(min_TOS_EXP, max_TOS_EXP)\n",
        "            my_sorties = rng.integers(min_sorties_EXP, max_sorties_EXP)\n",
        "            exp_pilot = Pilot(self._next_pid(), f16_sorties=my_sorties, tos=my_tos,\n",
        "                              experienced = True)\n",
        "            exp_pilot.award_qual(Syllabus.exp_qual_rqmt)\n",
        "            if ips_remaining > 0:\n",
        "                exp_pilot.award_qual('IP')\n",
        "                ips_remaining -= 1\n",
        "            elif rng.random() < 0.2:\n",
        "              exp_pilot.enroll_in_ug('IPUG')\n",
        "              exp_pilot.increment_f16_sorties(rng.integers(9))\n",
        "\n",
        "            self.assign_pilot(exp_pilot)\n",
        "\n",
        "    def inflow_from_ftu(self, num_pilots=15, arrival_month=0):\n",
        "        for _ in range(num_pilots):\n",
        "            ftu_sortie_delta = rng.integers(-5, 5)\n",
        "            my_f16_sorties = Pilot.ftu_sorties + ftu_sortie_delta\n",
        "            new_pilot = Pilot(self._next_pid(), f16_sorties = my_f16_sorties)\n",
        "            new_pilot.set_arrived_month(arrival_month)\n",
        "            self.assign_pilot(new_pilot)\n",
        "\n",
        "    def inflow_nth_tour(self, num_pilots=20, prop_IP=0.4, prop_WG=0.1, arrival_month=0):\n",
        "        num_IP = rng.binomial(num_pilots, prop_IP)\n",
        "        num_WG = rng.binomial(num_pilots, prop_WG)\n",
        "        num_FL = num_pilots - num_IP - num_WG\n",
        "\n",
        "        # Parameters\n",
        "        min_sorties_WG = int(0.7*Syllabus.exp_sortie_rqmt)\n",
        "        max_sorties_WG = int(0.9*Syllabus.exp_sortie_rqmt)\n",
        "        min_sorties_FL = int(0.9*Syllabus.exp_sortie_rqmt)\n",
        "        max_sorties_FL = int(2*Syllabus.exp_sortie_rqmt)\n",
        "        min_sorties_IP = int(1.5*Syllabus.exp_sortie_rqmt)\n",
        "        max_sorties_IP = 4*Syllabus.exp_sortie_rqmt\n",
        "\n",
        "        for _ in range(num_IP):\n",
        "            my_sorties = rng.integers(min_sorties_IP, max_sorties_IP)\n",
        "            new_IP = Pilot(self._next_pid(), f16_sorties = my_sorties, experienced=True)\n",
        "            new_IP.award_qual('IP')\n",
        "            self.assign_pilot(new_IP, arrived_month=arrival_month)\n",
        "\n",
        "        for _ in range(num_FL):\n",
        "            my_sorties = rng.integers(min_sorties_FL, max_sorties_FL)\n",
        "            new_FL = Pilot(self._next_pid(), f16_sorties = my_sorties)\n",
        "            new_FL.award_qual('FL')\n",
        "            new_FL.experienced = Syllabus.meets_EXP_criteria(new_FL.f16_sorties, new_FL.quals)\n",
        "            self.assign_pilot(new_FL, arrived_month=arrival_month)\n",
        "\n",
        "        for _ in range(num_WG):\n",
        "            my_sorties = rng.integers(min_sorties_WG, max_sorties_WG)\n",
        "            new_WG = Pilot(self._next_pid(), f16_sorties = my_sorties)\n",
        "            new_WG.award_qual('WG')\n",
        "            self.assign_pilot(new_WG, arrived_month=arrival_month)\n",
        "            \n",
        "    def inflow_pilots(self, num_ftu=15, num_nth_tour=5, arrival_month=0):\n",
        "        self.inflow_from_ftu(num_ftu, arrival_month=arrival_month)\n",
        "        self.inflow_nth_tour(num_nth_tour, arrival_month=arrival_month)\n",
        "\n",
        "    def outflow_pilots(self, tos_threshold=32):\n",
        "        removed_pilots = [p for p in self.pilots if p.tos >= tos_threshold]\n",
        "        self.pilots = [p for p in self.pilots if p not in set(removed_pilots)]\n",
        "        return removed_pilots\n",
        "\n",
        "    def enroll_ug_students(self, students):\n",
        "        # Prioritize students (e.g. by TOS for MQT; sorties for FLUG/IPUG)\n",
        "        # Enroll as many as possible, subject to capacity of upgrade program\n",
        "        pass\n",
        "\n",
        "    def fly_month(self, sorties_available=None, INX_sortie_pct=0.6):\n",
        "        if sorties_available is None:\n",
        "            sorties_available = self.monthly_sorties_available\n",
        "        INX_sorties = int(sorties_available * INX_sortie_pct)\n",
        "        INX_pilots = [p for p in self.pilots if not p.experienced]\n",
        "        num_INX_pilots = len(INX_pilots)\n",
        "\n",
        "        for p in self.pilots:\n",
        "            p.scm = 0\n",
        "\n",
        "        rng.shuffle(INX_pilots)\n",
        "        INX_sorties_remaining = INX_sorties\n",
        "        for p in INX_pilots:\n",
        "            my_draw = rng.binomial(INX_sorties, 1 / num_INX_pilots)\n",
        "            my_SCM = min(my_draw, INX_sorties_remaining)\n",
        "            #print(f'PID {p.id:2d}: drew {my_draw:2d}, flying {my_SCM:2d}.')\n",
        "            p.scm = my_SCM\n",
        "            p.increment_f16_sorties(p.scm)\n",
        "            if p.in_ug:\n",
        "                p.ride_num += p.scm            \n",
        "            INX_sorties_remaining -= p.scm\n",
        "\n",
        "        print(f'EOM INX sorties remaining: {INX_sorties_remaining}')\n",
        "\n",
        "    def update_qualifications(self, sim_month, ugs):\n",
        "        for p in self.pilots:\n",
        "            was_experienced = p.experienced\n",
        "            p.experienced = Syllabus.meets_EXP_criteria(p.f16_sorties, p.quals)\n",
        "            if p.experienced and not was_experienced: # \"became\" EXP\n",
        "                # Calculate TTE\n",
        "                p.tte = sim_month - p.arrived_month\n",
        "                print(f'PID {p.id} experienced. TTE: {p.tte} months')\n",
        "\n",
        "            if p.in_ug and p.ride_num + p.scm >= ugs[p.ug].duration:\n",
        "                # Upgrade complete, award qualification\n",
        "                print(f'PID {p.id} completed {p.ug}. Awarded {ugs[p.ug].award}.')\n",
        "                p.award_qual(ugs[p.ug].award)\n",
        "                p.disenroll_from_ug()            \n",
        "\n",
        "    def age_squadron(self, months=1):\n",
        "        for p in self.pilots:\n",
        "            p.increment_tos(months)\n",
        "\n",
        "    def summarize(self):\n",
        "        quals = Counter(self._get_highest_quals())\n",
        "        ugs = Counter(self._get_ug_enrollment())\n",
        "        exp = Counter(self._get_experience())\n",
        "\n",
        "        exp_str = [f'{\"EXP\" if q else \"INX\":6s} -> {num:2d} | ' for q, num in exp.items()]\n",
        "        print('EXPR:', *exp_str, f'PILOTS -> {exp[True] + exp[False]} | {exp[True]/(exp[True]+exp[False])*100:.0f}% EXP')\n",
        "        quals_str = [f'{q if q is not \"\" else \"(none)\":6s} -> {num:2d} | ' for q, num in quals.items()]\n",
        "        print('QUAL:', *quals_str)\n",
        "        ugs_str = [f'{q if q is not None else \"(none)\":6s} -> {num:2d} | ' for q, num in ugs.items()]\n",
        "        print('UPGS:', *ugs_str)\n",
        "\n",
        "    def _get_highest_quals(self):\n",
        "        return [p.quals[-1] if len(p.quals) > 0 else '' for p in self.pilots]\n",
        "\n",
        "    def _get_ug_enrollment(self):\n",
        "        return [p.ug for p in self.pilots]\n",
        "\n",
        "    def _get_experience(self):\n",
        "        return [p.experienced for p in self.pilots]\n",
        "\n",
        "    def print_(self):\n",
        "        for p in self.pilots:\n",
        "            p.print_()\n",
        "\n",
        "class Simulation:\n",
        "    def __init__(self, run_num=0):\n",
        "        self.run_num = run_num\n",
        "        self.month_num = 0\n",
        "\n",
        "    def setup(self, initial_size=35, monthly_sortie_capacity=240):\n",
        "        self.sq = Squadron('test_Squadron')\n",
        "        self.sq.populate_initial(initial_size)\n",
        "        self.sq.set_monthly_sorties_available(monthly_sortie_capacity)\n",
        "        self.syllabi = {s.name: s for s in [Syllabus('MQT', 9, 'WG'),\n",
        "                                            Syllabus('FLUG', 9, 'FL'),\n",
        "                                            Syllabus('IPUG', 9, 'IP')]}\n",
        "\n",
        "    def step_month(self, num_months=1, inflow_ftu=15, inflow_nth=5, tos_threshold=3):\n",
        "        for _ in range(num_months):\n",
        "            self.month_num += 1\n",
        "            print(f'---SIM MONTH {self.month_num}---')\n",
        "            self.sq.inflow_pilots(inflow_ftu, inflow_nth, self.month_num)\n",
        "            print('After inflow:')\n",
        "            self.sq.summarize()\n",
        "            self.sq.enroll_ug_students()\n",
        "            self.sq.fly_month()\n",
        "            print('After flying:')\n",
        "            self.sq.summarize()\n",
        "            self.sq.age_squadron()\n",
        "            # print('After aging:')\n",
        "            # self.sq.summarize()\n",
        "            self.sq.update_qualifications(self.month_num, self.syllabi)\n",
        "            self.sq.outflow_pilots(tos_threshold)\n",
        "            print('After outflow:')\n",
        "            self.sq.summarize()\n",
        "\n",
        "class Syllabus:\n",
        "    exp_sortie_rqmt = 250\n",
        "    exp_qual_rqmt = 'FL'\n",
        "    def __init__(self, name, duration, award):\n",
        "        self.name = name\n",
        "        self.duration = duration\n",
        "        self.award = award   \n",
        "    @staticmethod\n",
        "    def meets_EXP_criteria(pilot_sorties, pilot_qualifications):\n",
        "        return (pilot_sorties >= Syllabus.exp_sortie_rqmt and \n",
        "               Syllabus.exp_qual_rqmt in pilot_qualifications)"
      ],
      "metadata": {
        "id": "SW30t1nZ2GyN"
      },
      "execution_count": 68,
      "outputs": []
    },
    {
      "cell_type": "code",
      "source": [
        "sq = Squadron('test_Sq')\n",
        "sq.populate_initial(30)\n",
        "sq.summarize()"
      ],
      "metadata": {
        "colab": {
          "base_uri": "https://localhost:8080/"
        },
        "id": "UsZ6m6Uuwxtc",
        "outputId": "1a874f18-dc05-4cc1-f57a-b45a955b7719"
      },
      "execution_count": 72,
      "outputs": [
        {
          "output_type": "stream",
          "name": "stdout",
          "text": [
            "EXPR: INX    -> 13 |  EXP    -> 17 |  PILOTS -> 30 | 57% EXP\n",
            "QUAL: WG     ->  9 |  (none) ->  4 |  IP     ->  8 |  FL     ->  9 | \n",
            "UPGS: (none) -> 24 |  MQT    ->  4 |  IPUG   ->  2 | \n"
          ]
        }
      ]
    },
    {
      "cell_type": "code",
      "source": [
        "parray = np.asarray(sq.pilots)\n",
        "\n",
        "quals = np.asarray(sq._get_highest_quals())\n",
        "\n",
        "parray[quals == '']"
      ],
      "metadata": {
        "id": "N8KrHYCrrfZf",
        "outputId": "89f78aca-6890-4adf-82a6-b629f772bd3c",
        "colab": {
          "base_uri": "https://localhost:8080/"
        }
      },
      "execution_count": 82,
      "outputs": [
        {
          "output_type": "execute_result",
          "data": {
            "text/plain": [
              "array([<__main__.Pilot object at 0x7fb13a4fc950>,\n",
              "       <__main__.Pilot object at 0x7fb13a4fc310>,\n",
              "       <__main__.Pilot object at 0x7fb13a4fc750>,\n",
              "       <__main__.Pilot object at 0x7fb13a4fcad0>], dtype=object)"
            ]
          },
          "metadata": {},
          "execution_count": 82
        }
      ]
    },
    {
      "cell_type": "code",
      "source": [
        "sq.print_()"
      ],
      "metadata": {
        "colab": {
          "base_uri": "https://localhost:8080/"
        },
        "id": "EKHdl1XZ3MJh",
        "outputId": "07fce013-a8d8-4b0b-c9c9-f349410bac77"
      },
      "execution_count": 38,
      "outputs": [
        {
          "output_type": "stream",
          "name": "stdout",
          "text": [
            "ID:  1 | EXP: N |  TOS: 12 | STY: 133 | ARR:  0 |  TTE: -  | QUAL: ['WG']\n",
            "ID:  2 | EXP: N |  TOS: 15 | STY: 128 | ARR:  0 |  TTE: -  | QUAL: ['WG']\n",
            "ID:  3 | EXP: N |  TOS: 18 | STY:  88 | ARR:  0 |  TTE: -  | QUAL: ['WG']\n",
            "ID:  4 | EXP: N |  TOS: 21 | STY: 146 | ARR:  0 |  TTE: -  | QUAL: ['WG']\n",
            "ID:  5 | EXP: N |  TOS:  4 | STY:  93 | ARR:  0 |  TTE: -  | QUAL: ['WG']\n",
            "ID:  6 | EXP: N |  TOS:  8 | STY: 113 | ARR:  0 |  TTE: -  | QUAL: ['WG']\n",
            "ID:  7 | EXP: N |  TOS: 14 | STY: 143 | ARR:  0 |  TTE: -  | QUAL: ['WG']\n",
            "ID:  8 | EXP: N |  TOS:  8 | STY:  79 | ARR:  0 |  TTE: -  | QUAL: ['WG']\n",
            "ID:  9 | EXP: N |  TOS: 18 | STY: 150 | ARR:  0 |  TTE: -  | QUAL: ['WG']\n",
            "ID: 10 | EXP: N |  TOS: 15 | STY: 113 | ARR:  0 |  TTE: -  | QUAL: ['WG']\n",
            "ID: 11 | EXP: N |  TOS:  3 | STY:  88 | ARR:  0 |  TTE: -  | QUAL: ['WG']\n",
            "ID: 12 | EXP: N |  TOS: 11 | STY: 128 | ARR:  0 |  TTE: -  | QUAL: ['WG']\n",
            "ID: 13 | EXP: N |  TOS:  8 | STY: 113 | ARR:  0 |  TTE: -  | QUAL: ['WG']\n",
            "ID: 14 | EXP: N |  TOS: 20 | STY: 173 | ARR:  0 |  TTE: -  | QUAL: ['WG']\n",
            "ID: 15 | EXP: N |  TOS: 21 | STY: 178 | ARR:  0 |  TTE: -  | QUAL: ['WG']\n",
            "ID: 16 | EXP: N |  TOS: 14 | STY: 143 | ARR:  0 |  TTE: -  | QUAL: ['WG']\n",
            "ID: 17 | EXP: N |  TOS: 17 | STY: 158 | ARR:  0 |  TTE: -  | QUAL: ['WG']\n",
            "ID: 18 | EXP: Y |  TOS: 19 | STY: 440 | ARR:  0 |  TTE:  0 | QUAL: ['FL', 'IP']\n",
            "ID: 19 | EXP: Y |  TOS: 17 | STY: 300 | ARR:  0 |  TTE:  0 | QUAL: ['FL', 'IP']\n",
            "ID: 20 | EXP: Y |  TOS: 16 | STY: 358 | ARR:  0 |  TTE:  0 | QUAL: ['FL', 'IP']\n",
            "ID: 21 | EXP: Y |  TOS: 25 | STY: 472 | ARR:  0 |  TTE:  0 | QUAL: ['FL', 'IP']\n",
            "ID: 22 | EXP: Y |  TOS: 29 | STY: 255 | ARR:  0 |  TTE:  0 | QUAL: ['FL']\n",
            "ID: 23 | EXP: Y |  TOS: 20 | STY: 394 | ARR:  0 |  TTE:  0 | QUAL: ['FL']\n",
            "ID: 24 | EXP: Y |  TOS: 22 | STY: 367 | ARR:  0 |  TTE:  0 | QUAL: ['FL']\n",
            "ID: 25 | EXP: Y |  TOS: 18 | STY: 269 | ARR:  0 |  TTE:  0 | QUAL: ['FL']\n",
            "ID: 26 | EXP: Y |  TOS: 27 | STY: 340 | ARR:  0 |  TTE:  0 | QUAL: ['FL']\n",
            "ID: 27 | EXP: Y |  TOS: 20 | STY: 329 | ARR:  0 |  TTE:  0 | QUAL: ['FL']\n",
            "ID: 28 | EXP: Y |  TOS: 26 | STY: 471 | ARR:  0 |  TTE:  0 | QUAL: ['FL']\n",
            "ID: 29 | EXP: Y |  TOS: 30 | STY: 432 | ARR:  0 |  TTE:  0 | QUAL: ['FL']\n",
            "ID: 30 | EXP: Y |  TOS: 20 | STY: 262 | ARR:  0 |  TTE:  0 | QUAL: ['FL']\n"
          ]
        }
      ]
    },
    {
      "cell_type": "code",
      "source": [
        "sim = Simulation()\n",
        "sim.setup(10)\n",
        "sim.sq.summarize()"
      ],
      "metadata": {
        "colab": {
          "base_uri": "https://localhost:8080/"
        },
        "id": "oQktYj_Y7UGc",
        "outputId": "48787b7c-e870-4e80-a8e3-2329efd77ce0"
      },
      "execution_count": 69,
      "outputs": [
        {
          "output_type": "stream",
          "name": "stdout",
          "text": [
            "EXPR: INX    ->  6 |  EXP    ->  4 |  PILOTS -> 10 | 40% EXP\n",
            "QUAL: WG     ->  5 |  (none) ->  1 |  IP     ->  1 |  FL     ->  3 | \n",
            "UPGS: (none) ->  9 |  MQT    ->  1 | \n"
          ]
        }
      ]
    },
    {
      "cell_type": "code",
      "source": [
        "sim.sq.print_()"
      ],
      "metadata": {
        "id": "u9c5vFWPZAG4",
        "colab": {
          "base_uri": "https://localhost:8080/"
        },
        "outputId": "b9439c68-5b82-40fa-9d2a-3bab2a04657c"
      },
      "execution_count": 70,
      "outputs": [
        {
          "output_type": "stream",
          "name": "stdout",
          "text": [
            "ID:  1 | EXP: N |  TOS: 23 | STY:  90 | ARR:  0 |  TTE: -  | QUAL: ['WG']\n",
            "ID:  2 | EXP: N |  TOS:  6 | STY: 103 | ARR:  0 |  TTE: -  | QUAL: ['WG']\n",
            "ID:  3 | EXP: N |  TOS: 12 | STY: 133 | ARR:  0 |  TTE: -  | QUAL: ['WG']\n",
            "ID:  4 | EXP: N |  TOS: 18 | STY: 163 | ARR:  0 |  TTE: -  | QUAL: ['WG']\n",
            "ID:  5 | EXP: N |  TOS:  2 | STY:  78 | ARR:  0 |  TTE: -  | QUAL: []  | UG: MQT #4\n",
            "ID:  6 | EXP: N |  TOS: 11 | STY: 128 | ARR:  0 |  TTE: -  | QUAL: ['WG']\n",
            "ID:  7 | EXP: Y |  TOS: 30 | STY: 283 | ARR:  0 |  TTE:  0 | QUAL: ['FL', 'IP']\n",
            "ID:  8 | EXP: Y |  TOS: 21 | STY: 420 | ARR:  0 |  TTE:  0 | QUAL: ['FL']\n",
            "ID:  9 | EXP: Y |  TOS: 24 | STY: 295 | ARR:  0 |  TTE:  0 | QUAL: ['FL']\n",
            "ID: 10 | EXP: Y |  TOS: 22 | STY: 485 | ARR:  0 |  TTE:  0 | QUAL: ['FL']\n"
          ]
        }
      ]
    },
    {
      "cell_type": "code",
      "source": [
        "sim.step_month(5)"
      ],
      "metadata": {
        "colab": {
          "base_uri": "https://localhost:8080/"
        },
        "id": "z_FAXKeOJuWc",
        "outputId": "afb69269-8f14-4c90-c084-274af2b28847"
      },
      "execution_count": 71,
      "outputs": [
        {
          "output_type": "stream",
          "name": "stdout",
          "text": [
            "---SIM MONTH 1---\n",
            "After inflow:\n",
            "EXPR: INX    -> 22 |  EXP    ->  8 |  PILOTS -> 30 | 27% EXP\n",
            "QUAL: WG     ->  5 |  (none) -> 16 |  IP     ->  5 |  FL     ->  4 | \n",
            "UPGS: (none) -> 29 |  MQT    ->  1 | \n",
            "EOM INX sorties remaining: 0\n",
            "After flying:\n",
            "EXPR: INX    -> 22 |  EXP    ->  8 |  PILOTS -> 30 | 27% EXP\n",
            "QUAL: WG     ->  5 |  (none) -> 16 |  IP     ->  5 |  FL     ->  4 | \n",
            "UPGS: (none) -> 29 |  MQT    ->  1 | \n",
            "PID 5 completed MQT. Awarded WG.\n",
            "After outflow:\n",
            "EXPR: INX    -> 20 |  PILOTS -> 20 | 0% EXP\n",
            "QUAL: (none) -> 15 |  IP     ->  4 |  FL     ->  1 | \n",
            "UPGS: (none) -> 20 | \n",
            "---SIM MONTH 2---\n",
            "After inflow:\n",
            "EXPR: INX    -> 35 |  EXP    ->  5 |  PILOTS -> 40 | 12% EXP\n",
            "QUAL: (none) -> 30 |  IP     ->  5 |  FL     ->  5 | \n",
            "UPGS: (none) -> 40 | \n",
            "EOM INX sorties remaining: 6\n",
            "After flying:\n",
            "EXPR: INX    -> 35 |  EXP    ->  5 |  PILOTS -> 40 | 12% EXP\n",
            "QUAL: (none) -> 30 |  IP     ->  5 |  FL     ->  5 | \n",
            "UPGS: (none) -> 40 | \n",
            "After outflow:\n",
            "EXPR: INX    -> 36 |  EXP    ->  4 |  PILOTS -> 40 | 10% EXP\n",
            "QUAL: (none) -> 30 |  IP     ->  5 |  FL     ->  5 | \n",
            "UPGS: (none) -> 40 | \n",
            "---SIM MONTH 3---\n",
            "After inflow:\n",
            "EXPR: INX    -> 52 |  EXP    ->  8 |  PILOTS -> 60 | 13% EXP\n",
            "QUAL: (none) -> 45 |  IP     ->  7 |  FL     ->  8 | \n",
            "UPGS: (none) -> 60 | \n",
            "EOM INX sorties remaining: 0\n",
            "After flying:\n",
            "EXPR: INX    -> 52 |  EXP    ->  8 |  PILOTS -> 60 | 13% EXP\n",
            "QUAL: (none) -> 45 |  IP     ->  7 |  FL     ->  8 | \n",
            "UPGS: (none) -> 60 | \n",
            "After outflow:\n",
            "EXPR: INX    -> 34 |  EXP    ->  6 |  PILOTS -> 40 | 15% EXP\n",
            "QUAL: (none) -> 30 |  IP     ->  3 |  FL     ->  7 | \n",
            "UPGS: (none) -> 40 | \n",
            "---SIM MONTH 4---\n",
            "After inflow:\n",
            "EXPR: INX    -> 50 |  EXP    -> 10 |  PILOTS -> 60 | 17% EXP\n",
            "QUAL: (none) -> 45 |  IP     ->  4 |  FL     -> 11 | \n",
            "UPGS: (none) -> 60 | \n",
            "EOM INX sorties remaining: 0\n",
            "After flying:\n",
            "EXPR: INX    -> 50 |  EXP    -> 10 |  PILOTS -> 60 | 17% EXP\n",
            "QUAL: (none) -> 45 |  IP     ->  4 |  FL     -> 11 | \n",
            "UPGS: (none) -> 60 | \n",
            "After outflow:\n",
            "EXPR: INX    -> 35 |  EXP    ->  5 |  PILOTS -> 40 | 12% EXP\n",
            "QUAL: (none) -> 30 |  IP     ->  3 |  FL     ->  7 | \n",
            "UPGS: (none) -> 40 | \n",
            "---SIM MONTH 5---\n",
            "After inflow:\n",
            "EXPR: INX    -> 50 |  EXP    -> 10 |  PILOTS -> 60 | 17% EXP\n",
            "QUAL: (none) -> 45 |  IP     ->  6 |  FL     ->  9 | \n",
            "UPGS: (none) -> 60 | \n",
            "EOM INX sorties remaining: 18\n",
            "After flying:\n",
            "EXPR: INX    -> 50 |  EXP    -> 10 |  PILOTS -> 60 | 17% EXP\n",
            "QUAL: (none) -> 45 |  IP     ->  6 |  FL     ->  9 | \n",
            "UPGS: (none) -> 60 | \n",
            "After outflow:\n",
            "EXPR: INX    -> 35 |  EXP    ->  5 |  PILOTS -> 40 | 12% EXP\n",
            "QUAL: (none) -> 30 |  IP     ->  4 |  FL     ->  6 | \n",
            "UPGS: (none) -> 40 | \n"
          ]
        }
      ]
    },
    {
      "cell_type": "code",
      "source": [
        "sim.sq.pilots[5].scm"
      ],
      "metadata": {
        "colab": {
          "base_uri": "https://localhost:8080/"
        },
        "id": "4_hbwntmfp2o",
        "outputId": "0763f56a-5ae0-4ed5-fc36-237073c537bb"
      },
      "execution_count": 35,
      "outputs": [
        {
          "output_type": "execute_result",
          "data": {
            "text/plain": [
              "8"
            ]
          },
          "metadata": {},
          "execution_count": 35
        }
      ]
    },
    {
      "cell_type": "code",
      "source": [
        "sim.sq.pilots[-1].f16_sorties=249\n",
        "sim.sq.pilots[-1].award_qual('FL')\n",
        "sim.sq.summarize()"
      ],
      "metadata": {
        "id": "KqIcbKNiJvVm",
        "colab": {
          "base_uri": "https://localhost:8080/"
        },
        "outputId": "eb88adce-081d-4af9-a8e4-e04d91cfb798"
      },
      "execution_count": null,
      "outputs": [
        {
          "output_type": "stream",
          "name": "stdout",
          "text": [
            "ID:  1 | EXP: N |  TOS:  1 | STY:  70 | ARR:  0 |  TTE: -  | QUAL: []\n",
            "ID:  2 | EXP: N |  TOS:  1 | STY:  73 | ARR:  0 |  TTE: -  | QUAL: []\n",
            "ID:  3 | EXP: N |  TOS:  1 | STY:  71 | ARR:  0 |  TTE: -  | QUAL: []\n",
            "ID:  4 | EXP: N |  TOS:  1 | STY:  79 | ARR:  0 |  TTE: -  | QUAL: ['WG']\n",
            "ID:  5 | EXP: N |  TOS:  1 | STY:  71 | ARR:  0 |  TTE: -  | QUAL: []\n",
            "ID:  6 | EXP: N |  TOS:  1 | STY:  80 | ARR:  1 |  TTE: -  | QUAL: []\n",
            "ID:  7 | EXP: N |  TOS:  1 | STY:  74 | ARR:  1 |  TTE: -  | QUAL: []\n",
            "ID:  8 | EXP: N |  TOS:  1 | STY:  76 | ARR:  1 |  TTE: -  | QUAL: []\n",
            "ID:  9 | EXP: N |  TOS:  1 | STY:  72 | ARR:  1 |  TTE: -  | QUAL: []\n",
            "ID: 10 | EXP: N |  TOS:  1 | STY: 249 | ARR:  1 |  TTE: -  | QUAL: ['FL']\n"
          ]
        }
      ]
    },
    {
      "cell_type": "code",
      "source": [
        "sim.step_month()"
      ],
      "metadata": {
        "colab": {
          "base_uri": "https://localhost:8080/"
        },
        "id": "uYELlm_gVjDt",
        "outputId": "6b8781ba-6732-4e5a-dc63-6389c0f79737"
      },
      "execution_count": null,
      "outputs": [
        {
          "output_type": "stream",
          "name": "stdout",
          "text": [
            "---SIM MONTH 2---\n",
            "After inflow:\n",
            "ID:  1 | EXP: N |  TOS:  1 | STY:  70 | ARR:  0 |  TTE: -  | QUAL: []\n",
            "ID:  2 | EXP: N |  TOS:  1 | STY:  73 | ARR:  0 |  TTE: -  | QUAL: []\n",
            "ID:  3 | EXP: N |  TOS:  1 | STY:  71 | ARR:  0 |  TTE: -  | QUAL: []\n",
            "ID:  4 | EXP: N |  TOS:  1 | STY:  79 | ARR:  0 |  TTE: -  | QUAL: ['WG']\n",
            "ID:  5 | EXP: N |  TOS:  1 | STY:  71 | ARR:  0 |  TTE: -  | QUAL: []\n",
            "ID:  6 | EXP: N |  TOS:  1 | STY:  80 | ARR:  1 |  TTE: -  | QUAL: []\n",
            "ID:  7 | EXP: N |  TOS:  1 | STY:  74 | ARR:  1 |  TTE: -  | QUAL: []\n",
            "ID:  8 | EXP: N |  TOS:  1 | STY:  76 | ARR:  1 |  TTE: -  | QUAL: []\n",
            "ID:  9 | EXP: N |  TOS:  1 | STY:  72 | ARR:  1 |  TTE: -  | QUAL: []\n",
            "ID: 10 | EXP: N |  TOS:  1 | STY: 249 | ARR:  1 |  TTE: -  | QUAL: ['FL']\n",
            "ID: 11 | EXP: N |  TOS:  0 | STY:  59 | ARR:  2 |  TTE: -  | QUAL: []\n",
            "ID: 12 | EXP: N |  TOS:  0 | STY:  59 | ARR:  2 |  TTE: -  | QUAL: []\n",
            "ID: 13 | EXP: N |  TOS:  0 | STY:  59 | ARR:  2 |  TTE: -  | QUAL: []\n",
            "ID: 14 | EXP: N |  TOS:  0 | STY:  59 | ARR:  2 |  TTE: -  | QUAL: []\n",
            "ID: 15 | EXP: N |  TOS:  0 | STY:  59 | ARR:  2 |  TTE: -  | QUAL: []\n",
            "PID 10: drew 14, flying 14.\n",
            "PID  6: drew 10, flying 10.\n",
            "PID  1: drew  9, flying  9.\n",
            "PID  2: drew  5, flying  5.\n",
            "PID  9: drew  9, flying  9.\n",
            "PID 12: drew 14, flying 14.\n",
            "PID  3: drew 14, flying 14.\n",
            "PID  4: drew 11, flying 11.\n",
            "PID 15: drew 12, flying 12.\n",
            "PID  8: drew  7, flying  7.\n",
            "PID 11: drew 13, flying 13.\n",
            "PID  5: drew 12, flying 12.\n",
            "PID 14: drew 10, flying 10.\n",
            "PID  7: drew 10, flying  4.\n",
            "PID 13: drew 10, flying  0.\n",
            "EOM INX sorties remaining: 0\n",
            "PID 10 experienced. TTE: 1 months\n",
            "After outflow:\n",
            "ID:  1 | EXP: N |  TOS:  2 | STY:  79 | ARR:  0 |  TTE: -  | QUAL: []\n",
            "ID:  2 | EXP: N |  TOS:  2 | STY:  78 | ARR:  0 |  TTE: -  | QUAL: []\n",
            "ID:  3 | EXP: N |  TOS:  2 | STY:  85 | ARR:  0 |  TTE: -  | QUAL: []\n",
            "ID:  4 | EXP: N |  TOS:  2 | STY:  90 | ARR:  0 |  TTE: -  | QUAL: ['WG']\n",
            "ID:  5 | EXP: N |  TOS:  2 | STY:  83 | ARR:  0 |  TTE: -  | QUAL: []\n",
            "ID:  6 | EXP: N |  TOS:  2 | STY:  90 | ARR:  1 |  TTE: -  | QUAL: []\n",
            "ID:  7 | EXP: N |  TOS:  2 | STY:  78 | ARR:  1 |  TTE: -  | QUAL: []\n",
            "ID:  8 | EXP: N |  TOS:  2 | STY:  83 | ARR:  1 |  TTE: -  | QUAL: []\n",
            "ID:  9 | EXP: N |  TOS:  2 | STY:  81 | ARR:  1 |  TTE: -  | QUAL: []\n",
            "ID: 10 | EXP: Y |  TOS:  2 | STY: 263 | ARR:  1 |  TTE:  1 | QUAL: ['FL']\n",
            "ID: 11 | EXP: N |  TOS:  1 | STY:  72 | ARR:  2 |  TTE: -  | QUAL: []\n",
            "ID: 12 | EXP: N |  TOS:  1 | STY:  73 | ARR:  2 |  TTE: -  | QUAL: []\n",
            "ID: 13 | EXP: N |  TOS:  1 | STY:  59 | ARR:  2 |  TTE: -  | QUAL: []\n",
            "ID: 14 | EXP: N |  TOS:  1 | STY:  69 | ARR:  2 |  TTE: -  | QUAL: []\n",
            "ID: 15 | EXP: N |  TOS:  1 | STY:  71 | ARR:  2 |  TTE: -  | QUAL: []\n"
          ]
        }
      ]
    },
    {
      "cell_type": "code",
      "source": [
        "sim.step_month()"
      ],
      "metadata": {
        "colab": {
          "base_uri": "https://localhost:8080/"
        },
        "id": "esc8boZMVnxU",
        "outputId": "9fd02aef-0225-413c-e728-e1db3ee71ca6"
      },
      "execution_count": null,
      "outputs": [
        {
          "output_type": "stream",
          "name": "stdout",
          "text": [
            "---SIM MONTH 3---\n",
            "After inflow:\n",
            "ID:  1 | EXP: N |  TOS:  2 | STY:  79 | ARR:  0 |  TTE: -  | QUAL: []\n",
            "ID:  2 | EXP: N |  TOS:  2 | STY:  78 | ARR:  0 |  TTE: -  | QUAL: []\n",
            "ID:  3 | EXP: N |  TOS:  2 | STY:  85 | ARR:  0 |  TTE: -  | QUAL: []\n",
            "ID:  4 | EXP: N |  TOS:  2 | STY:  90 | ARR:  0 |  TTE: -  | QUAL: ['WG']\n",
            "ID:  5 | EXP: N |  TOS:  2 | STY:  83 | ARR:  0 |  TTE: -  | QUAL: []\n",
            "ID:  6 | EXP: N |  TOS:  2 | STY:  90 | ARR:  1 |  TTE: -  | QUAL: []\n",
            "ID:  7 | EXP: N |  TOS:  2 | STY:  78 | ARR:  1 |  TTE: -  | QUAL: []\n",
            "ID:  8 | EXP: N |  TOS:  2 | STY:  83 | ARR:  1 |  TTE: -  | QUAL: []\n",
            "ID:  9 | EXP: N |  TOS:  2 | STY:  81 | ARR:  1 |  TTE: -  | QUAL: []\n",
            "ID: 10 | EXP: Y |  TOS:  2 | STY: 263 | ARR:  1 |  TTE:  1 | QUAL: ['FL']\n",
            "ID: 11 | EXP: N |  TOS:  1 | STY:  72 | ARR:  2 |  TTE: -  | QUAL: []\n",
            "ID: 12 | EXP: N |  TOS:  1 | STY:  73 | ARR:  2 |  TTE: -  | QUAL: []\n",
            "ID: 13 | EXP: N |  TOS:  1 | STY:  59 | ARR:  2 |  TTE: -  | QUAL: []\n",
            "ID: 14 | EXP: N |  TOS:  1 | STY:  69 | ARR:  2 |  TTE: -  | QUAL: []\n",
            "ID: 15 | EXP: N |  TOS:  1 | STY:  71 | ARR:  2 |  TTE: -  | QUAL: []\n",
            "ID: 16 | EXP: N |  TOS:  0 | STY:  59 | ARR:  3 |  TTE: -  | QUAL: []\n",
            "ID: 17 | EXP: N |  TOS:  0 | STY:  59 | ARR:  3 |  TTE: -  | QUAL: []\n",
            "ID: 18 | EXP: N |  TOS:  0 | STY:  59 | ARR:  3 |  TTE: -  | QUAL: []\n",
            "ID: 19 | EXP: N |  TOS:  0 | STY:  59 | ARR:  3 |  TTE: -  | QUAL: []\n",
            "ID: 20 | EXP: N |  TOS:  0 | STY:  59 | ARR:  3 |  TTE: -  | QUAL: []\n",
            "PID  3: drew  8, flying  8.\n",
            "PID 14: drew  4, flying  4.\n",
            "PID 15: drew 11, flying 11.\n",
            "PID 18: drew 11, flying 11.\n",
            "PID 16: drew  8, flying  8.\n",
            "PID  7: drew  3, flying  3.\n",
            "PID  4: drew  8, flying  8.\n",
            "PID 12: drew 10, flying 10.\n",
            "PID  9: drew 10, flying 10.\n",
            "PID  5: drew  9, flying  9.\n",
            "PID  2: drew 10, flying 10.\n",
            "PID 17: drew  3, flying  3.\n",
            "PID 13: drew  1, flying  1.\n",
            "PID 20: drew  7, flying  7.\n",
            "PID  1: drew 11, flying 11.\n",
            "PID  6: drew  5, flying  5.\n",
            "PID  8: drew  8, flying  8.\n",
            "PID 11: drew  4, flying  4.\n",
            "PID 19: drew 14, flying 13.\n",
            "EOM INX sorties remaining: 0\n",
            "After outflow:\n",
            "ID: 11 | EXP: N |  TOS:  2 | STY:  76 | ARR:  2 |  TTE: -  | QUAL: []\n",
            "ID: 12 | EXP: N |  TOS:  2 | STY:  83 | ARR:  2 |  TTE: -  | QUAL: []\n",
            "ID: 13 | EXP: N |  TOS:  2 | STY:  60 | ARR:  2 |  TTE: -  | QUAL: []\n",
            "ID: 14 | EXP: N |  TOS:  2 | STY:  73 | ARR:  2 |  TTE: -  | QUAL: []\n",
            "ID: 15 | EXP: N |  TOS:  2 | STY:  82 | ARR:  2 |  TTE: -  | QUAL: []\n",
            "ID: 16 | EXP: N |  TOS:  1 | STY:  67 | ARR:  3 |  TTE: -  | QUAL: []\n",
            "ID: 17 | EXP: N |  TOS:  1 | STY:  62 | ARR:  3 |  TTE: -  | QUAL: []\n",
            "ID: 18 | EXP: N |  TOS:  1 | STY:  70 | ARR:  3 |  TTE: -  | QUAL: []\n",
            "ID: 19 | EXP: N |  TOS:  1 | STY:  72 | ARR:  3 |  TTE: -  | QUAL: []\n",
            "ID: 20 | EXP: N |  TOS:  1 | STY:  66 | ARR:  3 |  TTE: -  | QUAL: []\n"
          ]
        }
      ]
    },
    {
      "cell_type": "code",
      "source": [],
      "metadata": {
        "id": "FLXR21MtZ-rH"
      },
      "execution_count": null,
      "outputs": []
    }
  ]
}